{
 "cells": [
  {
   "cell_type": "code",
   "execution_count": 1,
   "metadata": {},
   "outputs": [
    {
     "name": "stdout",
     "output_type": "stream",
     "text": [
      "Dane zostały pomyślnie wczytane z MSSQL.\n",
      "+---------+--------------------+--------------------+--------+----+-----------+-----------+--------+------+--------------------+--------------------+--------+--------+------------+---------+--------------------+--------------+--------------------+------+------------+--------+--------+--------+--------+--------------------+--------------------+-------+---------+\n",
      "|    DR_NO|           Date Rptd|            DATE OCC|TIME OCC|AREA|  AREA NAME|Rpt Dist No|Part 1-2|Crm Cd|         Crm Cd Desc|             Mocodes|Vict Age|Vict Sex|Vict Descent|Premis Cd|         Premis Desc|Weapon Used Cd|         Weapon Desc|Status| Status Desc|Crm Cd 1|Crm Cd 2|Crm Cd 3|Crm Cd 4|            LOCATION|        Cross Street|    LAT|      LON|\n",
      "+---------+--------------------+--------------------+--------+----+-----------+-----------+--------+------+--------------------+--------------------+--------+--------+------------+---------+--------------------+--------------+--------------------+------+------------+--------+--------+--------+--------+--------------------+--------------------+-------+---------+\n",
      "| 10304468|01/08/2020 12:00:...|01/08/2020 12:00:...|    2230|   3|  Southwest|        377|       2|   624|BATTERY - SIMPLE ...|           0444 0913|      36|       F|           B|    501.0|SINGLE FAMILY DWE...|         400.0|STRONG-ARM (HANDS...|    AO| Adult Other|   624.0|    NULL|    NULL|    NULL|1100 W  39TH     ...|                NULL|34.0141|-118.2978|\n",
      "|201108617|04/22/2020 12:00:...|04/07/2020 12:00:...|    1420|  11|  Northeast|       1143|       2|   354|   THEFT OF IDENTITY|           0930 1822|      48|       M|           H|    707.0|      GARAGE/CARPORT|          NULL|                NULL|    IC| Invest Cont|   354.0|    NULL|    NULL|    NULL|2900    SAINT GEO...|                NULL|34.1097|-118.2739|\n",
      "|200205300|01/27/2020 12:00:...|01/27/2020 12:00:...|    1650|   2|    Rampart|        202|       2|   762|        LEWD CONDUCT|           1259 2004|      16|       F|           H|    101.0|              STREET|          NULL|                NULL|    IC| Invest Cont|   762.0|    NULL|    NULL|    NULL|              HOOVER|SANTA MONICA     ...|34.0909|-118.2846|\n",
      "|200305349|01/24/2020 12:00:...|01/13/2020 12:00:...|    1600|   3|  Southwest|        317|       1|   420|THEFT FROM MOTOR ...|                NULL|       0|    NULL|        NULL|    101.0|              STREET|          NULL|                NULL|    IC| Invest Cont|   420.0|    NULL|    NULL|    NULL|1700 W  22ND     ...|                NULL|34.0364|-118.2976|\n",
      "|200404741|01/20/2020 12:00:...|01/19/2020 12:00:...|    1900|   4| Hollenbeck|        468|       1|   330|BURGLARY FROM VEH...|      1300 1302 0344|      25|       M|           H|    101.0|              STREET|          NULL|                NULL|    IC| Invest Cont|   330.0|    NULL|    NULL|    NULL|             CONCORD|             GLEASON|34.0371|-118.1972|\n",
      "|200505247|01/24/2020 12:00:...|01/24/2020 12:00:...|     900|   5|     Harbor|        514|       1|   230|ASSAULT WITH DEAD...| 0411 0334 2033 1822|      41|       M|           H|    108.0|         PARKING LOT|         207.0|         OTHER KNIFE|    IC| Invest Cont|   230.0|    NULL|    NULL|    NULL|1000 W  ANAHEIM  ...|                NULL|33.7897|-118.2787|\n",
      "|201104160|01/05/2020 12:00:...|01/04/2020 12:00:...|    2115|  11|  Northeast|       1101|       1|   330|BURGLARY FROM VEH...| 0358 1307 0344 1251|      24|       M|           O|    108.0|         PARKING LOT|         500.0|UNKNOWN WEAPON/OT...|    IC| Invest Cont|   330.0|    NULL|    NULL|    NULL|2800 E  OBSERVATO...|                NULL|34.1192|-118.3004|\n",
      "|201113351|09/06/2020 12:00:...|09/06/2020 12:00:...|    1800|  11|  Northeast|       1101|       1|   420|THEFT FROM MOTOR ...|           1608 0385|      43|       M|           H|    101.0|              STREET|          NULL|                NULL|    IC| Invest Cont|   420.0|    NULL|    NULL|    NULL|4700    CRYSTAL S...|                NULL|34.1213| -118.274|\n",
      "|201013917|10/10/2020 12:00:...|10/08/2020 12:00:...|    1030|  10|West Valley|       1008|       1|   331|THEFT FROM MOTOR ...| 1606 1822 0344 1300|      53|       M|           H|    108.0|         PARKING LOT|          NULL|                NULL|    IC| Invest Cont|   331.0|    NULL|    NULL|    NULL|16800    ROSCOE  ...|                NULL|34.2206|-118.4982|\n",
      "|200811145|06/26/2020 12:00:...|06/19/2020 12:00:...|    2000|   8|    West LA|        803|       1|   331|THEFT FROM MOTOR ...|      0344 0385 1822|      59|       F|           O|    101.0|              STREET|          NULL|                NULL|    IC| Invest Cont|   331.0|    NULL|    NULL|    NULL|1600    CAPRI    ...|                NULL|34.0603|-118.5028|\n",
      "|200414818|11/12/2020 12:00:...|11/06/2020 12:00:...|    1700|   4| Hollenbeck|        471|       1|   331|THEFT FROM MOTOR ...|                0344|       0|       M|           X|    108.0|         PARKING LOT|          NULL|                NULL|    IC| Invest Cont|   331.0|    NULL|    NULL|    NULL|2200 E  7TH      ...|                NULL|34.0347|-118.2253|\n",
      "|200814402|09/22/2020 12:00:...|09/21/2020 12:00:...|    2100|   8|    West LA|        832|       2|   740|VANDALISM - FELON...|           0329 1607|      45|       M|           W|    504.0|     OTHER RESIDENCE|          NULL|                NULL|    IC| Invest Cont|   740.0|    NULL|    NULL|    NULL|11800    DOROTHY ...|                NULL|34.0507|-118.4683|\n",
      "|201604904|01/22/2020 12:00:...|01/22/2020 12:00:...|    1800|  16|   Foothill|       1651|       1|   331|THEFT FROM MOTOR ...|           0344 1300|      36|       F|           H|    104.0|            DRIVEWAY|          NULL|                NULL|    AA|Adult Arrest|   331.0|    NULL|    NULL|    NULL|13100    KELOWNA ...|                NULL|34.2512| -118.419|\n",
      "|222007170|03/16/2022 12:00:...|03/15/2020 12:00:...|     920|  20|    Olympic|       2054|       2|   740|VANDALISM - FELON...|      0329 0913 2001|      70|       M|           K|    502.0|MULTI-UNIT DWELLI...|          NULL|                NULL|    IC| Invest Cont|   740.0|    NULL|    NULL|    NULL|3200    SAN MARIN...|                NULL|34.0545|-118.2999|\n",
      "|200109480|03/20/2020 12:00:...|03/20/2020 12:00:...|    1500|   1|    Central|        174|       1|   330|BURGLARY FROM VEH...|1307 0329 1822 16...|      30|       M|           O|    108.0|         PARKING LOT|          NULL|                NULL|    IC| Invest Cont|   330.0|    NULL|    NULL|    NULL|700 S  SPRING    ...|                NULL|34.0445|-118.2523|\n",
      "|200811056|06/24/2020 12:00:...|06/24/2020 12:00:...|     730|   8|    West LA|        831|       2|   940|           EXTORTION| 1915 1822 1913 1912|      47|       M|           W|    501.0|SINGLE FAMILY DWE...|          NULL|                NULL|    IC| Invest Cont|   940.0|    NULL|    NULL|    NULL|11900    MAYFIELD...|                NULL|34.0476|-118.4686|\n",
      "|200713461|09/04/2020 12:00:...|09/03/2020 12:00:...|    2236|   7|   Wilshire|        724|       1|   510|    VEHICLE - STOLEN|                NULL|       0|    NULL|        NULL|    707.0|      GARAGE/CARPORT|          NULL|                NULL|    IC| Invest Cont|   510.0|    NULL|    NULL|    NULL|100    THE GROVE ...|                NULL|34.0747|-118.3563|\n",
      "|200107191|02/15/2020 12:00:...|02/14/2020 12:00:...|    1030|   1|    Central|        124|       2|   624|BATTERY - SIMPLE ...|           0416 1601|      52|       M|           W|    725.0|GOVERNMENT FACILI...|         400.0|STRONG-ARM (HANDS...|    IC| Invest Cont|   624.0|    NULL|    NULL|    NULL|200 N  MAIN      ...|                NULL|34.0532|-118.2425|\n",
      "|200100536|01/14/2020 12:00:...|01/14/2020 12:00:...|    1400|   1|    Central|        119|       2|   624|BATTERY - SIMPLE ...|      0447 0910 1822|       0|       M|           H|    834.0|LA UNION STATION ...|         400.0|STRONG-ARM (HANDS...|    AO| Adult Other|   624.0|    NULL|    NULL|    NULL|800 N  ALAMEDA   ...|                NULL|34.0563|-118.2374|\n",
      "|200206020|02/10/2020 12:00:...|02/10/2020 12:00:...|     855|   2|    Rampart|        245|       2|   888|         TRESPASSING|                NULL|      61|       M|           A|    502.0|MULTI-UNIT DWELLI...|          NULL|                NULL|    IC| Invest Cont|   888.0|    NULL|    NULL|    NULL|500 S  PARK VIEW ...|                NULL|34.0632|-118.2771|\n",
      "+---------+--------------------+--------------------+--------+----+-----------+-----------+--------+------+--------------------+--------------------+--------+--------+------------+---------+--------------------+--------------+--------------------+------+------------+--------+--------+--------+--------+--------------------+--------------------+-------+---------+\n",
      "only showing top 20 rows\n",
      "\n"
     ]
    }
   ],
   "source": [
    "from pyspark.sql import SparkSession\n",
    "\n",
    "try:\n",
    "    # Tworzenie sesji Spark\n",
    "    spark = SparkSession.builder \\\n",
    "        .appName(\"PySpark SQL Server Connection\") \\\n",
    "        .config(\"spark.jars\", \"C:\\\\Projekty\\\\Wielowymiarowa\\\\Wielowymiarowa_analiza_danych\\\\sqljdbc_12.6\\\\enu\\\\jars\\\\mssql-jdbc-12.6.1.jre8.jar\") \\\n",
    "        .getOrCreate()\n",
    "\n",
    "    # Parametry połączenia z bazą danych MSSQL\n",
    "    server_name = \"localhost\"\n",
    "    port = \"1433\"\n",
    "    database_name = \"NowaBazaDanych2\"\n",
    "    url = f\"jdbc:sqlserver://{server_name}:{port};databaseName={database_name}\"\n",
    "\n",
    "    table_name = \"Pracownicy15\"\n",
    "    username = \"sa\"\n",
    "    password = \"YourStrongPassword123\"\n",
    "\n",
    "    # Wczytanie danych z bazy danych MSSQL\n",
    "    df = spark.read \\\n",
    "        .format(\"jdbc\") \\\n",
    "        .option(\"url\", url) \\\n",
    "        .option(\"dbtable\", table_name) \\\n",
    "        .option(\"user\", username) \\\n",
    "        .option(\"password\", password) \\\n",
    "        .option(\"encrypt\", \"false\") \\\n",
    "        .option(\"driver\", \"com.microsoft.sqlserver.jdbc.SQLServerDriver\") \\\n",
    "        .load()\n",
    "\n",
    "    print(\"Dane zostały pomyślnie wczytane z MSSQL.\")\n",
    "    # Wyświetlenie pierwszych kilku wierszy DataFrame\n",
    "    df.show()\n",
    "\n",
    "except Exception as e:\n",
    "    print(\"Wystąpił błąd podczas łączenia z bazą danych:\", str(e))\n",
    "\n"
   ]
  },
  {
   "cell_type": "code",
   "execution_count": 2,
   "metadata": {},
   "outputs": [
    {
     "name": "stdout",
     "output_type": "stream",
     "text": [
      "+---------+--------------------+--------------------+--------+----+-----------+-----------+--------+------+--------------------+-------------------+--------+--------+------------+---------+--------------------+--------------+--------------------+------+-----------+--------+--------+--------+--------+--------------------+--------------------+-------+---------+\n",
      "|    DR_NO|           Date Rptd|            DATE OCC|TIME OCC|AREA|  AREA NAME|Rpt Dist No|Part 1-2|Crm Cd|         Crm Cd Desc|            Mocodes|Vict Age|Vict Sex|Vict Descent|Premis Cd|         Premis Desc|Weapon Used Cd|         Weapon Desc|Status|Status Desc|Crm Cd 1|Crm Cd 2|Crm Cd 3|Crm Cd 4|            LOCATION|        Cross Street|    LAT|      LON|\n",
      "+---------+--------------------+--------------------+--------+----+-----------+-----------+--------+------+--------------------+-------------------+--------+--------+------------+---------+--------------------+--------------+--------------------+------+-----------+--------+--------+--------+--------+--------------------+--------------------+-------+---------+\n",
      "| 10304468|01/08/2020 12:00:...|01/08/2020 12:00:...|    2230|   3|  Southwest|        377|       2|   624|BATTERY - SIMPLE ...|          0444 0913|      36|       F|           B|    501.0|SINGLE FAMILY DWE...|         400.0|STRONG-ARM (HANDS...|    AO|Adult Other|   624.0|    NULL|    NULL|    NULL|1100 W  39TH     ...|                NULL|34.0141|-118.2978|\n",
      "|201108617|04/22/2020 12:00:...|04/07/2020 12:00:...|    1420|  11|  Northeast|       1143|       2|   354|   THEFT OF IDENTITY|          0930 1822|      48|       M|           H|    707.0|      GARAGE/CARPORT|          NULL|                NULL|    IC|Invest Cont|   354.0|    NULL|    NULL|    NULL|2900    SAINT GEO...|                NULL|34.1097|-118.2739|\n",
      "|200205300|01/27/2020 12:00:...|01/27/2020 12:00:...|    1650|   2|    Rampart|        202|       2|   762|        LEWD CONDUCT|          1259 2004|      16|       F|           H|    101.0|              STREET|          NULL|                NULL|    IC|Invest Cont|   762.0|    NULL|    NULL|    NULL|              HOOVER|SANTA MONICA     ...|34.0909|-118.2846|\n",
      "|200305349|01/24/2020 12:00:...|01/13/2020 12:00:...|    1600|   3|  Southwest|        317|       1|   420|THEFT FROM MOTOR ...|               NULL|       0|    NULL|        NULL|    101.0|              STREET|          NULL|                NULL|    IC|Invest Cont|   420.0|    NULL|    NULL|    NULL|1700 W  22ND     ...|                NULL|34.0364|-118.2976|\n",
      "|200404741|01/20/2020 12:00:...|01/19/2020 12:00:...|    1900|   4| Hollenbeck|        468|       1|   330|BURGLARY FROM VEH...|     1300 1302 0344|      25|       M|           H|    101.0|              STREET|          NULL|                NULL|    IC|Invest Cont|   330.0|    NULL|    NULL|    NULL|             CONCORD|             GLEASON|34.0371|-118.1972|\n",
      "|200505247|01/24/2020 12:00:...|01/24/2020 12:00:...|     900|   5|     Harbor|        514|       1|   230|ASSAULT WITH DEAD...|0411 0334 2033 1822|      41|       M|           H|    108.0|         PARKING LOT|         207.0|         OTHER KNIFE|    IC|Invest Cont|   230.0|    NULL|    NULL|    NULL|1000 W  ANAHEIM  ...|                NULL|33.7897|-118.2787|\n",
      "|201104160|01/05/2020 12:00:...|01/04/2020 12:00:...|    2115|  11|  Northeast|       1101|       1|   330|BURGLARY FROM VEH...|0358 1307 0344 1251|      24|       M|           O|    108.0|         PARKING LOT|         500.0|UNKNOWN WEAPON/OT...|    IC|Invest Cont|   330.0|    NULL|    NULL|    NULL|2800 E  OBSERVATO...|                NULL|34.1192|-118.3004|\n",
      "|201113351|09/06/2020 12:00:...|09/06/2020 12:00:...|    1800|  11|  Northeast|       1101|       1|   420|THEFT FROM MOTOR ...|          1608 0385|      43|       M|           H|    101.0|              STREET|          NULL|                NULL|    IC|Invest Cont|   420.0|    NULL|    NULL|    NULL|4700    CRYSTAL S...|                NULL|34.1213| -118.274|\n",
      "|201013917|10/10/2020 12:00:...|10/08/2020 12:00:...|    1030|  10|West Valley|       1008|       1|   331|THEFT FROM MOTOR ...|1606 1822 0344 1300|      53|       M|           H|    108.0|         PARKING LOT|          NULL|                NULL|    IC|Invest Cont|   331.0|    NULL|    NULL|    NULL|16800    ROSCOE  ...|                NULL|34.2206|-118.4982|\n",
      "|200811145|06/26/2020 12:00:...|06/19/2020 12:00:...|    2000|   8|    West LA|        803|       1|   331|THEFT FROM MOTOR ...|     0344 0385 1822|      59|       F|           O|    101.0|              STREET|          NULL|                NULL|    IC|Invest Cont|   331.0|    NULL|    NULL|    NULL|1600    CAPRI    ...|                NULL|34.0603|-118.5028|\n",
      "+---------+--------------------+--------------------+--------+----+-----------+-----------+--------+------+--------------------+-------------------+--------+--------+------------+---------+--------------------+--------------+--------------------+------+-----------+--------+--------+--------+--------+--------------------+--------------------+-------+---------+\n",
      "only showing top 10 rows\n",
      "\n"
     ]
    }
   ],
   "source": [
    "df.show(10)"
   ]
  },
  {
   "cell_type": "code",
   "execution_count": 3,
   "metadata": {},
   "outputs": [],
   "source": [
    "\n",
    "# Zakończenie sesji Spark\n",
    "spark.stop()"
   ]
  },
  {
   "cell_type": "code",
   "execution_count": 3,
   "metadata": {},
   "outputs": [
    {
     "ename": "Py4JJavaError",
     "evalue": "An error occurred while calling o99.save.\n: java.sql.SQLException: No suitable driver\r\n\tat java.sql/java.sql.DriverManager.getDriver(DriverManager.java:300)\r\n\tat org.apache.spark.sql.execution.datasources.jdbc.JDBCOptions.$anonfun$driverClass$2(JDBCOptions.scala:109)\r\n\tat scala.Option.getOrElse(Option.scala:189)\r\n\tat org.apache.spark.sql.execution.datasources.jdbc.JDBCOptions.<init>(JDBCOptions.scala:109)\r\n\tat org.apache.spark.sql.execution.datasources.jdbc.JdbcOptionsInWrite.<init>(JDBCOptions.scala:254)\r\n\tat org.apache.spark.sql.execution.datasources.jdbc.JdbcOptionsInWrite.<init>(JDBCOptions.scala:258)\r\n\tat org.apache.spark.sql.execution.datasources.jdbc.JdbcRelationProvider.createRelation(JdbcRelationProvider.scala:47)\r\n\tat org.apache.spark.sql.execution.datasources.SaveIntoDataSourceCommand.run(SaveIntoDataSourceCommand.scala:48)\r\n\tat org.apache.spark.sql.execution.command.ExecutedCommandExec.sideEffectResult$lzycompute(commands.scala:75)\r\n\tat org.apache.spark.sql.execution.command.ExecutedCommandExec.sideEffectResult(commands.scala:73)\r\n\tat org.apache.spark.sql.execution.command.ExecutedCommandExec.executeCollect(commands.scala:84)\r\n\tat org.apache.spark.sql.execution.QueryExecution$$anonfun$eagerlyExecuteCommands$1.$anonfun$applyOrElse$1(QueryExecution.scala:107)\r\n\tat org.apache.spark.sql.execution.SQLExecution$.$anonfun$withNewExecutionId$6(SQLExecution.scala:125)\r\n\tat org.apache.spark.sql.execution.SQLExecution$.withSQLConfPropagated(SQLExecution.scala:201)\r\n\tat org.apache.spark.sql.execution.SQLExecution$.$anonfun$withNewExecutionId$1(SQLExecution.scala:108)\r\n\tat org.apache.spark.sql.SparkSession.withActive(SparkSession.scala:900)\r\n\tat org.apache.spark.sql.execution.SQLExecution$.withNewExecutionId(SQLExecution.scala:66)\r\n\tat org.apache.spark.sql.execution.QueryExecution$$anonfun$eagerlyExecuteCommands$1.applyOrElse(QueryExecution.scala:107)\r\n\tat org.apache.spark.sql.execution.QueryExecution$$anonfun$eagerlyExecuteCommands$1.applyOrElse(QueryExecution.scala:98)\r\n\tat org.apache.spark.sql.catalyst.trees.TreeNode.$anonfun$transformDownWithPruning$1(TreeNode.scala:461)\r\n\tat org.apache.spark.sql.catalyst.trees.CurrentOrigin$.withOrigin(origin.scala:76)\r\n\tat org.apache.spark.sql.catalyst.trees.TreeNode.transformDownWithPruning(TreeNode.scala:461)\r\n\tat org.apache.spark.sql.catalyst.plans.logical.LogicalPlan.org$apache$spark$sql$catalyst$plans$logical$AnalysisHelper$$super$transformDownWithPruning(LogicalPlan.scala:32)\r\n\tat org.apache.spark.sql.catalyst.plans.logical.AnalysisHelper.transformDownWithPruning(AnalysisHelper.scala:267)\r\n\tat org.apache.spark.sql.catalyst.plans.logical.AnalysisHelper.transformDownWithPruning$(AnalysisHelper.scala:263)\r\n\tat org.apache.spark.sql.catalyst.plans.logical.LogicalPlan.transformDownWithPruning(LogicalPlan.scala:32)\r\n\tat org.apache.spark.sql.catalyst.plans.logical.LogicalPlan.transformDownWithPruning(LogicalPlan.scala:32)\r\n\tat org.apache.spark.sql.catalyst.trees.TreeNode.transformDown(TreeNode.scala:437)\r\n\tat org.apache.spark.sql.execution.QueryExecution.eagerlyExecuteCommands(QueryExecution.scala:98)\r\n\tat org.apache.spark.sql.execution.QueryExecution.commandExecuted$lzycompute(QueryExecution.scala:85)\r\n\tat org.apache.spark.sql.execution.QueryExecution.commandExecuted(QueryExecution.scala:83)\r\n\tat org.apache.spark.sql.execution.QueryExecution.assertCommandExecuted(QueryExecution.scala:142)\r\n\tat org.apache.spark.sql.DataFrameWriter.runCommand(DataFrameWriter.scala:859)\r\n\tat org.apache.spark.sql.DataFrameWriter.saveToV1Source(DataFrameWriter.scala:388)\r\n\tat org.apache.spark.sql.DataFrameWriter.saveInternal(DataFrameWriter.scala:361)\r\n\tat org.apache.spark.sql.DataFrameWriter.save(DataFrameWriter.scala:248)\r\n\tat java.base/jdk.internal.reflect.NativeMethodAccessorImpl.invoke0(Native Method)\r\n\tat java.base/jdk.internal.reflect.NativeMethodAccessorImpl.invoke(NativeMethodAccessorImpl.java:75)\r\n\tat java.base/jdk.internal.reflect.DelegatingMethodAccessorImpl.invoke(DelegatingMethodAccessorImpl.java:52)\r\n\tat java.base/java.lang.reflect.Method.invoke(Method.java:580)\r\n\tat py4j.reflection.MethodInvoker.invoke(MethodInvoker.java:244)\r\n\tat py4j.reflection.ReflectionEngine.invoke(ReflectionEngine.java:374)\r\n\tat py4j.Gateway.invoke(Gateway.java:282)\r\n\tat py4j.commands.AbstractCommand.invokeMethod(AbstractCommand.java:132)\r\n\tat py4j.commands.CallCommand.execute(CallCommand.java:79)\r\n\tat py4j.ClientServerConnection.waitForCommands(ClientServerConnection.java:182)\r\n\tat py4j.ClientServerConnection.run(ClientServerConnection.java:106)\r\n\tat java.base/java.lang.Thread.run(Thread.java:1583)\r\n",
     "output_type": "error",
     "traceback": [
      "\u001b[1;31m---------------------------------------------------------------------------\u001b[0m",
      "\u001b[1;31mPy4JJavaError\u001b[0m                             Traceback (most recent call last)",
      "Cell \u001b[1;32mIn[3], line 28\u001b[0m\n\u001b[0;32m     18\u001b[0m df \u001b[38;5;241m=\u001b[39m spark\u001b[38;5;241m.\u001b[39mcreateDataFrame(pandas_df)\n\u001b[0;32m     20\u001b[0m \u001b[38;5;66;03m# Zapis danych do bazy danych PostgreSQL\u001b[39;00m\n\u001b[0;32m     21\u001b[0m \u001b[43mdf\u001b[49m\u001b[38;5;241;43m.\u001b[39;49m\u001b[43mwrite\u001b[49m\u001b[43m \u001b[49m\u001b[43m\\\u001b[49m\n\u001b[0;32m     22\u001b[0m \u001b[43m    \u001b[49m\u001b[38;5;241;43m.\u001b[39;49m\u001b[43mformat\u001b[49m\u001b[43m(\u001b[49m\u001b[38;5;124;43m\"\u001b[39;49m\u001b[38;5;124;43mjdbc\u001b[39;49m\u001b[38;5;124;43m\"\u001b[39;49m\u001b[43m)\u001b[49m\u001b[43m \u001b[49m\u001b[43m\\\u001b[49m\n\u001b[0;32m     23\u001b[0m \u001b[43m    \u001b[49m\u001b[38;5;241;43m.\u001b[39;49m\u001b[43moption\u001b[49m\u001b[43m(\u001b[49m\u001b[38;5;124;43m\"\u001b[39;49m\u001b[38;5;124;43murl\u001b[39;49m\u001b[38;5;124;43m\"\u001b[39;49m\u001b[43m,\u001b[49m\u001b[43m \u001b[49m\u001b[38;5;124;43m\"\u001b[39;49m\u001b[38;5;124;43mjdbc:postgresql://localhost:5432/my_database\u001b[39;49m\u001b[38;5;124;43m\"\u001b[39;49m\u001b[43m)\u001b[49m\u001b[43m \u001b[49m\u001b[43m\\\u001b[49m\n\u001b[0;32m     24\u001b[0m \u001b[43m    \u001b[49m\u001b[38;5;241;43m.\u001b[39;49m\u001b[43moption\u001b[49m\u001b[43m(\u001b[49m\u001b[38;5;124;43m\"\u001b[39;49m\u001b[38;5;124;43mdbtable\u001b[39;49m\u001b[38;5;124;43m\"\u001b[39;49m\u001b[43m,\u001b[49m\u001b[43m \u001b[49m\u001b[38;5;124;43m\"\u001b[39;49m\u001b[38;5;124;43mtable_name5\u001b[39;49m\u001b[38;5;124;43m\"\u001b[39;49m\u001b[43m)\u001b[49m\u001b[43m \u001b[49m\u001b[43m\\\u001b[49m\n\u001b[0;32m     25\u001b[0m \u001b[43m    \u001b[49m\u001b[38;5;241;43m.\u001b[39;49m\u001b[43moption\u001b[49m\u001b[43m(\u001b[49m\u001b[38;5;124;43m\"\u001b[39;49m\u001b[38;5;124;43muser\u001b[39;49m\u001b[38;5;124;43m\"\u001b[39;49m\u001b[43m,\u001b[49m\u001b[43m \u001b[49m\u001b[38;5;124;43m\"\u001b[39;49m\u001b[38;5;124;43mmy_user\u001b[39;49m\u001b[38;5;124;43m\"\u001b[39;49m\u001b[43m)\u001b[49m\u001b[43m \u001b[49m\u001b[43m\\\u001b[49m\n\u001b[0;32m     26\u001b[0m \u001b[43m    \u001b[49m\u001b[38;5;241;43m.\u001b[39;49m\u001b[43moption\u001b[49m\u001b[43m(\u001b[49m\u001b[38;5;124;43m\"\u001b[39;49m\u001b[38;5;124;43mpassword\u001b[39;49m\u001b[38;5;124;43m\"\u001b[39;49m\u001b[43m,\u001b[49m\u001b[43m \u001b[49m\u001b[38;5;124;43m\"\u001b[39;49m\u001b[38;5;124;43m123\u001b[39;49m\u001b[38;5;124;43m\"\u001b[39;49m\u001b[43m)\u001b[49m\u001b[43m \u001b[49m\u001b[43m\\\u001b[49m\n\u001b[0;32m     27\u001b[0m \u001b[43m    \u001b[49m\u001b[38;5;241;43m.\u001b[39;49m\u001b[43mmode\u001b[49m\u001b[43m(\u001b[49m\u001b[38;5;124;43m\"\u001b[39;49m\u001b[38;5;124;43mappend\u001b[39;49m\u001b[38;5;124;43m\"\u001b[39;49m\u001b[43m)\u001b[49m\u001b[43m \u001b[49m\u001b[43m\\\u001b[49m\n\u001b[1;32m---> 28\u001b[0m \u001b[43m    \u001b[49m\u001b[38;5;241;43m.\u001b[39;49m\u001b[43msave\u001b[49m\u001b[43m(\u001b[49m\u001b[43m)\u001b[49m\n\u001b[0;32m     30\u001b[0m \u001b[38;5;66;03m# Zakończenie sesji Spark\u001b[39;00m\n\u001b[0;32m     31\u001b[0m spark\u001b[38;5;241m.\u001b[39mstop()\n",
      "File \u001b[1;32m~\\AppData\\Local\\Packages\\PythonSoftwareFoundation.Python.3.11_qbz5n2kfra8p0\\LocalCache\\local-packages\\Python311\\site-packages\\pyspark\\sql\\readwriter.py:1461\u001b[0m, in \u001b[0;36mDataFrameWriter.save\u001b[1;34m(self, path, format, mode, partitionBy, **options)\u001b[0m\n\u001b[0;32m   1459\u001b[0m     \u001b[38;5;28mself\u001b[39m\u001b[38;5;241m.\u001b[39mformat(\u001b[38;5;28mformat\u001b[39m)\n\u001b[0;32m   1460\u001b[0m \u001b[38;5;28;01mif\u001b[39;00m path \u001b[38;5;129;01mis\u001b[39;00m \u001b[38;5;28;01mNone\u001b[39;00m:\n\u001b[1;32m-> 1461\u001b[0m     \u001b[38;5;28;43mself\u001b[39;49m\u001b[38;5;241;43m.\u001b[39;49m\u001b[43m_jwrite\u001b[49m\u001b[38;5;241;43m.\u001b[39;49m\u001b[43msave\u001b[49m\u001b[43m(\u001b[49m\u001b[43m)\u001b[49m\n\u001b[0;32m   1462\u001b[0m \u001b[38;5;28;01melse\u001b[39;00m:\n\u001b[0;32m   1463\u001b[0m     \u001b[38;5;28mself\u001b[39m\u001b[38;5;241m.\u001b[39m_jwrite\u001b[38;5;241m.\u001b[39msave(path)\n",
      "File \u001b[1;32m~\\AppData\\Local\\Packages\\PythonSoftwareFoundation.Python.3.11_qbz5n2kfra8p0\\LocalCache\\local-packages\\Python311\\site-packages\\py4j\\java_gateway.py:1322\u001b[0m, in \u001b[0;36mJavaMember.__call__\u001b[1;34m(self, *args)\u001b[0m\n\u001b[0;32m   1316\u001b[0m command \u001b[38;5;241m=\u001b[39m proto\u001b[38;5;241m.\u001b[39mCALL_COMMAND_NAME \u001b[38;5;241m+\u001b[39m\\\n\u001b[0;32m   1317\u001b[0m     \u001b[38;5;28mself\u001b[39m\u001b[38;5;241m.\u001b[39mcommand_header \u001b[38;5;241m+\u001b[39m\\\n\u001b[0;32m   1318\u001b[0m     args_command \u001b[38;5;241m+\u001b[39m\\\n\u001b[0;32m   1319\u001b[0m     proto\u001b[38;5;241m.\u001b[39mEND_COMMAND_PART\n\u001b[0;32m   1321\u001b[0m answer \u001b[38;5;241m=\u001b[39m \u001b[38;5;28mself\u001b[39m\u001b[38;5;241m.\u001b[39mgateway_client\u001b[38;5;241m.\u001b[39msend_command(command)\n\u001b[1;32m-> 1322\u001b[0m return_value \u001b[38;5;241m=\u001b[39m \u001b[43mget_return_value\u001b[49m\u001b[43m(\u001b[49m\n\u001b[0;32m   1323\u001b[0m \u001b[43m    \u001b[49m\u001b[43manswer\u001b[49m\u001b[43m,\u001b[49m\u001b[43m \u001b[49m\u001b[38;5;28;43mself\u001b[39;49m\u001b[38;5;241;43m.\u001b[39;49m\u001b[43mgateway_client\u001b[49m\u001b[43m,\u001b[49m\u001b[43m \u001b[49m\u001b[38;5;28;43mself\u001b[39;49m\u001b[38;5;241;43m.\u001b[39;49m\u001b[43mtarget_id\u001b[49m\u001b[43m,\u001b[49m\u001b[43m \u001b[49m\u001b[38;5;28;43mself\u001b[39;49m\u001b[38;5;241;43m.\u001b[39;49m\u001b[43mname\u001b[49m\u001b[43m)\u001b[49m\n\u001b[0;32m   1325\u001b[0m \u001b[38;5;28;01mfor\u001b[39;00m temp_arg \u001b[38;5;129;01min\u001b[39;00m temp_args:\n\u001b[0;32m   1326\u001b[0m     \u001b[38;5;28;01mif\u001b[39;00m \u001b[38;5;28mhasattr\u001b[39m(temp_arg, \u001b[38;5;124m\"\u001b[39m\u001b[38;5;124m_detach\u001b[39m\u001b[38;5;124m\"\u001b[39m):\n",
      "File \u001b[1;32m~\\AppData\\Local\\Packages\\PythonSoftwareFoundation.Python.3.11_qbz5n2kfra8p0\\LocalCache\\local-packages\\Python311\\site-packages\\pyspark\\errors\\exceptions\\captured.py:179\u001b[0m, in \u001b[0;36mcapture_sql_exception.<locals>.deco\u001b[1;34m(*a, **kw)\u001b[0m\n\u001b[0;32m    177\u001b[0m \u001b[38;5;28;01mdef\u001b[39;00m \u001b[38;5;21mdeco\u001b[39m(\u001b[38;5;241m*\u001b[39ma: Any, \u001b[38;5;241m*\u001b[39m\u001b[38;5;241m*\u001b[39mkw: Any) \u001b[38;5;241m-\u001b[39m\u001b[38;5;241m>\u001b[39m Any:\n\u001b[0;32m    178\u001b[0m     \u001b[38;5;28;01mtry\u001b[39;00m:\n\u001b[1;32m--> 179\u001b[0m         \u001b[38;5;28;01mreturn\u001b[39;00m \u001b[43mf\u001b[49m\u001b[43m(\u001b[49m\u001b[38;5;241;43m*\u001b[39;49m\u001b[43ma\u001b[49m\u001b[43m,\u001b[49m\u001b[43m \u001b[49m\u001b[38;5;241;43m*\u001b[39;49m\u001b[38;5;241;43m*\u001b[39;49m\u001b[43mkw\u001b[49m\u001b[43m)\u001b[49m\n\u001b[0;32m    180\u001b[0m     \u001b[38;5;28;01mexcept\u001b[39;00m Py4JJavaError \u001b[38;5;28;01mas\u001b[39;00m e:\n\u001b[0;32m    181\u001b[0m         converted \u001b[38;5;241m=\u001b[39m convert_exception(e\u001b[38;5;241m.\u001b[39mjava_exception)\n",
      "File \u001b[1;32m~\\AppData\\Local\\Packages\\PythonSoftwareFoundation.Python.3.11_qbz5n2kfra8p0\\LocalCache\\local-packages\\Python311\\site-packages\\py4j\\protocol.py:326\u001b[0m, in \u001b[0;36mget_return_value\u001b[1;34m(answer, gateway_client, target_id, name)\u001b[0m\n\u001b[0;32m    324\u001b[0m value \u001b[38;5;241m=\u001b[39m OUTPUT_CONVERTER[\u001b[38;5;28mtype\u001b[39m](answer[\u001b[38;5;241m2\u001b[39m:], gateway_client)\n\u001b[0;32m    325\u001b[0m \u001b[38;5;28;01mif\u001b[39;00m answer[\u001b[38;5;241m1\u001b[39m] \u001b[38;5;241m==\u001b[39m REFERENCE_TYPE:\n\u001b[1;32m--> 326\u001b[0m     \u001b[38;5;28;01mraise\u001b[39;00m Py4JJavaError(\n\u001b[0;32m    327\u001b[0m         \u001b[38;5;124m\"\u001b[39m\u001b[38;5;124mAn error occurred while calling \u001b[39m\u001b[38;5;132;01m{0}\u001b[39;00m\u001b[38;5;132;01m{1}\u001b[39;00m\u001b[38;5;132;01m{2}\u001b[39;00m\u001b[38;5;124m.\u001b[39m\u001b[38;5;130;01m\\n\u001b[39;00m\u001b[38;5;124m\"\u001b[39m\u001b[38;5;241m.\u001b[39m\n\u001b[0;32m    328\u001b[0m         \u001b[38;5;28mformat\u001b[39m(target_id, \u001b[38;5;124m\"\u001b[39m\u001b[38;5;124m.\u001b[39m\u001b[38;5;124m\"\u001b[39m, name), value)\n\u001b[0;32m    329\u001b[0m \u001b[38;5;28;01melse\u001b[39;00m:\n\u001b[0;32m    330\u001b[0m     \u001b[38;5;28;01mraise\u001b[39;00m Py4JError(\n\u001b[0;32m    331\u001b[0m         \u001b[38;5;124m\"\u001b[39m\u001b[38;5;124mAn error occurred while calling \u001b[39m\u001b[38;5;132;01m{0}\u001b[39;00m\u001b[38;5;132;01m{1}\u001b[39;00m\u001b[38;5;132;01m{2}\u001b[39;00m\u001b[38;5;124m. Trace:\u001b[39m\u001b[38;5;130;01m\\n\u001b[39;00m\u001b[38;5;132;01m{3}\u001b[39;00m\u001b[38;5;130;01m\\n\u001b[39;00m\u001b[38;5;124m\"\u001b[39m\u001b[38;5;241m.\u001b[39m\n\u001b[0;32m    332\u001b[0m         \u001b[38;5;28mformat\u001b[39m(target_id, \u001b[38;5;124m\"\u001b[39m\u001b[38;5;124m.\u001b[39m\u001b[38;5;124m\"\u001b[39m, name, value))\n",
      "\u001b[1;31mPy4JJavaError\u001b[0m: An error occurred while calling o99.save.\n: java.sql.SQLException: No suitable driver\r\n\tat java.sql/java.sql.DriverManager.getDriver(DriverManager.java:300)\r\n\tat org.apache.spark.sql.execution.datasources.jdbc.JDBCOptions.$anonfun$driverClass$2(JDBCOptions.scala:109)\r\n\tat scala.Option.getOrElse(Option.scala:189)\r\n\tat org.apache.spark.sql.execution.datasources.jdbc.JDBCOptions.<init>(JDBCOptions.scala:109)\r\n\tat org.apache.spark.sql.execution.datasources.jdbc.JdbcOptionsInWrite.<init>(JDBCOptions.scala:254)\r\n\tat org.apache.spark.sql.execution.datasources.jdbc.JdbcOptionsInWrite.<init>(JDBCOptions.scala:258)\r\n\tat org.apache.spark.sql.execution.datasources.jdbc.JdbcRelationProvider.createRelation(JdbcRelationProvider.scala:47)\r\n\tat org.apache.spark.sql.execution.datasources.SaveIntoDataSourceCommand.run(SaveIntoDataSourceCommand.scala:48)\r\n\tat org.apache.spark.sql.execution.command.ExecutedCommandExec.sideEffectResult$lzycompute(commands.scala:75)\r\n\tat org.apache.spark.sql.execution.command.ExecutedCommandExec.sideEffectResult(commands.scala:73)\r\n\tat org.apache.spark.sql.execution.command.ExecutedCommandExec.executeCollect(commands.scala:84)\r\n\tat org.apache.spark.sql.execution.QueryExecution$$anonfun$eagerlyExecuteCommands$1.$anonfun$applyOrElse$1(QueryExecution.scala:107)\r\n\tat org.apache.spark.sql.execution.SQLExecution$.$anonfun$withNewExecutionId$6(SQLExecution.scala:125)\r\n\tat org.apache.spark.sql.execution.SQLExecution$.withSQLConfPropagated(SQLExecution.scala:201)\r\n\tat org.apache.spark.sql.execution.SQLExecution$.$anonfun$withNewExecutionId$1(SQLExecution.scala:108)\r\n\tat org.apache.spark.sql.SparkSession.withActive(SparkSession.scala:900)\r\n\tat org.apache.spark.sql.execution.SQLExecution$.withNewExecutionId(SQLExecution.scala:66)\r\n\tat org.apache.spark.sql.execution.QueryExecution$$anonfun$eagerlyExecuteCommands$1.applyOrElse(QueryExecution.scala:107)\r\n\tat org.apache.spark.sql.execution.QueryExecution$$anonfun$eagerlyExecuteCommands$1.applyOrElse(QueryExecution.scala:98)\r\n\tat org.apache.spark.sql.catalyst.trees.TreeNode.$anonfun$transformDownWithPruning$1(TreeNode.scala:461)\r\n\tat org.apache.spark.sql.catalyst.trees.CurrentOrigin$.withOrigin(origin.scala:76)\r\n\tat org.apache.spark.sql.catalyst.trees.TreeNode.transformDownWithPruning(TreeNode.scala:461)\r\n\tat org.apache.spark.sql.catalyst.plans.logical.LogicalPlan.org$apache$spark$sql$catalyst$plans$logical$AnalysisHelper$$super$transformDownWithPruning(LogicalPlan.scala:32)\r\n\tat org.apache.spark.sql.catalyst.plans.logical.AnalysisHelper.transformDownWithPruning(AnalysisHelper.scala:267)\r\n\tat org.apache.spark.sql.catalyst.plans.logical.AnalysisHelper.transformDownWithPruning$(AnalysisHelper.scala:263)\r\n\tat org.apache.spark.sql.catalyst.plans.logical.LogicalPlan.transformDownWithPruning(LogicalPlan.scala:32)\r\n\tat org.apache.spark.sql.catalyst.plans.logical.LogicalPlan.transformDownWithPruning(LogicalPlan.scala:32)\r\n\tat org.apache.spark.sql.catalyst.trees.TreeNode.transformDown(TreeNode.scala:437)\r\n\tat org.apache.spark.sql.execution.QueryExecution.eagerlyExecuteCommands(QueryExecution.scala:98)\r\n\tat org.apache.spark.sql.execution.QueryExecution.commandExecuted$lzycompute(QueryExecution.scala:85)\r\n\tat org.apache.spark.sql.execution.QueryExecution.commandExecuted(QueryExecution.scala:83)\r\n\tat org.apache.spark.sql.execution.QueryExecution.assertCommandExecuted(QueryExecution.scala:142)\r\n\tat org.apache.spark.sql.DataFrameWriter.runCommand(DataFrameWriter.scala:859)\r\n\tat org.apache.spark.sql.DataFrameWriter.saveToV1Source(DataFrameWriter.scala:388)\r\n\tat org.apache.spark.sql.DataFrameWriter.saveInternal(DataFrameWriter.scala:361)\r\n\tat org.apache.spark.sql.DataFrameWriter.save(DataFrameWriter.scala:248)\r\n\tat java.base/jdk.internal.reflect.NativeMethodAccessorImpl.invoke0(Native Method)\r\n\tat java.base/jdk.internal.reflect.NativeMethodAccessorImpl.invoke(NativeMethodAccessorImpl.java:75)\r\n\tat java.base/jdk.internal.reflect.DelegatingMethodAccessorImpl.invoke(DelegatingMethodAccessorImpl.java:52)\r\n\tat java.base/java.lang.reflect.Method.invoke(Method.java:580)\r\n\tat py4j.reflection.MethodInvoker.invoke(MethodInvoker.java:244)\r\n\tat py4j.reflection.ReflectionEngine.invoke(ReflectionEngine.java:374)\r\n\tat py4j.Gateway.invoke(Gateway.java:282)\r\n\tat py4j.commands.AbstractCommand.invokeMethod(AbstractCommand.java:132)\r\n\tat py4j.commands.CallCommand.execute(CallCommand.java:79)\r\n\tat py4j.ClientServerConnection.waitForCommands(ClientServerConnection.java:182)\r\n\tat py4j.ClientServerConnection.run(ClientServerConnection.java:106)\r\n\tat java.base/java.lang.Thread.run(Thread.java:1583)\r\n"
     ]
    }
   ],
   "source": [
    "from pyspark.sql import SparkSession\n",
    "import pandas as pd\n",
    "\n",
    "# Inicjalizacja sesji Spark\n",
    "spark = SparkSession.builder \\\n",
    "    .appName(\"Adding Data from CSV to PostgreSQL\") \\\n",
    "    .config(\"spark.driver.extraClassPath\", \"postgresql-42.7.2.jar\") \\\n",
    "    .config(\"spark.executor.extraClassPath\", \"postgresql-42.7.2.jar\") \\\n",
    "    .getOrCreate()\n",
    "\n",
    "# Wczytaj dane z pliku CSV za pomocą Pandas\n",
    "pandas_df = pd.read_csv(\"latlon_RZ.csv\", sep=\",\", dtype=str)\n",
    "\n",
    "pandas_df = pandas_df.drop('Unnamed: 0', axis=1)\n",
    "\n",
    "# Konwersja ramki danych Pandas na ra\n",
    "# mkę danych Sparka\n",
    "df = spark.createDataFrame(pandas_df)\n",
    "\n",
    "# Zapis danych do bazy danych PostgreSQL\n",
    "df.write \\\n",
    "    .format(\"jdbc\") \\\n",
    "    .option(\"url\", \"jdbc:postgresql://localhost:5432/my_database\") \\\n",
    "    .option(\"dbtable\", \"table_name5\") \\\n",
    "    .option(\"user\", \"my_user\") \\\n",
    "    .option(\"password\", \"123\") \\\n",
    "    .mode(\"append\") \\\n",
    "    .save()\n",
    "\n",
    "# Zakończenie sesji Spark\n",
    "spark.stop()\n"
   ]
  }
 ],
 "metadata": {
  "kernelspec": {
   "display_name": "venv",
   "language": "python",
   "name": "python3"
  },
  "language_info": {
   "codemirror_mode": {
    "name": "ipython",
    "version": 3
   },
   "file_extension": ".py",
   "mimetype": "text/x-python",
   "name": "python",
   "nbconvert_exporter": "python",
   "pygments_lexer": "ipython3",
   "version": "3.11.9"
  }
 },
 "nbformat": 4,
 "nbformat_minor": 2
}
