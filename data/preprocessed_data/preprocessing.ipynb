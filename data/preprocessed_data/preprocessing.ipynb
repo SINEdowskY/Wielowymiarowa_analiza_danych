{
 "cells": [
  {
   "cell_type": "code",
   "execution_count": 2,
   "metadata": {},
   "outputs": [],
   "source": [
    "import pandas as pd"
   ]
  },
  {
   "cell_type": "code",
   "execution_count": 3,
   "metadata": {},
   "outputs": [],
   "source": [
    "df = pd.read_csv(\"../raw_data/ar_properties.csv\")"
   ]
  },
  {
   "cell_type": "code",
   "execution_count": 4,
   "metadata": {},
   "outputs": [
    {
     "data": {
      "text/plain": [
       "Index(['id', 'ad_type', 'start_date', 'end_date', 'created_on', 'lat', 'lon',\n",
       "       'l1', 'l2', 'l3', 'l4', 'l5', 'l6', 'rooms', 'bedrooms', 'bathrooms',\n",
       "       'surface_total', 'surface_covered', 'price', 'currency', 'price_period',\n",
       "       'title', 'description', 'property_type', 'operation_type'],\n",
       "      dtype='object')"
      ]
     },
     "execution_count": 4,
     "metadata": {},
     "output_type": "execute_result"
    }
   ],
   "source": [
    "df.columns"
   ]
  },
  {
   "cell_type": "code",
   "execution_count": 5,
   "metadata": {},
   "outputs": [],
   "source": [
    "df = df.rename(columns={\n",
    "    \"lat\":\"latitude\",\n",
    "    \"lon\":\"longitude\",\n",
    "    \"l1\":\"country\", \n",
    "    \"l2\":\"province\", \n",
    "    \"l3\":\"city\",\n",
    "    \"l4\":\"district\",\n",
    "    \"l5\":\"estate\"\n",
    "})"
   ]
  },
  {
   "cell_type": "code",
   "execution_count": 6,
   "metadata": {},
   "outputs": [
    {
     "data": {
      "text/plain": [
       "Index(['id', 'ad_type', 'start_date', 'end_date', 'created_on', 'latitude',\n",
       "       'longitude', 'country', 'province', 'city', 'district', 'estate', 'l6',\n",
       "       'rooms', 'bedrooms', 'bathrooms', 'surface_total', 'surface_covered',\n",
       "       'price', 'currency', 'price_period', 'title', 'description',\n",
       "       'property_type', 'operation_type'],\n",
       "      dtype='object')"
      ]
     },
     "execution_count": 6,
     "metadata": {},
     "output_type": "execute_result"
    }
   ],
   "source": [
    "df.columns"
   ]
  },
  {
   "cell_type": "code",
   "execution_count": 7,
   "metadata": {},
   "outputs": [
    {
     "data": {
      "text/plain": [
       "Series([], Name: count, dtype: int64)"
      ]
     },
     "execution_count": 7,
     "metadata": {},
     "output_type": "execute_result"
    }
   ],
   "source": [
    "df.l6.value_counts()"
   ]
  },
  {
   "cell_type": "code",
   "execution_count": 8,
   "metadata": {},
   "outputs": [],
   "source": [
    "df = df.drop(columns=[\"l6\"])"
   ]
  },
  {
   "cell_type": "code",
   "execution_count": 9,
   "metadata": {},
   "outputs": [
    {
     "data": {
      "text/plain": [
       "ad_type\n",
       "Propiedad    1000000\n",
       "Name: count, dtype: int64"
      ]
     },
     "execution_count": 9,
     "metadata": {},
     "output_type": "execute_result"
    }
   ],
   "source": [
    "df.ad_type.value_counts()"
   ]
  },
  {
   "cell_type": "code",
   "execution_count": 10,
   "metadata": {},
   "outputs": [],
   "source": [
    "df = df.drop(columns=[\"ad_type\"])"
   ]
  },
  {
   "cell_type": "code",
   "execution_count": 11,
   "metadata": {},
   "outputs": [
    {
     "data": {
      "text/plain": [
       "operation_type\n",
       "Venta                782122\n",
       "Alquiler             183927\n",
       "Alquiler temporal     33951\n",
       "Name: count, dtype: int64"
      ]
     },
     "execution_count": 11,
     "metadata": {},
     "output_type": "execute_result"
    }
   ],
   "source": [
    "df.operation_type.value_counts()"
   ]
  },
  {
   "cell_type": "code",
   "execution_count": 12,
   "metadata": {},
   "outputs": [],
   "source": [
    "df[\"operation_type\"] = df[\"operation_type\"].replace(regex={\n",
    "    \"Venta\":\"Sale\",\n",
    "    \"Alquiler temporal\":\"Temporary Rent\",\n",
    "    \"Alquiler\":\"Rent\"})"
   ]
  },
  {
   "cell_type": "code",
   "execution_count": 13,
   "metadata": {},
   "outputs": [
    {
     "data": {
      "text/plain": [
       "operation_type\n",
       "Sale              782122\n",
       "Rent              183927\n",
       "Temporary Rent     33951\n",
       "Name: count, dtype: int64"
      ]
     },
     "execution_count": 13,
     "metadata": {},
     "output_type": "execute_result"
    }
   ],
   "source": [
    "df.operation_type.value_counts()"
   ]
  },
  {
   "cell_type": "code",
   "execution_count": 14,
   "metadata": {},
   "outputs": [
    {
     "data": {
      "text/plain": [
       "property_type\n",
       "Departamento       373376\n",
       "Otro               239720\n",
       "Casa               190023\n",
       "Lote                83792\n",
       "PH                  35217\n",
       "Local comercial     34493\n",
       "Oficina             26365\n",
       "Cochera              8908\n",
       "Depósito             6502\n",
       "Casa de campo        1604\n",
       "Name: count, dtype: int64"
      ]
     },
     "execution_count": 14,
     "metadata": {},
     "output_type": "execute_result"
    }
   ],
   "source": [
    "df.property_type.value_counts()"
   ]
  },
  {
   "cell_type": "code",
   "execution_count": 15,
   "metadata": {},
   "outputs": [],
   "source": [
    "df[\"property_type\"] = df[\"property_type\"].replace(regex={\n",
    "    \"Departamento\":\"Apartment\",\n",
    "    \"Local comercial\":\"Commercial Premises\",\n",
    "    \"Oficina\":\"Office\",\n",
    "    \"Depósito\":\"Warehouse\",\n",
    "    \"Otro\": \"Other\",\n",
    "    \"Casa de campo\":\"Village House\",\n",
    "    \"Casa\":\"House\",\n",
    "    \"Cochera\":\"Garage\",\n",
    "    \"Lote\":\"Terrain\",\n",
    "    \"PH\": \"Horizontal Property\"\n",
    "    })"
   ]
  },
  {
   "cell_type": "code",
   "execution_count": 17,
   "metadata": {},
   "outputs": [
    {
     "data": {
      "text/plain": [
       "property_type\n",
       "Apartment              373376\n",
       "Other                  239720\n",
       "House                  190023\n",
       "Terrain                 83792\n",
       "Horizontal Property     35217\n",
       "Commercial Premises     34493\n",
       "Office                  26365\n",
       "Garage                   8908\n",
       "Warehouse                6502\n",
       "Village House            1604\n",
       "Name: count, dtype: int64"
      ]
     },
     "execution_count": 17,
     "metadata": {},
     "output_type": "execute_result"
    }
   ],
   "source": [
    "df.property_type.value_counts()"
   ]
  },
  {
   "cell_type": "code",
   "execution_count": 18,
   "metadata": {},
   "outputs": [
    {
     "data": {
      "text/plain": [
       "(231140.34107096842, 7379.891555198346)"
      ]
     },
     "execution_count": 18,
     "metadata": {},
     "output_type": "execute_result"
    }
   ],
   "source": [
    "cond_rent = df[\"operation_type\"] == \"Rent\"\n",
    "cond_sale = df[\"operation_type\"] == \"Sale\"\n",
    "cond_curr = df[\"currency\"] == \"USD\"\n",
    "df[cond_sale & cond_curr].price.mean(), \\\n",
    "    df[cond_rent & cond_curr].price.mean()"
   ]
  },
  {
   "cell_type": "code",
   "execution_count": 19,
   "metadata": {},
   "outputs": [
    {
     "data": {
      "text/plain": [
       "price_period\n",
       "Mensual    362978\n",
       "Semanal        29\n",
       "Diario          8\n",
       "Name: count, dtype: int64"
      ]
     },
     "execution_count": 19,
     "metadata": {},
     "output_type": "execute_result"
    }
   ],
   "source": [
    "df.price_period.value_counts()"
   ]
  },
  {
   "cell_type": "code",
   "execution_count": 20,
   "metadata": {},
   "outputs": [],
   "source": [
    "df[\"price_period\"] = df[\"price_period\"].replace(regex={\n",
    "    \"Mensual\":\"Monthly\",\n",
    "    \"Semanal\":\"Weekly\",\n",
    "    \"Diario\":\"Daily\"})"
   ]
  },
  {
   "cell_type": "code",
   "execution_count": 21,
   "metadata": {},
   "outputs": [
    {
     "data": {
      "text/plain": [
       "price_period\n",
       "Monthly    362978\n",
       "Weekly         29\n",
       "Daily           8\n",
       "Name: count, dtype: int64"
      ]
     },
     "execution_count": 21,
     "metadata": {},
     "output_type": "execute_result"
    }
   ],
   "source": [
    "df.price_period.value_counts()"
   ]
  },
  {
   "cell_type": "code",
   "execution_count": 22,
   "metadata": {},
   "outputs": [
    {
     "data": {
      "text/html": [
       "<div>\n",
       "<style scoped>\n",
       "    .dataframe tbody tr th:only-of-type {\n",
       "        vertical-align: middle;\n",
       "    }\n",
       "\n",
       "    .dataframe tbody tr th {\n",
       "        vertical-align: top;\n",
       "    }\n",
       "\n",
       "    .dataframe thead th {\n",
       "        text-align: right;\n",
       "    }\n",
       "</style>\n",
       "<table border=\"1\" class=\"dataframe\">\n",
       "  <thead>\n",
       "    <tr style=\"text-align: right;\">\n",
       "      <th></th>\n",
       "      <th>id</th>\n",
       "      <th>start_date</th>\n",
       "      <th>end_date</th>\n",
       "      <th>created_on</th>\n",
       "      <th>latitude</th>\n",
       "      <th>longitude</th>\n",
       "      <th>country</th>\n",
       "      <th>province</th>\n",
       "      <th>city</th>\n",
       "      <th>district</th>\n",
       "      <th>...</th>\n",
       "      <th>bathrooms</th>\n",
       "      <th>surface_total</th>\n",
       "      <th>surface_covered</th>\n",
       "      <th>price</th>\n",
       "      <th>currency</th>\n",
       "      <th>price_period</th>\n",
       "      <th>title</th>\n",
       "      <th>description</th>\n",
       "      <th>property_type</th>\n",
       "      <th>operation_type</th>\n",
       "    </tr>\n",
       "  </thead>\n",
       "  <tbody>\n",
       "    <tr>\n",
       "      <th>829579</th>\n",
       "      <td>TvCgmj/fOYX25dlcpk0U3g==</td>\n",
       "      <td>2020-01-08</td>\n",
       "      <td>2020-02-19</td>\n",
       "      <td>2020-01-08</td>\n",
       "      <td>-32.967382</td>\n",
       "      <td>-60.633078</td>\n",
       "      <td>Argentina</td>\n",
       "      <td>Santa Fe</td>\n",
       "      <td>Rosario</td>\n",
       "      <td>NaN</td>\n",
       "      <td>...</td>\n",
       "      <td>1.0</td>\n",
       "      <td>NaN</td>\n",
       "      <td>NaN</td>\n",
       "      <td>83000.0</td>\n",
       "      <td>USD</td>\n",
       "      <td>NaN</td>\n",
       "      <td>Departamento de 1 dormitorio - Alem al 2400 - ...</td>\n",
       "      <td>ALEM 2413Edificio en macrocentro, excelente ub...</td>\n",
       "      <td>Apartment</td>\n",
       "      <td>Sale</td>\n",
       "    </tr>\n",
       "    <tr>\n",
       "      <th>497720</th>\n",
       "      <td>WwK5O22x2KDlOQEmczM7sg==</td>\n",
       "      <td>2020-07-11</td>\n",
       "      <td>2020-12-03</td>\n",
       "      <td>2020-07-11</td>\n",
       "      <td>NaN</td>\n",
       "      <td>NaN</td>\n",
       "      <td>Argentina</td>\n",
       "      <td>Capital Federal</td>\n",
       "      <td>Belgrano</td>\n",
       "      <td>NaN</td>\n",
       "      <td>...</td>\n",
       "      <td>1.0</td>\n",
       "      <td>29.0</td>\n",
       "      <td>29.0</td>\n",
       "      <td>109000.0</td>\n",
       "      <td>USD</td>\n",
       "      <td>NaN</td>\n",
       "      <td>VENTA-DEPARTAMENTO-2 AMBIENTES- APTO PROFESION...</td>\n",
       "      <td>Corredor Responsable: Power Bienes Raíces SRL ...</td>\n",
       "      <td>Apartment</td>\n",
       "      <td>Sale</td>\n",
       "    </tr>\n",
       "    <tr>\n",
       "      <th>708019</th>\n",
       "      <td>9nF9hp+Z2z4H56Ry+beq+Q==</td>\n",
       "      <td>2020-11-14</td>\n",
       "      <td>9999-12-31</td>\n",
       "      <td>2020-11-14</td>\n",
       "      <td>-34.600468</td>\n",
       "      <td>-58.389531</td>\n",
       "      <td>Argentina</td>\n",
       "      <td>Capital Federal</td>\n",
       "      <td>Tribunales</td>\n",
       "      <td>NaN</td>\n",
       "      <td>...</td>\n",
       "      <td>1.0</td>\n",
       "      <td>NaN</td>\n",
       "      <td>94.0</td>\n",
       "      <td>80000.0</td>\n",
       "      <td>ARS</td>\n",
       "      <td>Monthly</td>\n",
       "      <td>Local - Tribunales</td>\n",
       "      <td>Local comercial en excelente ubicación, muy co...</td>\n",
       "      <td>Commercial Premises</td>\n",
       "      <td>Rent</td>\n",
       "    </tr>\n",
       "    <tr>\n",
       "      <th>10714</th>\n",
       "      <td>G3bKyicSusXQb0iOgDtwOQ==</td>\n",
       "      <td>2020-08-02</td>\n",
       "      <td>2020-08-13</td>\n",
       "      <td>2020-08-02</td>\n",
       "      <td>-34.582653</td>\n",
       "      <td>-58.414818</td>\n",
       "      <td>Argentina</td>\n",
       "      <td>Capital Federal</td>\n",
       "      <td>Palermo</td>\n",
       "      <td>Palermo Chico</td>\n",
       "      <td>...</td>\n",
       "      <td>1.0</td>\n",
       "      <td>38.0</td>\n",
       "      <td>32.0</td>\n",
       "      <td>135000.0</td>\n",
       "      <td>USD</td>\n",
       "      <td>Monthly</td>\n",
       "      <td>Venta Monoambiente  amplio y luminosos con Pil...</td>\n",
       "      <td>Lindisimo Departamento Monoambiente de 38m2, l...</td>\n",
       "      <td>Apartment</td>\n",
       "      <td>Sale</td>\n",
       "    </tr>\n",
       "    <tr>\n",
       "      <th>342376</th>\n",
       "      <td>gNEP2j+plE51+Xb9SiLrsg==</td>\n",
       "      <td>2020-08-21</td>\n",
       "      <td>2020-08-25</td>\n",
       "      <td>2020-08-21</td>\n",
       "      <td>NaN</td>\n",
       "      <td>NaN</td>\n",
       "      <td>Argentina</td>\n",
       "      <td>Capital Federal</td>\n",
       "      <td>Palermo</td>\n",
       "      <td>Palermo Chico</td>\n",
       "      <td>...</td>\n",
       "      <td>1.0</td>\n",
       "      <td>95.0</td>\n",
       "      <td>95.0</td>\n",
       "      <td>1400.0</td>\n",
       "      <td>USD</td>\n",
       "      <td>NaN</td>\n",
       "      <td>Working Ocampo - Modulo 3 - (K)</td>\n",
       "      <td>Oficina en Working Ocampo ubicada en el MODULO...</td>\n",
       "      <td>Office</td>\n",
       "      <td>Rent</td>\n",
       "    </tr>\n",
       "  </tbody>\n",
       "</table>\n",
       "<p>5 rows × 23 columns</p>\n",
       "</div>"
      ],
      "text/plain": [
       "                              id  start_date    end_date  created_on  \\\n",
       "829579  TvCgmj/fOYX25dlcpk0U3g==  2020-01-08  2020-02-19  2020-01-08   \n",
       "497720  WwK5O22x2KDlOQEmczM7sg==  2020-07-11  2020-12-03  2020-07-11   \n",
       "708019  9nF9hp+Z2z4H56Ry+beq+Q==  2020-11-14  9999-12-31  2020-11-14   \n",
       "10714   G3bKyicSusXQb0iOgDtwOQ==  2020-08-02  2020-08-13  2020-08-02   \n",
       "342376  gNEP2j+plE51+Xb9SiLrsg==  2020-08-21  2020-08-25  2020-08-21   \n",
       "\n",
       "         latitude  longitude    country         province        city  \\\n",
       "829579 -32.967382 -60.633078  Argentina         Santa Fe     Rosario   \n",
       "497720        NaN        NaN  Argentina  Capital Federal    Belgrano   \n",
       "708019 -34.600468 -58.389531  Argentina  Capital Federal  Tribunales   \n",
       "10714  -34.582653 -58.414818  Argentina  Capital Federal     Palermo   \n",
       "342376        NaN        NaN  Argentina  Capital Federal     Palermo   \n",
       "\n",
       "             district  ... bathrooms  surface_total  surface_covered  \\\n",
       "829579            NaN  ...       1.0            NaN              NaN   \n",
       "497720            NaN  ...       1.0           29.0             29.0   \n",
       "708019            NaN  ...       1.0            NaN             94.0   \n",
       "10714   Palermo Chico  ...       1.0           38.0             32.0   \n",
       "342376  Palermo Chico  ...       1.0           95.0             95.0   \n",
       "\n",
       "           price  currency  price_period  \\\n",
       "829579   83000.0       USD           NaN   \n",
       "497720  109000.0       USD           NaN   \n",
       "708019   80000.0       ARS       Monthly   \n",
       "10714   135000.0       USD       Monthly   \n",
       "342376    1400.0       USD           NaN   \n",
       "\n",
       "                                                    title  \\\n",
       "829579  Departamento de 1 dormitorio - Alem al 2400 - ...   \n",
       "497720  VENTA-DEPARTAMENTO-2 AMBIENTES- APTO PROFESION...   \n",
       "708019                                 Local - Tribunales   \n",
       "10714   Venta Monoambiente  amplio y luminosos con Pil...   \n",
       "342376                    Working Ocampo - Modulo 3 - (K)   \n",
       "\n",
       "                                              description  \\\n",
       "829579  ALEM 2413Edificio en macrocentro, excelente ub...   \n",
       "497720  Corredor Responsable: Power Bienes Raíces SRL ...   \n",
       "708019  Local comercial en excelente ubicación, muy co...   \n",
       "10714   Lindisimo Departamento Monoambiente de 38m2, l...   \n",
       "342376  Oficina en Working Ocampo ubicada en el MODULO...   \n",
       "\n",
       "              property_type operation_type  \n",
       "829579            Apartment           Sale  \n",
       "497720            Apartment           Sale  \n",
       "708019  Commercial Premises           Rent  \n",
       "10714             Apartment           Sale  \n",
       "342376               Office           Rent  \n",
       "\n",
       "[5 rows x 23 columns]"
      ]
     },
     "execution_count": 22,
     "metadata": {},
     "output_type": "execute_result"
    }
   ],
   "source": [
    "df.sample(5)"
   ]
  },
  {
   "cell_type": "code",
   "execution_count": 23,
   "metadata": {},
   "outputs": [],
   "source": [
    "df.to_csv(\"preprocessed_ar_properties.csv\")"
   ]
  }
 ],
 "metadata": {
  "kernelspec": {
   "display_name": "Python 3",
   "language": "python",
   "name": "python3"
  },
  "language_info": {
   "codemirror_mode": {
    "name": "ipython",
    "version": 3
   },
   "file_extension": ".py",
   "mimetype": "text/x-python",
   "name": "python",
   "nbconvert_exporter": "python",
   "pygments_lexer": "ipython3",
   "version": "3.10.14"
  }
 },
 "nbformat": 4,
 "nbformat_minor": 2
}
