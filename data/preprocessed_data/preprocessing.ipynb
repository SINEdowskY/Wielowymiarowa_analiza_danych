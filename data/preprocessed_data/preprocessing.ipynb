{
 "cells": [
  {
   "cell_type": "code",
   "execution_count": 1,
   "metadata": {},
   "outputs": [],
   "source": [
    "import pandas as pd\n",
    "import os"
   ]
  },
  {
   "cell_type": "code",
   "execution_count": 3,
   "metadata": {},
   "outputs": [],
   "source": [
    "df = pd.read_csv(\"../raw_data/ar_properties.csv\")"
   ]
  },
  {
   "cell_type": "code",
   "execution_count": 5,
   "metadata": {},
   "outputs": [],
   "source": [
    "df[\"id\"] = range(0,len(df.id))"
   ]
  },
  {
   "cell_type": "code",
   "execution_count": 8,
   "metadata": {},
   "outputs": [
    {
     "data": {
      "text/plain": [
       "0              0\n",
       "1              1\n",
       "2              2\n",
       "3              3\n",
       "4              4\n",
       "           ...  \n",
       "999995    999995\n",
       "999996    999996\n",
       "999997    999997\n",
       "999998    999998\n",
       "999999    999999\n",
       "Name: id, Length: 1000000, dtype: int64"
      ]
     },
     "execution_count": 8,
     "metadata": {},
     "output_type": "execute_result"
    }
   ],
   "source": [
    "df.id"
   ]
  },
  {
   "cell_type": "code",
   "execution_count": 6,
   "metadata": {},
   "outputs": [],
   "source": [
    "df = df.rename(columns={\n",
    "    \"lat\":\"latitude\",\n",
    "    \"lon\":\"longitude\",\n",
    "    \"l1\":\"country\", \n",
    "    \"l2\":\"province\", \n",
    "    \"l3\":\"city\",\n",
    "    \"l4\":\"district\",\n",
    "    \"l5\":\"estate\"\n",
    "})"
   ]
  },
  {
   "cell_type": "code",
   "execution_count": 9,
   "metadata": {},
   "outputs": [
    {
     "data": {
      "text/plain": [
       "Index(['id', 'ad_type', 'start_date', 'end_date', 'created_on', 'latitude',\n",
       "       'longitude', 'country', 'province', 'city', 'district', 'estate', 'l6',\n",
       "       'rooms', 'bedrooms', 'bathrooms', 'surface_total', 'surface_covered',\n",
       "       'price', 'currency', 'price_period', 'title', 'description',\n",
       "       'property_type', 'operation_type'],\n",
       "      dtype='object')"
      ]
     },
     "execution_count": 9,
     "metadata": {},
     "output_type": "execute_result"
    }
   ],
   "source": [
    "df.columns"
   ]
  },
  {
   "cell_type": "code",
   "execution_count": 10,
   "metadata": {},
   "outputs": [
    {
     "data": {
      "text/plain": [
       "Series([], Name: count, dtype: int64)"
      ]
     },
     "execution_count": 10,
     "metadata": {},
     "output_type": "execute_result"
    }
   ],
   "source": [
    "df.l6.value_counts()"
   ]
  },
  {
   "cell_type": "code",
   "execution_count": 11,
   "metadata": {},
   "outputs": [],
   "source": [
    "df = df.drop(columns=[\"l6\"])"
   ]
  },
  {
   "cell_type": "code",
   "execution_count": 12,
   "metadata": {},
   "outputs": [
    {
     "data": {
      "text/plain": [
       "ad_type\n",
       "Propiedad    1000000\n",
       "Name: count, dtype: int64"
      ]
     },
     "execution_count": 12,
     "metadata": {},
     "output_type": "execute_result"
    }
   ],
   "source": [
    "df.ad_type.value_counts()"
   ]
  },
  {
   "cell_type": "code",
   "execution_count": 13,
   "metadata": {},
   "outputs": [],
   "source": [
    "df = df.drop(columns=[\"ad_type\"])"
   ]
  },
  {
   "cell_type": "code",
   "execution_count": 14,
   "metadata": {},
   "outputs": [
    {
     "data": {
      "text/plain": [
       "operation_type\n",
       "Venta                782122\n",
       "Alquiler             183927\n",
       "Alquiler temporal     33951\n",
       "Name: count, dtype: int64"
      ]
     },
     "execution_count": 14,
     "metadata": {},
     "output_type": "execute_result"
    }
   ],
   "source": [
    "df.operation_type.value_counts()"
   ]
  },
  {
   "cell_type": "code",
   "execution_count": 15,
   "metadata": {},
   "outputs": [],
   "source": [
    "df[\"operation_type\"] = df[\"operation_type\"].replace(regex={\n",
    "    \"Venta\":\"Sale\",\n",
    "    \"Alquiler temporal\":\"Temporary Rent\",\n",
    "    \"Alquiler\":\"Rent\"})"
   ]
  },
  {
   "cell_type": "code",
   "execution_count": 16,
   "metadata": {},
   "outputs": [
    {
     "data": {
      "text/plain": [
       "operation_type\n",
       "Sale              782122\n",
       "Rent              183927\n",
       "Temporary Rent     33951\n",
       "Name: count, dtype: int64"
      ]
     },
     "execution_count": 16,
     "metadata": {},
     "output_type": "execute_result"
    }
   ],
   "source": [
    "df.operation_type.value_counts()"
   ]
  },
  {
   "cell_type": "code",
   "execution_count": 17,
   "metadata": {},
   "outputs": [
    {
     "data": {
      "text/plain": [
       "property_type\n",
       "Departamento       373376\n",
       "Otro               239720\n",
       "Casa               190023\n",
       "Lote                83792\n",
       "PH                  35217\n",
       "Local comercial     34493\n",
       "Oficina             26365\n",
       "Cochera              8908\n",
       "Depósito             6502\n",
       "Casa de campo        1604\n",
       "Name: count, dtype: int64"
      ]
     },
     "execution_count": 17,
     "metadata": {},
     "output_type": "execute_result"
    }
   ],
   "source": [
    "df.property_type.value_counts()"
   ]
  },
  {
   "cell_type": "code",
   "execution_count": 18,
   "metadata": {},
   "outputs": [],
   "source": [
    "df[\"property_type\"] = df[\"property_type\"].replace(regex={\n",
    "    \"Departamento\":\"Apartment\",\n",
    "    \"Local comercial\":\"Commercial Premises\",\n",
    "    \"Oficina\":\"Office\",\n",
    "    \"Depósito\":\"Warehouse\",\n",
    "    \"Otro\": \"Other\",\n",
    "    \"Casa de campo\":\"Village House\",\n",
    "    \"Casa\":\"House\",\n",
    "    \"Cochera\":\"Garage\",\n",
    "    \"Lote\":\"Terrain\",\n",
    "    \"PH\": \"Horizontal Property\"\n",
    "    })"
   ]
  },
  {
   "cell_type": "code",
   "execution_count": 19,
   "metadata": {},
   "outputs": [
    {
     "data": {
      "text/plain": [
       "property_type\n",
       "Apartment              373376\n",
       "Other                  239720\n",
       "House                  190023\n",
       "Terrain                 83792\n",
       "Horizontal Property     35217\n",
       "Commercial Premises     34493\n",
       "Office                  26365\n",
       "Garage                   8908\n",
       "Warehouse                6502\n",
       "Village House            1604\n",
       "Name: count, dtype: int64"
      ]
     },
     "execution_count": 19,
     "metadata": {},
     "output_type": "execute_result"
    }
   ],
   "source": [
    "df.property_type.value_counts()"
   ]
  },
  {
   "cell_type": "code",
   "execution_count": 20,
   "metadata": {},
   "outputs": [
    {
     "data": {
      "text/plain": [
       "(231140.34107096842, 7379.891555198346)"
      ]
     },
     "execution_count": 20,
     "metadata": {},
     "output_type": "execute_result"
    }
   ],
   "source": [
    "cond_rent = df[\"operation_type\"] == \"Rent\"\n",
    "cond_sale = df[\"operation_type\"] == \"Sale\"\n",
    "cond_curr = df[\"currency\"] == \"USD\"\n",
    "df[cond_sale & cond_curr].price.mean(), \\\n",
    "    df[cond_rent & cond_curr].price.mean()"
   ]
  },
  {
   "cell_type": "code",
   "execution_count": 21,
   "metadata": {},
   "outputs": [
    {
     "data": {
      "text/plain": [
       "price_period\n",
       "Mensual    362978\n",
       "Semanal        29\n",
       "Diario          8\n",
       "Name: count, dtype: int64"
      ]
     },
     "execution_count": 21,
     "metadata": {},
     "output_type": "execute_result"
    }
   ],
   "source": [
    "df.price_period.value_counts()"
   ]
  },
  {
   "cell_type": "code",
   "execution_count": 22,
   "metadata": {},
   "outputs": [],
   "source": [
    "df[\"price_period\"] = df[\"price_period\"].replace(regex={\n",
    "    \"Mensual\":\"Monthly\",\n",
    "    \"Semanal\":\"Weekly\",\n",
    "    \"Diario\":\"Daily\"})"
   ]
  },
  {
   "cell_type": "code",
   "execution_count": 23,
   "metadata": {},
   "outputs": [
    {
     "data": {
      "text/plain": [
       "price_period\n",
       "Monthly    362978\n",
       "Weekly         29\n",
       "Daily           8\n",
       "Name: count, dtype: int64"
      ]
     },
     "execution_count": 23,
     "metadata": {},
     "output_type": "execute_result"
    }
   ],
   "source": [
    "df.price_period.value_counts()"
   ]
  },
  {
   "cell_type": "code",
   "execution_count": 24,
   "metadata": {},
   "outputs": [
    {
     "data": {
      "text/html": [
       "<div>\n",
       "<style scoped>\n",
       "    .dataframe tbody tr th:only-of-type {\n",
       "        vertical-align: middle;\n",
       "    }\n",
       "\n",
       "    .dataframe tbody tr th {\n",
       "        vertical-align: top;\n",
       "    }\n",
       "\n",
       "    .dataframe thead th {\n",
       "        text-align: right;\n",
       "    }\n",
       "</style>\n",
       "<table border=\"1\" class=\"dataframe\">\n",
       "  <thead>\n",
       "    <tr style=\"text-align: right;\">\n",
       "      <th></th>\n",
       "      <th>id</th>\n",
       "      <th>start_date</th>\n",
       "      <th>end_date</th>\n",
       "      <th>created_on</th>\n",
       "      <th>latitude</th>\n",
       "      <th>longitude</th>\n",
       "      <th>country</th>\n",
       "      <th>province</th>\n",
       "      <th>city</th>\n",
       "      <th>district</th>\n",
       "      <th>...</th>\n",
       "      <th>bathrooms</th>\n",
       "      <th>surface_total</th>\n",
       "      <th>surface_covered</th>\n",
       "      <th>price</th>\n",
       "      <th>currency</th>\n",
       "      <th>price_period</th>\n",
       "      <th>title</th>\n",
       "      <th>description</th>\n",
       "      <th>property_type</th>\n",
       "      <th>operation_type</th>\n",
       "    </tr>\n",
       "  </thead>\n",
       "  <tbody>\n",
       "    <tr>\n",
       "      <th>0</th>\n",
       "      <td>0</td>\n",
       "      <td>2020-12-25</td>\n",
       "      <td>9999-12-31</td>\n",
       "      <td>2020-12-25</td>\n",
       "      <td>-32.716652</td>\n",
       "      <td>-68.642692</td>\n",
       "      <td>Argentina</td>\n",
       "      <td>Mendoza</td>\n",
       "      <td>NaN</td>\n",
       "      <td>NaN</td>\n",
       "      <td>...</td>\n",
       "      <td>NaN</td>\n",
       "      <td>350.0</td>\n",
       "      <td>350.0</td>\n",
       "      <td>NaN</td>\n",
       "      <td>NaN</td>\n",
       "      <td>NaN</td>\n",
       "      <td>Excelentes Lotes Sobre Ruta 34</td>\n",
       "      <td>Corredor Responsable: VICTOR E. MONTIVERO - C....</td>\n",
       "      <td>Terrain</td>\n",
       "      <td>Sale</td>\n",
       "    </tr>\n",
       "    <tr>\n",
       "      <th>1</th>\n",
       "      <td>1</td>\n",
       "      <td>2020-12-25</td>\n",
       "      <td>9999-12-31</td>\n",
       "      <td>2020-12-25</td>\n",
       "      <td>-24.797723</td>\n",
       "      <td>-65.467514</td>\n",
       "      <td>Argentina</td>\n",
       "      <td>Salta</td>\n",
       "      <td>NaN</td>\n",
       "      <td>NaN</td>\n",
       "      <td>...</td>\n",
       "      <td>NaN</td>\n",
       "      <td>1541.0</td>\n",
       "      <td>1541.0</td>\n",
       "      <td>NaN</td>\n",
       "      <td>NaN</td>\n",
       "      <td>Monthly</td>\n",
       "      <td>TERRENO + VENTA + JARDINES DE SAN LORENZO +150...</td>\n",
       "      <td>Corredor Responsable: Pablo Castañeda - C.U.C....</td>\n",
       "      <td>Terrain</td>\n",
       "      <td>Sale</td>\n",
       "    </tr>\n",
       "    <tr>\n",
       "      <th>2</th>\n",
       "      <td>2</td>\n",
       "      <td>2020-12-25</td>\n",
       "      <td>2020-12-29</td>\n",
       "      <td>2020-12-25</td>\n",
       "      <td>-34.919373</td>\n",
       "      <td>-58.020591</td>\n",
       "      <td>Argentina</td>\n",
       "      <td>Bs.As. G.B.A. Zona Sur</td>\n",
       "      <td>La Plata</td>\n",
       "      <td>La Plata</td>\n",
       "      <td>...</td>\n",
       "      <td>NaN</td>\n",
       "      <td>1000.0</td>\n",
       "      <td>1000.0</td>\n",
       "      <td>NaN</td>\n",
       "      <td>NaN</td>\n",
       "      <td>Monthly</td>\n",
       "      <td>Lote en Venta de 1000 m2 en La Plata</td>\n",
       "      <td>Corredor Responsable: Rico Sebastián - Martill...</td>\n",
       "      <td>Terrain</td>\n",
       "      <td>Sale</td>\n",
       "    </tr>\n",
       "    <tr>\n",
       "      <th>3</th>\n",
       "      <td>3</td>\n",
       "      <td>2020-12-25</td>\n",
       "      <td>2020-12-29</td>\n",
       "      <td>2020-12-25</td>\n",
       "      <td>-34.919455</td>\n",
       "      <td>-58.024807</td>\n",
       "      <td>Argentina</td>\n",
       "      <td>Bs.As. G.B.A. Zona Sur</td>\n",
       "      <td>La Plata</td>\n",
       "      <td>La Plata</td>\n",
       "      <td>...</td>\n",
       "      <td>NaN</td>\n",
       "      <td>1000.0</td>\n",
       "      <td>1000.0</td>\n",
       "      <td>NaN</td>\n",
       "      <td>NaN</td>\n",
       "      <td>Monthly</td>\n",
       "      <td>Lote en Venta de 1000 m2 en La Plata</td>\n",
       "      <td>Corredor Responsable: Rico Sebastián - Martill...</td>\n",
       "      <td>Terrain</td>\n",
       "      <td>Sale</td>\n",
       "    </tr>\n",
       "    <tr>\n",
       "      <th>4</th>\n",
       "      <td>4</td>\n",
       "      <td>2020-12-25</td>\n",
       "      <td>9999-12-31</td>\n",
       "      <td>2020-12-25</td>\n",
       "      <td>-34.364924</td>\n",
       "      <td>-58.783143</td>\n",
       "      <td>Argentina</td>\n",
       "      <td>Bs.As. G.B.A. Zona Norte</td>\n",
       "      <td>Escobar</td>\n",
       "      <td>Belén de Escobar</td>\n",
       "      <td>...</td>\n",
       "      <td>NaN</td>\n",
       "      <td>18164.0</td>\n",
       "      <td>18164.0</td>\n",
       "      <td>NaN</td>\n",
       "      <td>NaN</td>\n",
       "      <td>Monthly</td>\n",
       "      <td>PANAMERICANA 47300</td>\n",
       "      <td>Nave principal 66 x 90 m:    6005 m2 cubiertos...</td>\n",
       "      <td>Other</td>\n",
       "      <td>Sale</td>\n",
       "    </tr>\n",
       "  </tbody>\n",
       "</table>\n",
       "<p>5 rows × 23 columns</p>\n",
       "</div>"
      ],
      "text/plain": [
       "   id  start_date    end_date  created_on   latitude  longitude    country  \\\n",
       "0   0  2020-12-25  9999-12-31  2020-12-25 -32.716652 -68.642692  Argentina   \n",
       "1   1  2020-12-25  9999-12-31  2020-12-25 -24.797723 -65.467514  Argentina   \n",
       "2   2  2020-12-25  2020-12-29  2020-12-25 -34.919373 -58.020591  Argentina   \n",
       "3   3  2020-12-25  2020-12-29  2020-12-25 -34.919455 -58.024807  Argentina   \n",
       "4   4  2020-12-25  9999-12-31  2020-12-25 -34.364924 -58.783143  Argentina   \n",
       "\n",
       "                   province      city          district  ... bathrooms  \\\n",
       "0                   Mendoza       NaN               NaN  ...       NaN   \n",
       "1                     Salta       NaN               NaN  ...       NaN   \n",
       "2    Bs.As. G.B.A. Zona Sur  La Plata          La Plata  ...       NaN   \n",
       "3    Bs.As. G.B.A. Zona Sur  La Plata          La Plata  ...       NaN   \n",
       "4  Bs.As. G.B.A. Zona Norte   Escobar  Belén de Escobar  ...       NaN   \n",
       "\n",
       "   surface_total  surface_covered  price  currency  price_period  \\\n",
       "0          350.0            350.0    NaN       NaN           NaN   \n",
       "1         1541.0           1541.0    NaN       NaN       Monthly   \n",
       "2         1000.0           1000.0    NaN       NaN       Monthly   \n",
       "3         1000.0           1000.0    NaN       NaN       Monthly   \n",
       "4        18164.0          18164.0    NaN       NaN       Monthly   \n",
       "\n",
       "                                               title  \\\n",
       "0                     Excelentes Lotes Sobre Ruta 34   \n",
       "1  TERRENO + VENTA + JARDINES DE SAN LORENZO +150...   \n",
       "2               Lote en Venta de 1000 m2 en La Plata   \n",
       "3               Lote en Venta de 1000 m2 en La Plata   \n",
       "4                                 PANAMERICANA 47300   \n",
       "\n",
       "                                         description property_type  \\\n",
       "0  Corredor Responsable: VICTOR E. MONTIVERO - C....       Terrain   \n",
       "1  Corredor Responsable: Pablo Castañeda - C.U.C....       Terrain   \n",
       "2  Corredor Responsable: Rico Sebastián - Martill...       Terrain   \n",
       "3  Corredor Responsable: Rico Sebastián - Martill...       Terrain   \n",
       "4  Nave principal 66 x 90 m:    6005 m2 cubiertos...         Other   \n",
       "\n",
       "  operation_type  \n",
       "0           Sale  \n",
       "1           Sale  \n",
       "2           Sale  \n",
       "3           Sale  \n",
       "4           Sale  \n",
       "\n",
       "[5 rows x 23 columns]"
      ]
     },
     "execution_count": 24,
     "metadata": {},
     "output_type": "execute_result"
    }
   ],
   "source": [
    "df.head()"
   ]
  },
  {
   "cell_type": "code",
   "execution_count": 25,
   "metadata": {},
   "outputs": [
    {
     "data": {
      "text/plain": [
       "country\n",
       "Argentina         985725\n",
       "Uruguay            13471\n",
       "Estados Unidos       705\n",
       "Brasil                99\n",
       "Name: count, dtype: int64"
      ]
     },
     "execution_count": 25,
     "metadata": {},
     "output_type": "execute_result"
    }
   ],
   "source": [
    "df.country.value_counts()"
   ]
  },
  {
   "cell_type": "code",
   "execution_count": 26,
   "metadata": {},
   "outputs": [],
   "source": [
    "columns_to_drop = df[df[\"country\"] == \"Estados Unidos\"]\n",
    "df = df.drop(columns_to_drop.index)"
   ]
  },
  {
   "cell_type": "code",
   "execution_count": 27,
   "metadata": {},
   "outputs": [
    {
     "data": {
      "text/plain": [
       "country\n",
       "Argentina    985725\n",
       "Uruguay       13471\n",
       "Brasil           99\n",
       "Name: count, dtype: int64"
      ]
     },
     "execution_count": 27,
     "metadata": {},
     "output_type": "execute_result"
    }
   ],
   "source": [
    "df.country.value_counts()"
   ]
  },
  {
   "cell_type": "code",
   "execution_count": 28,
   "metadata": {},
   "outputs": [
    {
     "data": {
      "text/plain": [
       "id                   int64\n",
       "start_date          object\n",
       "end_date            object\n",
       "created_on          object\n",
       "latitude           float64\n",
       "longitude          float64\n",
       "country             object\n",
       "province            object\n",
       "city                object\n",
       "district            object\n",
       "estate              object\n",
       "rooms              float64\n",
       "bedrooms           float64\n",
       "bathrooms          float64\n",
       "surface_total      float64\n",
       "surface_covered    float64\n",
       "price              float64\n",
       "currency            object\n",
       "price_period        object\n",
       "title               object\n",
       "description         object\n",
       "property_type       object\n",
       "operation_type      object\n",
       "dtype: object"
      ]
     },
     "execution_count": 28,
     "metadata": {},
     "output_type": "execute_result"
    }
   ],
   "source": [
    "df.dtypes"
   ]
  },
  {
   "cell_type": "code",
   "execution_count": 29,
   "metadata": {},
   "outputs": [],
   "source": [
    "# df[\"start_date\"] = df[\"start_date\"].astype(\"datetime64[s]\")\n",
    "# df[\"end_date\"] = df[\"end_date\"].astype(\"datetime64[s]\")\n",
    "# df[\"created_on\"] = df[\"created_on\"].astype(\"datetime64[s]\")\n",
    "# df[\"country\"] = df[\"country\"].astype(\"string\")\n",
    "# df[\"province\"] = df[\"province\"].astype(\"string\")\n",
    "# df[\"city\"] = df[\"city\"].astype(\"string\")\n",
    "# df[\"country\"] = df[\"country\"].astype(\"string\")\n",
    "# df[\"district\"] = df[\"district\"].astype(\"string\")\n",
    "# df[\"estate\"] = df[\"estate\"].astype(\"string\")\n",
    "# df[\"currency\"] = df[\"currency\"].astype(\"string\")\n",
    "# df[\"price_period\"] = df[\"price_period\"].astype(\"string\")\n",
    "# df[\"title\"] = df[\"title\"].astype(\"string\")\n",
    "# df[\"description\"] = df[\"description\"].astype(\"string\")\n",
    "# df[\"property_type\"] = df[\"property_type\"].astype(\"string\")\n",
    "# df[\"operation_type\"] = df[\"operation_type\"].astype(\"string\")\n",
    "df[\"id\"] = df[\"id\"].astype(\"int\")"
   ]
  },
  {
   "cell_type": "code",
   "execution_count": 30,
   "metadata": {},
   "outputs": [
    {
     "data": {
      "text/plain": [
       "id                   int64\n",
       "start_date          object\n",
       "end_date            object\n",
       "created_on          object\n",
       "latitude           float64\n",
       "longitude          float64\n",
       "country             object\n",
       "province            object\n",
       "city                object\n",
       "district            object\n",
       "estate              object\n",
       "rooms              float64\n",
       "bedrooms           float64\n",
       "bathrooms          float64\n",
       "surface_total      float64\n",
       "surface_covered    float64\n",
       "price              float64\n",
       "currency            object\n",
       "price_period        object\n",
       "title               object\n",
       "description         object\n",
       "property_type       object\n",
       "operation_type      object\n",
       "dtype: object"
      ]
     },
     "execution_count": 30,
     "metadata": {},
     "output_type": "execute_result"
    }
   ],
   "source": [
    "df.dtypes"
   ]
  },
  {
   "cell_type": "code",
   "execution_count": 31,
   "metadata": {},
   "outputs": [
    {
     "data": {
      "text/html": [
       "<div>\n",
       "<style scoped>\n",
       "    .dataframe tbody tr th:only-of-type {\n",
       "        vertical-align: middle;\n",
       "    }\n",
       "\n",
       "    .dataframe tbody tr th {\n",
       "        vertical-align: top;\n",
       "    }\n",
       "\n",
       "    .dataframe thead th {\n",
       "        text-align: right;\n",
       "    }\n",
       "</style>\n",
       "<table border=\"1\" class=\"dataframe\">\n",
       "  <thead>\n",
       "    <tr style=\"text-align: right;\">\n",
       "      <th></th>\n",
       "      <th>id</th>\n",
       "      <th>start_date</th>\n",
       "      <th>end_date</th>\n",
       "      <th>created_on</th>\n",
       "      <th>latitude</th>\n",
       "      <th>longitude</th>\n",
       "      <th>country</th>\n",
       "      <th>province</th>\n",
       "      <th>city</th>\n",
       "      <th>district</th>\n",
       "      <th>...</th>\n",
       "      <th>bathrooms</th>\n",
       "      <th>surface_total</th>\n",
       "      <th>surface_covered</th>\n",
       "      <th>price</th>\n",
       "      <th>currency</th>\n",
       "      <th>price_period</th>\n",
       "      <th>title</th>\n",
       "      <th>description</th>\n",
       "      <th>property_type</th>\n",
       "      <th>operation_type</th>\n",
       "    </tr>\n",
       "  </thead>\n",
       "  <tbody>\n",
       "    <tr>\n",
       "      <th>0</th>\n",
       "      <td>0</td>\n",
       "      <td>2020-12-25</td>\n",
       "      <td>9999-12-31</td>\n",
       "      <td>2020-12-25</td>\n",
       "      <td>-32.716652</td>\n",
       "      <td>-68.642692</td>\n",
       "      <td>Argentina</td>\n",
       "      <td>Mendoza</td>\n",
       "      <td>NaN</td>\n",
       "      <td>NaN</td>\n",
       "      <td>...</td>\n",
       "      <td>NaN</td>\n",
       "      <td>350.0</td>\n",
       "      <td>350.0</td>\n",
       "      <td>NaN</td>\n",
       "      <td>NaN</td>\n",
       "      <td>NaN</td>\n",
       "      <td>Excelentes Lotes Sobre Ruta 34</td>\n",
       "      <td>Corredor Responsable: VICTOR E. MONTIVERO - C....</td>\n",
       "      <td>Terrain</td>\n",
       "      <td>Sale</td>\n",
       "    </tr>\n",
       "    <tr>\n",
       "      <th>1</th>\n",
       "      <td>1</td>\n",
       "      <td>2020-12-25</td>\n",
       "      <td>9999-12-31</td>\n",
       "      <td>2020-12-25</td>\n",
       "      <td>-24.797723</td>\n",
       "      <td>-65.467514</td>\n",
       "      <td>Argentina</td>\n",
       "      <td>Salta</td>\n",
       "      <td>NaN</td>\n",
       "      <td>NaN</td>\n",
       "      <td>...</td>\n",
       "      <td>NaN</td>\n",
       "      <td>1541.0</td>\n",
       "      <td>1541.0</td>\n",
       "      <td>NaN</td>\n",
       "      <td>NaN</td>\n",
       "      <td>Monthly</td>\n",
       "      <td>TERRENO + VENTA + JARDINES DE SAN LORENZO +150...</td>\n",
       "      <td>Corredor Responsable: Pablo Castañeda - C.U.C....</td>\n",
       "      <td>Terrain</td>\n",
       "      <td>Sale</td>\n",
       "    </tr>\n",
       "    <tr>\n",
       "      <th>2</th>\n",
       "      <td>2</td>\n",
       "      <td>2020-12-25</td>\n",
       "      <td>2020-12-29</td>\n",
       "      <td>2020-12-25</td>\n",
       "      <td>-34.919373</td>\n",
       "      <td>-58.020591</td>\n",
       "      <td>Argentina</td>\n",
       "      <td>Bs.As. G.B.A. Zona Sur</td>\n",
       "      <td>La Plata</td>\n",
       "      <td>La Plata</td>\n",
       "      <td>...</td>\n",
       "      <td>NaN</td>\n",
       "      <td>1000.0</td>\n",
       "      <td>1000.0</td>\n",
       "      <td>NaN</td>\n",
       "      <td>NaN</td>\n",
       "      <td>Monthly</td>\n",
       "      <td>Lote en Venta de 1000 m2 en La Plata</td>\n",
       "      <td>Corredor Responsable: Rico Sebastián - Martill...</td>\n",
       "      <td>Terrain</td>\n",
       "      <td>Sale</td>\n",
       "    </tr>\n",
       "    <tr>\n",
       "      <th>3</th>\n",
       "      <td>3</td>\n",
       "      <td>2020-12-25</td>\n",
       "      <td>2020-12-29</td>\n",
       "      <td>2020-12-25</td>\n",
       "      <td>-34.919455</td>\n",
       "      <td>-58.024807</td>\n",
       "      <td>Argentina</td>\n",
       "      <td>Bs.As. G.B.A. Zona Sur</td>\n",
       "      <td>La Plata</td>\n",
       "      <td>La Plata</td>\n",
       "      <td>...</td>\n",
       "      <td>NaN</td>\n",
       "      <td>1000.0</td>\n",
       "      <td>1000.0</td>\n",
       "      <td>NaN</td>\n",
       "      <td>NaN</td>\n",
       "      <td>Monthly</td>\n",
       "      <td>Lote en Venta de 1000 m2 en La Plata</td>\n",
       "      <td>Corredor Responsable: Rico Sebastián - Martill...</td>\n",
       "      <td>Terrain</td>\n",
       "      <td>Sale</td>\n",
       "    </tr>\n",
       "    <tr>\n",
       "      <th>4</th>\n",
       "      <td>4</td>\n",
       "      <td>2020-12-25</td>\n",
       "      <td>9999-12-31</td>\n",
       "      <td>2020-12-25</td>\n",
       "      <td>-34.364924</td>\n",
       "      <td>-58.783143</td>\n",
       "      <td>Argentina</td>\n",
       "      <td>Bs.As. G.B.A. Zona Norte</td>\n",
       "      <td>Escobar</td>\n",
       "      <td>Belén de Escobar</td>\n",
       "      <td>...</td>\n",
       "      <td>NaN</td>\n",
       "      <td>18164.0</td>\n",
       "      <td>18164.0</td>\n",
       "      <td>NaN</td>\n",
       "      <td>NaN</td>\n",
       "      <td>Monthly</td>\n",
       "      <td>PANAMERICANA 47300</td>\n",
       "      <td>Nave principal 66 x 90 m:    6005 m2 cubiertos...</td>\n",
       "      <td>Other</td>\n",
       "      <td>Sale</td>\n",
       "    </tr>\n",
       "  </tbody>\n",
       "</table>\n",
       "<p>5 rows × 23 columns</p>\n",
       "</div>"
      ],
      "text/plain": [
       "   id  start_date    end_date  created_on   latitude  longitude    country  \\\n",
       "0   0  2020-12-25  9999-12-31  2020-12-25 -32.716652 -68.642692  Argentina   \n",
       "1   1  2020-12-25  9999-12-31  2020-12-25 -24.797723 -65.467514  Argentina   \n",
       "2   2  2020-12-25  2020-12-29  2020-12-25 -34.919373 -58.020591  Argentina   \n",
       "3   3  2020-12-25  2020-12-29  2020-12-25 -34.919455 -58.024807  Argentina   \n",
       "4   4  2020-12-25  9999-12-31  2020-12-25 -34.364924 -58.783143  Argentina   \n",
       "\n",
       "                   province      city          district  ... bathrooms  \\\n",
       "0                   Mendoza       NaN               NaN  ...       NaN   \n",
       "1                     Salta       NaN               NaN  ...       NaN   \n",
       "2    Bs.As. G.B.A. Zona Sur  La Plata          La Plata  ...       NaN   \n",
       "3    Bs.As. G.B.A. Zona Sur  La Plata          La Plata  ...       NaN   \n",
       "4  Bs.As. G.B.A. Zona Norte   Escobar  Belén de Escobar  ...       NaN   \n",
       "\n",
       "   surface_total  surface_covered  price  currency  price_period  \\\n",
       "0          350.0            350.0    NaN       NaN           NaN   \n",
       "1         1541.0           1541.0    NaN       NaN       Monthly   \n",
       "2         1000.0           1000.0    NaN       NaN       Monthly   \n",
       "3         1000.0           1000.0    NaN       NaN       Monthly   \n",
       "4        18164.0          18164.0    NaN       NaN       Monthly   \n",
       "\n",
       "                                               title  \\\n",
       "0                     Excelentes Lotes Sobre Ruta 34   \n",
       "1  TERRENO + VENTA + JARDINES DE SAN LORENZO +150...   \n",
       "2               Lote en Venta de 1000 m2 en La Plata   \n",
       "3               Lote en Venta de 1000 m2 en La Plata   \n",
       "4                                 PANAMERICANA 47300   \n",
       "\n",
       "                                         description property_type  \\\n",
       "0  Corredor Responsable: VICTOR E. MONTIVERO - C....       Terrain   \n",
       "1  Corredor Responsable: Pablo Castañeda - C.U.C....       Terrain   \n",
       "2  Corredor Responsable: Rico Sebastián - Martill...       Terrain   \n",
       "3  Corredor Responsable: Rico Sebastián - Martill...       Terrain   \n",
       "4  Nave principal 66 x 90 m:    6005 m2 cubiertos...         Other   \n",
       "\n",
       "  operation_type  \n",
       "0           Sale  \n",
       "1           Sale  \n",
       "2           Sale  \n",
       "3           Sale  \n",
       "4           Sale  \n",
       "\n",
       "[5 rows x 23 columns]"
      ]
     },
     "execution_count": 31,
     "metadata": {},
     "output_type": "execute_result"
    }
   ],
   "source": [
    "df.head()"
   ]
  },
  {
   "cell_type": "code",
   "execution_count": 36,
   "metadata": {},
   "outputs": [],
   "source": [
    "df = df.drop(labels=\"description\", axis=\"columns\")"
   ]
  },
  {
   "cell_type": "code",
   "execution_count": 39,
   "metadata": {},
   "outputs": [],
   "source": [
    "if not os.path.exists(\"csv\"):\n",
    "    os.mkdir(\"csv\")"
   ]
  },
  {
   "cell_type": "code",
   "execution_count": 40,
   "metadata": {},
   "outputs": [],
   "source": [
    "for _, i in enumerate(range(0,1000001,5000)):\n",
    "    df[i:i+5000].to_csv(f\"csv/preprocessed_{_}.csv\")"
   ]
  }
 ],
 "metadata": {
  "kernelspec": {
   "display_name": "Python 3",
   "language": "python",
   "name": "python3"
  },
  "language_info": {
   "codemirror_mode": {
    "name": "ipython",
    "version": 3
   },
   "file_extension": ".py",
   "mimetype": "text/x-python",
   "name": "python",
   "nbconvert_exporter": "python",
   "pygments_lexer": "ipython3",
   "version": "3.10.14"
  }
 },
 "nbformat": 4,
 "nbformat_minor": 2
}
