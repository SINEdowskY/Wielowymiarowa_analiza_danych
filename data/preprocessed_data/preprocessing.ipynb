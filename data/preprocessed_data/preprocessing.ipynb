{
 "cells": [
  {
   "cell_type": "code",
   "execution_count": 112,
   "metadata": {},
   "outputs": [],
   "source": [
    "import pandas as pd"
   ]
  },
  {
   "cell_type": "code",
   "execution_count": 113,
   "metadata": {},
   "outputs": [],
   "source": [
    "df = pd.read_csv(\"../raw_data/ar_properties.csv\")"
   ]
  },
  {
   "cell_type": "code",
   "execution_count": 114,
   "metadata": {},
   "outputs": [
    {
     "data": {
      "text/plain": [
       "Index(['id', 'ad_type', 'start_date', 'end_date', 'created_on', 'lat', 'lon',\n",
       "       'l1', 'l2', 'l3', 'l4', 'l5', 'l6', 'rooms', 'bedrooms', 'bathrooms',\n",
       "       'surface_total', 'surface_covered', 'price', 'currency', 'price_period',\n",
       "       'title', 'description', 'property_type', 'operation_type'],\n",
       "      dtype='object')"
      ]
     },
     "execution_count": 114,
     "metadata": {},
     "output_type": "execute_result"
    }
   ],
   "source": [
    "df.columns"
   ]
  },
  {
   "cell_type": "code",
   "execution_count": 115,
   "metadata": {},
   "outputs": [],
   "source": [
    "df = df.rename(columns={\n",
    "    \"lat\":\"latitude\",\n",
    "    \"lon\":\"longitude\",\n",
    "    \"l1\":\"country\", \n",
    "    \"l2\":\"province\", \n",
    "    \"l3\":\"city\",\n",
    "    \"l4\":\"district\",\n",
    "    \"l5\":\"estate\"\n",
    "})"
   ]
  },
  {
   "cell_type": "code",
   "execution_count": 116,
   "metadata": {},
   "outputs": [
    {
     "data": {
      "text/plain": [
       "Index(['id', 'ad_type', 'start_date', 'end_date', 'created_on', 'latitude',\n",
       "       'longitude', 'country', 'province', 'city', 'district', 'estate', 'l6',\n",
       "       'rooms', 'bedrooms', 'bathrooms', 'surface_total', 'surface_covered',\n",
       "       'price', 'currency', 'price_period', 'title', 'description',\n",
       "       'property_type', 'operation_type'],\n",
       "      dtype='object')"
      ]
     },
     "execution_count": 116,
     "metadata": {},
     "output_type": "execute_result"
    }
   ],
   "source": [
    "df.columns"
   ]
  },
  {
   "cell_type": "code",
   "execution_count": 117,
   "metadata": {},
   "outputs": [
    {
     "data": {
      "text/plain": [
       "Series([], Name: count, dtype: int64)"
      ]
     },
     "execution_count": 117,
     "metadata": {},
     "output_type": "execute_result"
    }
   ],
   "source": [
    "df.l6.value_counts()"
   ]
  },
  {
   "cell_type": "code",
   "execution_count": 118,
   "metadata": {},
   "outputs": [],
   "source": [
    "df = df.drop(columns=[\"l6\"])"
   ]
  },
  {
   "cell_type": "code",
   "execution_count": 119,
   "metadata": {},
   "outputs": [
    {
     "data": {
      "text/plain": [
       "ad_type\n",
       "Propiedad    1000000\n",
       "Name: count, dtype: int64"
      ]
     },
     "execution_count": 119,
     "metadata": {},
     "output_type": "execute_result"
    }
   ],
   "source": [
    "df.ad_type.value_counts()"
   ]
  },
  {
   "cell_type": "code",
   "execution_count": 120,
   "metadata": {},
   "outputs": [],
   "source": [
    "df = df.drop(columns=[\"ad_type\"])"
   ]
  },
  {
   "cell_type": "code",
   "execution_count": 121,
   "metadata": {},
   "outputs": [
    {
     "data": {
      "text/plain": [
       "operation_type\n",
       "Venta                782122\n",
       "Alquiler             183927\n",
       "Alquiler temporal     33951\n",
       "Name: count, dtype: int64"
      ]
     },
     "execution_count": 121,
     "metadata": {},
     "output_type": "execute_result"
    }
   ],
   "source": [
    "df.operation_type.value_counts()"
   ]
  },
  {
   "cell_type": "code",
   "execution_count": 122,
   "metadata": {},
   "outputs": [],
   "source": [
    "df[\"operation_type\"] = df[\"operation_type\"].replace(regex={\n",
    "    \"Venta\":\"Sale\",\n",
    "    \"Alquiler temporal\":\"Temporary Rent\",\n",
    "    \"Alquiler\":\"Rent\"})"
   ]
  },
  {
   "cell_type": "code",
   "execution_count": 123,
   "metadata": {},
   "outputs": [
    {
     "data": {
      "text/plain": [
       "operation_type\n",
       "Sale              782122\n",
       "Rent              183927\n",
       "Temporary Rent     33951\n",
       "Name: count, dtype: int64"
      ]
     },
     "execution_count": 123,
     "metadata": {},
     "output_type": "execute_result"
    }
   ],
   "source": [
    "df.operation_type.value_counts()"
   ]
  },
  {
   "cell_type": "code",
   "execution_count": 124,
   "metadata": {},
   "outputs": [
    {
     "data": {
      "text/plain": [
       "property_type\n",
       "Departamento       373376\n",
       "Otro               239720\n",
       "Casa               190023\n",
       "Lote                83792\n",
       "PH                  35217\n",
       "Local comercial     34493\n",
       "Oficina             26365\n",
       "Cochera              8908\n",
       "Depósito             6502\n",
       "Casa de campo        1604\n",
       "Name: count, dtype: int64"
      ]
     },
     "execution_count": 124,
     "metadata": {},
     "output_type": "execute_result"
    }
   ],
   "source": [
    "df.property_type.value_counts()"
   ]
  },
  {
   "cell_type": "code",
   "execution_count": 125,
   "metadata": {},
   "outputs": [],
   "source": [
    "df[\"property_type\"] = df[\"property_type\"].replace(regex={\n",
    "    \"Departamento\":\"Apartment\",\n",
    "    \"Local comercial\":\"Commercial Premises\",\n",
    "    \"Oficina\":\"Office\",\n",
    "    \"Depósito\":\"Warehouse\",\n",
    "    \"Otro\": \"Other\",\n",
    "    \"Casa de campo\":\"Village House\",\n",
    "    \"Casa\":\"House\",\n",
    "    \"Cochera\":\"Garage\",\n",
    "    \"Lote\":\"Terrain\",\n",
    "    \"PH\": \"??????\"\n",
    "    })"
   ]
  },
  {
   "cell_type": "code",
   "execution_count": 127,
   "metadata": {},
   "outputs": [
    {
     "data": {
      "text/plain": [
       "(231140.34107096842, 7379.891555198346)"
      ]
     },
     "execution_count": 127,
     "metadata": {},
     "output_type": "execute_result"
    }
   ],
   "source": [
    "cond_rent = df[\"operation_type\"] == \"Rent\"\n",
    "cond_sale = df[\"operation_type\"] == \"Sale\"\n",
    "cond_curr = df[\"currency\"] == \"USD\"\n",
    "df[cond_sale & cond_curr].price.mean(), \\\n",
    "    df[cond_rent & cond_curr].price.mean()"
   ]
  }
 ],
 "metadata": {
  "kernelspec": {
   "display_name": "Python 3",
   "language": "python",
   "name": "python3"
  },
  "language_info": {
   "codemirror_mode": {
    "name": "ipython",
    "version": 3
   },
   "file_extension": ".py",
   "mimetype": "text/x-python",
   "name": "python",
   "nbconvert_exporter": "python",
   "pygments_lexer": "ipython3",
   "version": "3.10.14"
  }
 },
 "nbformat": 4,
 "nbformat_minor": 2
}
