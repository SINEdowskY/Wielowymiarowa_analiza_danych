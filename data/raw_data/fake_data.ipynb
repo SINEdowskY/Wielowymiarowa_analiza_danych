{
 "cells": [
  {
   "cell_type": "code",
   "execution_count": 2,
   "metadata": {
    "metadata": {}
   },
   "outputs": [],
   "source": [
    "from faker import Faker\n",
    "import numpy as np\n",
    "import pandas as pd\n",
    "import datetime\n",
    "from datetime import date\n",
    "import random\n",
    "import string\n",
    "fake = Faker('es_AR')\n",
    "fake_tea = Faker(\"en_US\")"
   ]
  },
  {
   "cell_type": "code",
   "execution_count": 3,
   "metadata": {
    "metadata": {}
   },
   "outputs": [],
   "source": [
    "size = 800000"
   ]
  },
  {
   "cell_type": "code",
   "execution_count": 4,
   "metadata": {
    "metadata": {}
   },
   "outputs": [],
   "source": [
    "df = pd.DataFrame(\n",
    "    data = {\n",
    "        \"id\": list(range(size)),\n",
    "        \"first_name\": [fake.first_name() for i in range(size)],\n",
    "        \"last_name\": [fake.last_name() for i in range(size)],\n",
    "        \"date_of_birth\":[fake.date_of_birth(minimum_age=23, maximum_age=57) for i in range(size)],\n",
    "        \"email\":[''.join(random.choice(string.ascii_lowercase + string.digits) for _ in range(8)) + \"@\" + fake.free_email_domain()  for i in range(size)],\n",
    "    }\n",
    ")"
   ]
  },
  {
   "cell_type": "code",
   "execution_count": 5,
   "metadata": {
    "metadata": {}
   },
   "outputs": [
    {
     "data": {
      "text/plain": [
       "id                int64\n",
       "first_name       object\n",
       "last_name        object\n",
       "date_of_birth    object\n",
       "email            object\n",
       "dtype: object"
      ]
     },
     "execution_count": 5,
     "metadata": {},
     "output_type": "execute_result"
    }
   ],
   "source": [
    "df.dtypes"
   ]
  },
  {
   "cell_type": "code",
   "execution_count": 6,
   "metadata": {
    "metadata": {}
   },
   "outputs": [],
   "source": [
    "df[\"date_of_birth\"] = df[\"date_of_birth\"].astype(\"date32[pyarrow]\")"
   ]
  },
  {
   "cell_type": "code",
   "execution_count": 7,
   "metadata": {},
   "outputs": [],
   "source": [
    "children_number = []\n",
    "for row in df.date_of_birth.items():\n",
    "    value = row[1]\n",
    "    no_child = 0\n",
    "    if value.year < 1997:\n",
    "        no_child = np.random.normal(1.89,1).__int__()\n",
    "    children_number.append(no_child)\n",
    "\n",
    "df[\"number_of_children\"] = children_number"
   ]
  },
  {
   "cell_type": "code",
   "execution_count": 8,
   "metadata": {},
   "outputs": [],
   "source": [
    "sex = []\n",
    "for row in df.first_name.items():\n",
    "    value = row[1]\n",
    "    if value.split()[0][-1] == \"a\":\n",
    "        sex.append(\"Female\")\n",
    "    else:\n",
    "        sex.append(\"Male\")\n",
    "\n",
    "df[\"sex\"] = sex"
   ]
  },
  {
   "cell_type": "code",
   "execution_count": 15,
   "metadata": {},
   "outputs": [],
   "source": [
    "education = []\n",
    "annual_income_usd = []\n",
    "job =[fake_tea.job() for i in range(size)],\n",
    "\n",
    "for row in df.first_name.items():\n",
    "    rand = random.random()\n",
    "    if rand < 0.24:\n",
    "        education.append(\"Tertiary\")\n",
    "        annual_income_usd.append(int(str(random.randint(46,215))+\"000\"))\n",
    "\n",
    "    elif rand >= 0.24 and rand < 0.9:\n",
    "        education.append(\"Secondary\")\n",
    "        annual_income_usd.append(int(str(random.randint(28,108))+\"000\"))\n",
    "    else:\n",
    "        education.append(\"Primary\")\n",
    "        annual_income_usd.append(int(str(random.randint(17,56))+\"000\"))\n",
    "\n",
    "df[\"education\"] = education\n",
    "df[\"annual_income_usd\"] = annual_income_usd"
   ]
  },
  {
   "cell_type": "code",
   "execution_count": 16,
   "metadata": {},
   "outputs": [
    {
     "data": {
      "text/html": [
       "<div>\n",
       "<style scoped>\n",
       "    .dataframe tbody tr th:only-of-type {\n",
       "        vertical-align: middle;\n",
       "    }\n",
       "\n",
       "    .dataframe tbody tr th {\n",
       "        vertical-align: top;\n",
       "    }\n",
       "\n",
       "    .dataframe thead th {\n",
       "        text-align: right;\n",
       "    }\n",
       "</style>\n",
       "<table border=\"1\" class=\"dataframe\">\n",
       "  <thead>\n",
       "    <tr style=\"text-align: right;\">\n",
       "      <th></th>\n",
       "      <th>id</th>\n",
       "      <th>first_name</th>\n",
       "      <th>last_name</th>\n",
       "      <th>date_of_birth</th>\n",
       "      <th>email</th>\n",
       "      <th>number_of_children</th>\n",
       "      <th>sex</th>\n",
       "      <th>education</th>\n",
       "      <th>annual_income_usd</th>\n",
       "    </tr>\n",
       "  </thead>\n",
       "  <tbody>\n",
       "    <tr>\n",
       "      <th>655315</th>\n",
       "      <td>655315</td>\n",
       "      <td>Simon</td>\n",
       "      <td>Morales</td>\n",
       "      <td>1974-01-28</td>\n",
       "      <td>ic2druo7@yahoo.com</td>\n",
       "      <td>3</td>\n",
       "      <td>Male</td>\n",
       "      <td>Primary</td>\n",
       "      <td>49000</td>\n",
       "    </tr>\n",
       "    <tr>\n",
       "      <th>719115</th>\n",
       "      <td>719115</td>\n",
       "      <td>Mateo Benjamin</td>\n",
       "      <td>Dominguez</td>\n",
       "      <td>1974-01-16</td>\n",
       "      <td>ca6zn9gk@yahoo.com</td>\n",
       "      <td>2</td>\n",
       "      <td>Male</td>\n",
       "      <td>Secondary</td>\n",
       "      <td>75000</td>\n",
       "    </tr>\n",
       "    <tr>\n",
       "      <th>58236</th>\n",
       "      <td>58236</td>\n",
       "      <td>Francesco</td>\n",
       "      <td>Suarez</td>\n",
       "      <td>1973-04-04</td>\n",
       "      <td>d85a9dyg@yahoo.com</td>\n",
       "      <td>3</td>\n",
       "      <td>Male</td>\n",
       "      <td>Secondary</td>\n",
       "      <td>57000</td>\n",
       "    </tr>\n",
       "    <tr>\n",
       "      <th>630201</th>\n",
       "      <td>630201</td>\n",
       "      <td>Martina</td>\n",
       "      <td>Sosa</td>\n",
       "      <td>1986-11-04</td>\n",
       "      <td>8ev7dz6c@hotmail.com</td>\n",
       "      <td>4</td>\n",
       "      <td>Female</td>\n",
       "      <td>Tertiary</td>\n",
       "      <td>184000</td>\n",
       "    </tr>\n",
       "    <tr>\n",
       "      <th>796357</th>\n",
       "      <td>796357</td>\n",
       "      <td>Josefina</td>\n",
       "      <td>Flores</td>\n",
       "      <td>1986-05-04</td>\n",
       "      <td>2snjioxz@yahoo.com</td>\n",
       "      <td>1</td>\n",
       "      <td>Female</td>\n",
       "      <td>Secondary</td>\n",
       "      <td>77000</td>\n",
       "    </tr>\n",
       "    <tr>\n",
       "      <th>30582</th>\n",
       "      <td>30582</td>\n",
       "      <td>Delfina</td>\n",
       "      <td>Farias</td>\n",
       "      <td>1972-11-20</td>\n",
       "      <td>y6fw3to1@hotmail.com</td>\n",
       "      <td>2</td>\n",
       "      <td>Female</td>\n",
       "      <td>Secondary</td>\n",
       "      <td>71000</td>\n",
       "    </tr>\n",
       "    <tr>\n",
       "      <th>152573</th>\n",
       "      <td>152573</td>\n",
       "      <td>Genaro</td>\n",
       "      <td>Moyano</td>\n",
       "      <td>1978-08-04</td>\n",
       "      <td>a63p9u4d@yahoo.com</td>\n",
       "      <td>2</td>\n",
       "      <td>Male</td>\n",
       "      <td>Secondary</td>\n",
       "      <td>53000</td>\n",
       "    </tr>\n",
       "    <tr>\n",
       "      <th>423036</th>\n",
       "      <td>423036</td>\n",
       "      <td>Juan Pablo</td>\n",
       "      <td>Gonzalez</td>\n",
       "      <td>1986-04-14</td>\n",
       "      <td>6rxkz5by@gmail.com</td>\n",
       "      <td>0</td>\n",
       "      <td>Male</td>\n",
       "      <td>Secondary</td>\n",
       "      <td>34000</td>\n",
       "    </tr>\n",
       "    <tr>\n",
       "      <th>381657</th>\n",
       "      <td>381657</td>\n",
       "      <td>Valentina</td>\n",
       "      <td>Martinez</td>\n",
       "      <td>1974-08-29</td>\n",
       "      <td>f31a7uer@hotmail.com</td>\n",
       "      <td>2</td>\n",
       "      <td>Female</td>\n",
       "      <td>Secondary</td>\n",
       "      <td>71000</td>\n",
       "    </tr>\n",
       "    <tr>\n",
       "      <th>200699</th>\n",
       "      <td>200699</td>\n",
       "      <td>Juan Sebastian</td>\n",
       "      <td>Villalba</td>\n",
       "      <td>1997-05-17</td>\n",
       "      <td>9px0z54n@yahoo.com</td>\n",
       "      <td>0</td>\n",
       "      <td>Male</td>\n",
       "      <td>Secondary</td>\n",
       "      <td>87000</td>\n",
       "    </tr>\n",
       "  </tbody>\n",
       "</table>\n",
       "</div>"
      ],
      "text/plain": [
       "            id      first_name  last_name date_of_birth                 email  \\\n",
       "655315  655315           Simon    Morales    1974-01-28    ic2druo7@yahoo.com   \n",
       "719115  719115  Mateo Benjamin  Dominguez    1974-01-16    ca6zn9gk@yahoo.com   \n",
       "58236    58236       Francesco     Suarez    1973-04-04    d85a9dyg@yahoo.com   \n",
       "630201  630201         Martina       Sosa    1986-11-04  8ev7dz6c@hotmail.com   \n",
       "796357  796357        Josefina     Flores    1986-05-04    2snjioxz@yahoo.com   \n",
       "30582    30582         Delfina     Farias    1972-11-20  y6fw3to1@hotmail.com   \n",
       "152573  152573          Genaro     Moyano    1978-08-04    a63p9u4d@yahoo.com   \n",
       "423036  423036      Juan Pablo   Gonzalez    1986-04-14    6rxkz5by@gmail.com   \n",
       "381657  381657       Valentina   Martinez    1974-08-29  f31a7uer@hotmail.com   \n",
       "200699  200699  Juan Sebastian   Villalba    1997-05-17    9px0z54n@yahoo.com   \n",
       "\n",
       "        number_of_children     sex  education  annual_income_usd  \n",
       "655315                   3    Male    Primary              49000  \n",
       "719115                   2    Male  Secondary              75000  \n",
       "58236                    3    Male  Secondary              57000  \n",
       "630201                   4  Female   Tertiary             184000  \n",
       "796357                   1  Female  Secondary              77000  \n",
       "30582                    2  Female  Secondary              71000  \n",
       "152573                   2    Male  Secondary              53000  \n",
       "423036                   0    Male  Secondary              34000  \n",
       "381657                   2  Female  Secondary              71000  \n",
       "200699                   0    Male  Secondary              87000  "
      ]
     },
     "execution_count": 16,
     "metadata": {},
     "output_type": "execute_result"
    }
   ],
   "source": [
    "df.sample(10)"
   ]
  },
  {
   "cell_type": "code",
   "execution_count": 17,
   "metadata": {},
   "outputs": [],
   "source": [
    "df.to_csv(\"ar_clients.csv\")"
   ]
  },
  {
   "cell_type": "code",
   "execution_count": null,
   "metadata": {},
   "outputs": [],
   "source": []
  }
 ],
 "metadata": {
  "kernelspec": {
   "display_name": "Python 3",
   "language": "python",
   "name": "python3"
  },
  "language_info": {
   "codemirror_mode": {
    "name": "ipython",
    "version": 3
   },
   "file_extension": ".py",
   "mimetype": "text/x-python",
   "name": "python",
   "nbconvert_exporter": "python",
   "pygments_lexer": "ipython3",
   "version": "3.10.14"
  }
 },
 "nbformat": 4,
 "nbformat_minor": 2
}
