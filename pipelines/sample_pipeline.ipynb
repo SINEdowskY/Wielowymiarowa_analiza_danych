{
 "cells": [
  {
   "cell_type": "code",
   "execution_count": 6,
   "metadata": {},
   "outputs": [],
   "source": [
    "from pyspark.sql import SparkSession\n",
    "import pyspark.pandas as pd"
   ]
  },
  {
   "cell_type": "code",
   "execution_count": 7,
   "metadata": {},
   "outputs": [],
   "source": [
    "spark = SparkSession.builder \\\n",
    "        .appName(\"Sample PySpark SQL Server Connection\") \\\n",
    "        .config(\"spark.jars\", \"../jdbc/mssql-jdbc-12.6.1.jre8.jar\") \\\n",
    "        .getOrCreate()"
   ]
  },
  {
   "cell_type": "code",
   "execution_count": 9,
   "metadata": {},
   "outputs": [],
   "source": [
    "server_name = \"mssql\"\n",
    "port = \"1433\"\n",
    "database_name = \"Data\"\n",
    "url = f\"jdbc:sqlserver://{server_name}:{port};databaseName={database_name}\"\n",
    "\n",
    "table_name = \"ARProperties\"\n",
    "username = \"SA\"\n",
    "password = \"YourStrongPassword123\"\n",
    "\n",
    "df = spark.read \\\n",
    "        .format(\"jdbc\") \\\n",
    "        .option(\"url\", url) \\\n",
    "        .option(\"dbtable\", table_name) \\\n",
    "        .option(\"user\", username) \\\n",
    "        .option(\"password\", password) \\\n",
    "        .option(\"encrypt\", \"false\") \\\n",
    "        .option(\"driver\", \"com.microsoft.sqlserver.jdbc.SQLServerDriver\") \\\n",
    "        .load()"
   ]
  },
  {
   "cell_type": "code",
   "execution_count": 10,
   "metadata": {},
   "outputs": [
    {
     "name": "stdout",
     "output_type": "stream",
     "text": [
      "+--------------------+----------+----------+----------+-------------+--------------+---------+--------------------+-------------+--------+------+-----+--------+---------+-------------+---------------+--------+--------+------------+--------------------+--------------------+-------------+--------------+\n",
      "|                  id|start_date|  end_date|created_on|     latitude|     longitude|  country|            province|         city|district|estate|rooms|bedrooms|bathrooms|surface_total|surface_covered|   price|currency|price_period|               title|         description|property_type|operation_type|\n",
      "+--------------------+----------+----------+----------+-------------+--------------+---------+--------------------+-------------+--------+------+-----+--------+---------+-------------+---------------+--------+--------+------------+--------------------+--------------------+-------------+--------------+\n",
      "|UaHxtOJEXoI3/nv13...|2020-04-27|2020-04-28|2020-04-27|         NULL|          NULL|Argentina|Buenos Aires Cost...|Mar del Plata|    NULL|  NULL| NULL|    NULL|      4.0|         NULL|           NULL|490000.0|     USD|     Monthly|ESPECTACULAR CASA...|Sobre lote de 720...|        Other|          Sale|\n",
      "|b7kEfvYg3Mv/64xVy...|2020-04-27|2020-04-28|2020-04-27|  -38.0138282|   -57.5344347|Argentina|Buenos Aires Cost...|Mar del Plata|    NULL|  NULL| NULL|    NULL|      4.0|         NULL|           NULL| 55000.0|     ARS|     Monthly|CHALET STELLA MAR...|CASA DESARROLLADA...|        Other|          Rent|\n",
      "|UOSPrJcPDMsR/qUpy...|2020-04-27|2020-04-28|2020-04-27|  -37.9566178|   -57.5715588|Argentina|Buenos Aires Cost...|Mar del Plata|    NULL|  NULL| NULL|    NULL|      4.0|         NULL|           NULL|105000.0|     USD|     Monthly|      Ref. 01 - PISO|DEPARTAMENTO A LA...|        Other|          Sale|\n",
      "|vUxnhaWnP92K7H7Di...|2020-04-27|2020-04-28|2020-04-27|  -38.0225923|   -57.5543495|Argentina|Buenos Aires Cost...|Mar del Plata|    NULL|  NULL| NULL|    NULL|      4.0|         NULL|           NULL|400000.0|     USD|     Monthly|Excelente Chalet ...|MAGNIFICA PROPIED...|        Other|          Sale|\n",
      "|Jwcip/8IL3G62qwdx...|2020-04-27|2020-04-28|2020-04-27|         NULL|          NULL|Argentina|Buenos Aires Cost...|Mar del Plata|    NULL|  NULL| NULL|    NULL|      4.0|         NULL|           NULL| 35000.0|     ARS|     Monthly|CASA EN ALQUILER ...|CASA EN ALQUILER ...|        Other|          Rent|\n",
      "|HZXAzAIFwewh7vuv/...|2020-04-27|2020-04-28|2020-04-27| -38.07446231|  -57.60028967|Argentina|Buenos Aires Cost...|Mar del Plata|    NULL|  NULL| NULL|    NULL|      4.0|         NULL|           NULL|300000.0|     USD|     Monthly|Casa 4 ambientes ...|Casa de 4 ambient...|        Other|          Sale|\n",
      "|LLwsizXEayftybUpm...|2020-04-27|2020-04-28|2020-04-27|  -37.9566953|   -57.5577481|Argentina|Buenos Aires Cost...|Mar del Plata|    NULL|  NULL| NULL|    NULL|      4.0|         NULL|           NULL|270000.0|     USD|     Monthly|CHALET 4 AMBIENTE...|CHALET EN 3 NIVEL...|        Other|          Sale|\n",
      "|SpH7zE67nL4nkDI+l...|2020-04-27|2020-04-28|2020-04-27|   -38.007073|   -57.5768391|Argentina|Buenos Aires Cost...|Mar del Plata|    NULL|  NULL| NULL|    NULL|      4.0|         NULL|           NULL|465000.0|     USD|     Monthly|Chalet con piscin...|Gran Chalet en Ba...|        Other|          Sale|\n",
      "|DaLbmUUu0LSLBeK56...|2020-04-27|2020-04-28|2020-04-27|    -38.01077|    -57.536191|Argentina|Buenos Aires Cost...|Mar del Plata|    NULL|  NULL| NULL|    NULL|      4.0|         NULL|           NULL|450000.0|     ARS|     Monthly|dpto 4 amb vista ...|Departamento de c...|        Other|          Sale|\n",
      "|hepJU3v7CyrlyP3i5...|2020-09-16|9999-12-31|2020-09-16|-31.718141067|-64.6236443994|Argentina|             Córdoba|  Santa María|    NULL|  NULL|  8.0|     9.0|      9.0|        600.0|          600.0|120000.0|     USD|     Monthly|Hotel - San Clemente|Hermosa Posada ma...|        Other|          Sale|\n",
      "+--------------------+----------+----------+----------+-------------+--------------+---------+--------------------+-------------+--------+------+-----+--------+---------+-------------+---------------+--------+--------+------------+--------------------+--------------------+-------------+--------------+\n",
      "only showing top 10 rows\n",
      "\n"
     ]
    }
   ],
   "source": [
    "df.show(10)"
   ]
  }
 ],
 "metadata": {
  "kernelspec": {
   "display_name": "Python 3 (ipykernel)",
   "language": "python",
   "name": "python3"
  },
  "language_info": {
   "codemirror_mode": {
    "name": "ipython",
    "version": 3
   },
   "file_extension": ".py",
   "mimetype": "text/x-python",
   "name": "python",
   "nbconvert_exporter": "python",
   "pygments_lexer": "ipython3",
   "version": "3.11.6"
  }
 },
 "nbformat": 4,
 "nbformat_minor": 2
}
