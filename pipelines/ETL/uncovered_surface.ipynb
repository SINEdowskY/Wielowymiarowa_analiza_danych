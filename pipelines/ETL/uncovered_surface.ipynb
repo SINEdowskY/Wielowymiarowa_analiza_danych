{
 "cells": [
  {
   "cell_type": "code",
   "execution_count": 53,
   "id": "initial_id",
   "metadata": {
    "collapsed": true,
    "ExecuteTime": {
     "end_time": "2024-05-19T17:09:55.699845Z",
     "start_time": "2024-05-19T17:09:55.694789Z"
    }
   },
   "outputs": [],
   "source": [
    "from pyspark.sql import SparkSession\n",
    "from pyspark.sql.functions import col, when, count\n",
    "import pyspark.pandas as pd\n",
    "from pyspark.sql import functions as F\n",
    "from pyspark.sql.window import Window\n",
    "import pyspark.sql.types as types"
   ]
  },
  {
   "cell_type": "code",
   "outputs": [],
   "source": [
    "spark = SparkSession.builder \\\n",
    "        .appName(\"Uncovered Area\") \\\n",
    "        .config(\"spark.jars\", \"../jdbc/mssql-jdbc-12.6.1.jre8.jar\") \\\n",
    "        .getOrCreate()"
   ],
   "metadata": {
    "collapsed": false,
    "ExecuteTime": {
     "end_time": "2024-05-19T17:09:55.714069Z",
     "start_time": "2024-05-19T17:09:55.707109Z"
    }
   },
   "id": "cdfa90260ff4739c",
   "execution_count": 54
  },
  {
   "cell_type": "code",
   "outputs": [],
   "source": [
    "server_name = \"mssql\"\n",
    "port = \"1433\"\n",
    "database_name = \"Data\"\n",
    "url = f\"jdbc:sqlserver://{server_name}:{port};databaseName={database_name}\"\n",
    "\n",
    "table_name = \"ARProperties\"\n",
    "username = \"SA\"\n",
    "password = \"YourStrongPassword123\"\n",
    "\n",
    "df = spark.read \\\n",
    "        .format(\"jdbc\") \\\n",
    "        .option(\"url\", url) \\\n",
    "        .option(\"dbtable\", table_name) \\\n",
    "        .option(\"user\", username) \\\n",
    "        .option(\"password\", password) \\\n",
    "        .option(\"encrypt\", \"false\") \\\n",
    "        .option(\"driver\", \"com.microsoft.sqlserver.jdbc.SQLServerDriver\") \\\n",
    "        .load()"
   ],
   "metadata": {
    "collapsed": false,
    "ExecuteTime": {
     "end_time": "2024-05-19T17:09:55.751703Z",
     "start_time": "2024-05-19T17:09:55.715690Z"
    }
   },
   "id": "e49c829c9f9d9795",
   "execution_count": 55
  },
  {
   "cell_type": "code",
   "outputs": [],
   "source": [
    "df = df.filter(~col(\"property_type\").isin(\"Terrain\"))"
   ],
   "metadata": {
    "collapsed": false,
    "ExecuteTime": {
     "end_time": "2024-05-19T17:09:55.766107Z",
     "start_time": "2024-05-19T17:09:55.752930Z"
    }
   },
   "id": "fb1d8e7228733a3",
   "execution_count": 56
  },
  {
   "cell_type": "code",
   "outputs": [],
   "source": [
    "df = df.withColumn(\"surface_total\", col(\"surface_total\").cast(\"int\"))\n",
    "df = df.withColumn(\"surface_covered\", col(\"surface_covered\").cast(\"int\"))"
   ],
   "metadata": {
    "collapsed": false,
    "ExecuteTime": {
     "end_time": "2024-05-19T17:09:55.787897Z",
     "start_time": "2024-05-19T17:09:55.767882Z"
    }
   },
   "id": "6673479280ae47de",
   "execution_count": 57
  },
  {
   "cell_type": "code",
   "outputs": [],
   "source": [
    "def calculate_uncovered_area(surface_total, surface_covered):\n",
    "    if surface_total is None or surface_covered is None:\n",
    "        return None\n",
    "    elif surface_total <= surface_covered:\n",
    "        return None\n",
    "    else:\n",
    "        return surface_total - surface_covered\n",
    "    \n",
    "calculate_uncovered_area_udf = F.udf(calculate_uncovered_area)"
   ],
   "metadata": {
    "collapsed": false,
    "ExecuteTime": {
     "end_time": "2024-05-19T17:09:55.793660Z",
     "start_time": "2024-05-19T17:09:55.789424Z"
    }
   },
   "id": "8a92ad35de439c05",
   "execution_count": 58
  },
  {
   "cell_type": "code",
   "outputs": [],
   "source": [
    "df = df.withColumn(\"surface_area_uncovered\", calculate_uncovered_area_udf(col(\"surface_total\"), col(\"surface_covered\")))\n",
    "df = df.filter(col(\"surface_area_uncovered\").isNotNull())"
   ],
   "metadata": {
    "collapsed": false,
    "ExecuteTime": {
     "end_time": "2024-05-19T17:09:55.831573Z",
     "start_time": "2024-05-19T17:09:55.795269Z"
    }
   },
   "id": "76faf3c46f3e011e",
   "execution_count": 59
  },
  {
   "cell_type": "code",
   "outputs": [
    {
     "name": "stdout",
     "output_type": "stream",
     "text": [
      "+--------------------+-------------------+-------------+---------------+----------------------+\n",
      "|                  id|      property_type|surface_total|surface_covered|surface_area_uncovered|\n",
      "+--------------------+-------------------+-------------+---------------+----------------------+\n",
      "|4Yxm18AoXOe0v5Dxz...|          Apartment|           63|             49|                    14|\n",
      "|tld2CbMqj3l/CrYSJ...|          Apartment|           90|             87|                     3|\n",
      "|+UXNClE+BfmLoxl3/...|          Apartment|           90|             87|                     3|\n",
      "|pC5JkluyzV+EFoEIk...|              House|         2815|            459|                  2356|\n",
      "|0Gq0cAPakjVmW6x5g...|          Apartment|           38|             36|                     2|\n",
      "|UuE5DRVW0BKJE2nAg...|      Village House|         1500|             60|                  1440|\n",
      "|kDb3k24QzbWd4lNky...|          Apartment|           39|             38|                     1|\n",
      "|kKhQd6uvRE8ZXq8PI...|          Apartment|           60|             58|                     2|\n",
      "|NqDSbshlUFe6wK4RF...|          Apartment|           74|             70|                     4|\n",
      "|ItDSd7h9JF3QUo3pc...|          Apartment|           72|             60|                    12|\n",
      "|STDjRPI833no78G44...|          Apartment|           54|             50|                     4|\n",
      "|dcoMdzNV1U/39P1aM...|          Apartment|          169|             77|                    92|\n",
      "|scfwbJMM9DHUkCl/m...|              House|           51|             44|                     7|\n",
      "|xU8f0gLzejoRFzCPv...|          Apartment|           56|             55|                     1|\n",
      "|HqnAgS0pg9IieIMlb...|          Apartment|           90|             87|                     3|\n",
      "|sVGosQIKEN7Bor0qu...|              House|          250|            130|                   120|\n",
      "|Uac5IDH+XKgWQE3OR...|              House|         1560|            400|                  1160|\n",
      "|D4z1/jOtGyA0aJ5wW...|             Garage|           95|             10|                    85|\n",
      "|QqznLUmAGx0Ehc5fu...|             Office|          165|            154|                    11|\n",
      "|x8otAr+ET5dnJduaR...|Commercial Premises|           59|             38|                    21|\n",
      "+--------------------+-------------------+-------------+---------------+----------------------+\n"
     ]
    }
   ],
   "source": [
    "df.select(\"id\", \"property_type\", \"surface_total\", \"surface_covered\", \"surface_area_uncovered\").show(20)"
   ],
   "metadata": {
    "collapsed": false,
    "ExecuteTime": {
     "end_time": "2024-05-19T17:09:56.296716Z",
     "start_time": "2024-05-19T17:09:55.832743Z"
    }
   },
   "id": "ae89fe906670bb27",
   "execution_count": 60
  },
  {
   "cell_type": "code",
   "outputs": [],
   "source": [
    "database_name = \"Data_Clean\"\n",
    "table_name = \"Uncovered_Area\"\n",
    "url = f\"jdbc:sqlserver://{server_name}:{port};databaseName={database_name}\"\n",
    "df.write \\\n",
    "    .format(\"jdbc\") \\\n",
    "    .option(\"url\", url) \\\n",
    "    .option(\"dbtable\", table_name) \\\n",
    "    .option(\"user\", username) \\\n",
    "    .option(\"password\", password) \\\n",
    "    .option(\"encrypt\", \"false\") \\\n",
    "    .option(\"driver\", \"com.microsoft.sqlserver.jdbc.SQLServerDriver\") \\\n",
    "    .mode(\"overwrite\") \\\n",
    "    .save()"
   ],
   "metadata": {
    "collapsed": false,
    "ExecuteTime": {
     "end_time": "2024-05-19T17:10:01.765014Z",
     "start_time": "2024-05-19T17:09:56.298135Z"
    }
   },
   "id": "c35005a71c5801c8",
   "execution_count": 61
  },
  {
   "cell_type": "code",
   "outputs": [],
   "source": [],
   "metadata": {
    "collapsed": false,
    "ExecuteTime": {
     "end_time": "2024-05-19T17:10:01.768437Z",
     "start_time": "2024-05-19T17:10:01.766219Z"
    }
   },
   "id": "afa9768602a4d42f",
   "execution_count": 61
  },
  {
   "cell_type": "code",
   "outputs": [],
   "source": [],
   "metadata": {
    "collapsed": false,
    "ExecuteTime": {
     "end_time": "2024-05-19T17:10:01.773773Z",
     "start_time": "2024-05-19T17:10:01.771215Z"
    }
   },
   "id": "3c46278bc6848a51",
   "execution_count": 61
  },
  {
   "cell_type": "code",
   "outputs": [],
   "source": [],
   "metadata": {
    "collapsed": false,
    "ExecuteTime": {
     "end_time": "2024-05-19T17:10:01.777409Z",
     "start_time": "2024-05-19T17:10:01.775207Z"
    }
   },
   "id": "7cff94d490a7b494",
   "execution_count": 61
  }
 ],
 "metadata": {
  "kernelspec": {
   "display_name": "Python 3",
   "language": "python",
   "name": "python3"
  },
  "language_info": {
   "codemirror_mode": {
    "name": "ipython",
    "version": 2
   },
   "file_extension": ".py",
   "mimetype": "text/x-python",
   "name": "python",
   "nbconvert_exporter": "python",
   "pygments_lexer": "ipython2",
   "version": "2.7.6"
  }
 },
 "nbformat": 4,
 "nbformat_minor": 5
}
