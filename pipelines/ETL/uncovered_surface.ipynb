{
 "cells": [
  {
   "cell_type": "code",
   "execution_count": 1,
   "id": "initial_id",
   "metadata": {
    "ExecuteTime": {
     "end_time": "2024-05-19T17:09:55.699845Z",
     "start_time": "2024-05-19T17:09:55.694789Z"
    },
    "collapsed": true
   },
   "outputs": [
    {
     "name": "stderr",
     "output_type": "stream",
     "text": [
      "/usr/local/spark/python/pyspark/pandas/__init__.py:50: UserWarning: 'PYARROW_IGNORE_TIMEZONE' environment variable was not set. It is required to set this environment variable to '1' in both driver and executor sides if you use pyarrow>=2.0.0. pandas-on-Spark will set it for you but it does not work if there is a Spark context already launched.\n",
      "  warnings.warn(\n"
     ]
    }
   ],
   "source": [
    "from pyspark.sql import SparkSession\n",
    "from pyspark.sql.functions import col, when, count\n",
    "import pyspark.pandas as pd\n",
    "from pyspark.sql import functions as F\n",
    "from pyspark.sql.window import Window\n",
    "import pyspark.sql.types as types"
   ]
  },
  {
   "cell_type": "code",
   "execution_count": 2,
   "id": "cdfa90260ff4739c",
   "metadata": {
    "ExecuteTime": {
     "end_time": "2024-05-19T17:09:55.714069Z",
     "start_time": "2024-05-19T17:09:55.707109Z"
    },
    "collapsed": false
   },
   "outputs": [],
   "source": [
    "spark = SparkSession.builder \\\n",
    "        .appName(\"Uncovered Area\") \\\n",
    "        .config(\"spark.jars\", \"../jdbc/mssql-jdbc-12.6.1.jre8.jar\") \\\n",
    "        .getOrCreate()"
   ]
  },
  {
   "cell_type": "code",
   "execution_count": 3,
   "id": "e49c829c9f9d9795",
   "metadata": {
    "ExecuteTime": {
     "end_time": "2024-05-19T17:09:55.751703Z",
     "start_time": "2024-05-19T17:09:55.715690Z"
    },
    "collapsed": false
   },
   "outputs": [],
   "source": [
    "server_name = \"mssql\"\n",
    "port = \"1433\"\n",
    "database_name = \"Data\"\n",
    "url = f\"jdbc:sqlserver://{server_name}:{port};databaseName={database_name}\"\n",
    "\n",
    "table_name = \"ARProperties\"\n",
    "username = \"SA\"\n",
    "password = \"YourStrongPassword123\"\n",
    "\n",
    "df = spark.read \\\n",
    "        .format(\"jdbc\") \\\n",
    "        .option(\"url\", url) \\\n",
    "        .option(\"dbtable\", table_name) \\\n",
    "        .option(\"user\", username) \\\n",
    "        .option(\"password\", password) \\\n",
    "        .option(\"encrypt\", \"false\") \\\n",
    "        .option(\"driver\", \"com.microsoft.sqlserver.jdbc.SQLServerDriver\") \\\n",
    "        .load()"
   ]
  },
  {
   "cell_type": "code",
   "execution_count": 4,
   "id": "fb1d8e7228733a3",
   "metadata": {
    "ExecuteTime": {
     "end_time": "2024-05-19T17:09:55.766107Z",
     "start_time": "2024-05-19T17:09:55.752930Z"
    },
    "collapsed": false
   },
   "outputs": [],
   "source": [
    "df = df.filter(~col(\"property_type\").isin(\"Terrain\"))"
   ]
  },
  {
   "cell_type": "code",
   "execution_count": 5,
   "id": "6673479280ae47de",
   "metadata": {
    "ExecuteTime": {
     "end_time": "2024-05-19T17:09:55.787897Z",
     "start_time": "2024-05-19T17:09:55.767882Z"
    },
    "collapsed": false
   },
   "outputs": [],
   "source": [
    "df = df.withColumn(\"surface_total\", col(\"surface_total\").cast(\"int\"))\n",
    "df = df.withColumn(\"surface_covered\", col(\"surface_covered\").cast(\"int\"))"
   ]
  },
  {
   "cell_type": "code",
   "execution_count": 6,
   "id": "8a92ad35de439c05",
   "metadata": {
    "ExecuteTime": {
     "end_time": "2024-05-19T17:09:55.793660Z",
     "start_time": "2024-05-19T17:09:55.789424Z"
    },
    "collapsed": false
   },
   "outputs": [],
   "source": [
    "def calculate_uncovered_area(surface_total, surface_covered):\n",
    "    if surface_total is None or surface_covered is None:\n",
    "        return None\n",
    "    elif surface_total <= surface_covered:\n",
    "        return None\n",
    "    else:\n",
    "        return surface_total - surface_covered\n",
    "    \n",
    "calculate_uncovered_area_udf = F.udf(calculate_uncovered_area)"
   ]
  },
  {
   "cell_type": "code",
   "execution_count": 7,
   "id": "76faf3c46f3e011e",
   "metadata": {
    "ExecuteTime": {
     "end_time": "2024-05-19T17:09:55.831573Z",
     "start_time": "2024-05-19T17:09:55.795269Z"
    },
    "collapsed": false
   },
   "outputs": [],
   "source": [
    "df = df.withColumn(\"surface_area_uncovered\", calculate_uncovered_area_udf(col(\"surface_total\"), col(\"surface_covered\")))\n",
    "df = df.filter(col(\"surface_area_uncovered\").isNotNull())"
   ]
  },
  {
   "cell_type": "code",
   "execution_count": 8,
   "id": "ae89fe906670bb27",
   "metadata": {
    "ExecuteTime": {
     "end_time": "2024-05-19T17:09:56.296716Z",
     "start_time": "2024-05-19T17:09:55.832743Z"
    },
    "collapsed": false
   },
   "outputs": [
    {
     "name": "stdout",
     "output_type": "stream",
     "text": [
      "+------+-------------------+-------------+---------------+----------------------+\n",
      "|    id|      property_type|surface_total|surface_covered|surface_area_uncovered|\n",
      "+------+-------------------+-------------+---------------+----------------------+\n",
      "|314458|          Apartment|          201|            166|                    35|\n",
      "|314459|          Apartment|          140|            120|                    20|\n",
      "| 60530|          Warehouse|         1378|            300|                  1078|\n",
      "| 62634|              House|          480|            219|                   261|\n",
      "| 62635|          Apartment|           92|             88|                     4|\n",
      "|811787|              House|          208|             75|                   133|\n",
      "|312388|Horizontal Property|          193|            127|                    66|\n",
      "| 62636|          Apartment|          193|            164|                    29|\n",
      "|312389|              House|          660|            205|                   455|\n",
      "| 62637|          Apartment|          160|            148|                    12|\n",
      "| 60605|Commercial Premises|          295|            260|                    35|\n",
      "| 62638|          Apartment|           92|             88|                     4|\n",
      "| 60606|          Apartment|           35|             32|                     3|\n",
      "|813915|Horizontal Property|          123|             53|                    70|\n",
      "|314462|              House|          954|            354|                   600|\n",
      "| 60607|          Apartment|           43|             35|                     8|\n",
      "|312392|              House|          240|            228|                    12|\n",
      "|813916|Horizontal Property|           87|             58|                    29|\n",
      "| 60608|          Apartment|           31|             28|                     3|\n",
      "| 64714|          Apartment|           65|             55|                    10|\n",
      "+------+-------------------+-------------+---------------+----------------------+\n",
      "only showing top 20 rows\n",
      "\n"
     ]
    }
   ],
   "source": [
    "df.select(\"id\", \"property_type\", \"surface_total\", \"surface_covered\", \"surface_area_uncovered\").show(20)"
   ]
  },
  {
   "cell_type": "code",
   "execution_count": 9,
   "id": "c35005a71c5801c8",
   "metadata": {
    "ExecuteTime": {
     "end_time": "2024-05-19T17:10:01.765014Z",
     "start_time": "2024-05-19T17:09:56.298135Z"
    },
    "collapsed": false
   },
   "outputs": [],
   "source": [
    "database_name = \"Data_Clean\"\n",
    "table_name = \"Uncovered_Area\"\n",
    "url = f\"jdbc:sqlserver://{server_name}:{port};databaseName={database_name}\"\n",
    "df.write \\\n",
    "    .format(\"jdbc\") \\\n",
    "    .option(\"url\", url) \\\n",
    "    .option(\"dbtable\", table_name) \\\n",
    "    .option(\"user\", username) \\\n",
    "    .option(\"password\", password) \\\n",
    "    .option(\"encrypt\", \"false\") \\\n",
    "    .option(\"driver\", \"com.microsoft.sqlserver.jdbc.SQLServerDriver\") \\\n",
    "    .mode(\"overwrite\") \\\n",
    "    .save()"
   ]
  },
  {
   "cell_type": "code",
   "execution_count": null,
   "id": "afa9768602a4d42f",
   "metadata": {
    "ExecuteTime": {
     "end_time": "2024-05-19T17:10:01.768437Z",
     "start_time": "2024-05-19T17:10:01.766219Z"
    },
    "collapsed": false
   },
   "outputs": [],
   "source": []
  },
  {
   "cell_type": "code",
   "execution_count": null,
   "id": "3c46278bc6848a51",
   "metadata": {
    "ExecuteTime": {
     "end_time": "2024-05-19T17:10:01.773773Z",
     "start_time": "2024-05-19T17:10:01.771215Z"
    },
    "collapsed": false
   },
   "outputs": [],
   "source": []
  },
  {
   "cell_type": "code",
   "execution_count": null,
   "id": "7cff94d490a7b494",
   "metadata": {
    "ExecuteTime": {
     "end_time": "2024-05-19T17:10:01.777409Z",
     "start_time": "2024-05-19T17:10:01.775207Z"
    },
    "collapsed": false
   },
   "outputs": [],
   "source": []
  }
 ],
 "metadata": {
  "kernelspec": {
   "display_name": "Python 3 (ipykernel)",
   "language": "python",
   "name": "python3"
  },
  "language_info": {
   "codemirror_mode": {
    "name": "ipython",
    "version": 3
   },
   "file_extension": ".py",
   "mimetype": "text/x-python",
   "name": "python",
   "nbconvert_exporter": "python",
   "pygments_lexer": "ipython3",
   "version": "3.11.6"
  }
 },
 "nbformat": 4,
 "nbformat_minor": 5
}
