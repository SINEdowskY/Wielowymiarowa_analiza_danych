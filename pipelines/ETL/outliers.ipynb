{
 "cells": [
  {
   "cell_type": "code",
   "outputs": [],
   "source": [
    "import os\n",
    "os.environ[\"PYARROW_IGNORE_TIMEZONE\"] = \"1\""
   ],
   "metadata": {
    "collapsed": false,
    "ExecuteTime": {
     "end_time": "2024-05-19T16:53:36.728709Z",
     "start_time": "2024-05-19T16:53:36.698121Z"
    }
   },
   "id": "ecc1258ae1950186",
   "execution_count": 52
  },
  {
   "cell_type": "code",
   "execution_count": 53,
   "id": "initial_id",
   "metadata": {
    "collapsed": true,
    "ExecuteTime": {
     "end_time": "2024-05-19T16:53:36.751272Z",
     "start_time": "2024-05-19T16:53:36.734365Z"
    }
   },
   "outputs": [],
   "source": [
    "from pyspark.sql import SparkSession\n",
    "from pyspark.sql.functions import col, mean, stddev\n",
    "import pyspark.pandas as pd\n",
    "from pyspark.sql import functions as F\n",
    "from pyspark.sql.window import Window\n",
    "from pyspark.sql.types import FloatType"
   ]
  },
  {
   "cell_type": "code",
   "outputs": [],
   "source": [
    "spark = SparkSession.builder \\\n",
    "        .appName(\"Outlier Detection\") \\\n",
    "        .config(\"spark.jars\", \"../jdbc/mssql-jdbc-12.6.1.jre8.jar\") \\\n",
    "        .getOrCreate()"
   ],
   "metadata": {
    "collapsed": false,
    "ExecuteTime": {
     "end_time": "2024-05-19T16:53:36.791352Z",
     "start_time": "2024-05-19T16:53:36.752851Z"
    }
   },
   "id": "3fc0b198849f5033",
   "execution_count": 54
  },
  {
   "cell_type": "code",
   "outputs": [],
   "source": [
    "def convert_to_common_currency(currency, price):\n",
    "    factors_to_usd = {\n",
    "        \"ARS\": 0.0011,\n",
    "        \"USD\": 1,\n",
    "        \"UYU\": 0.026,\n",
    "        \"PEN\": 0.27\n",
    "    }\n",
    "    return round(factors_to_usd[currency] * price, 2)\n",
    "convert_to_common_currency = F.udf(convert_to_common_currency, FloatType())"
   ],
   "metadata": {
    "collapsed": false,
    "ExecuteTime": {
     "end_time": "2024-05-19T16:53:36.806062Z",
     "start_time": "2024-05-19T16:53:36.793686Z"
    }
   },
   "id": "f12df36884618fd8",
   "execution_count": 55
  },
  {
   "cell_type": "code",
   "outputs": [],
   "source": [
    "server_name = \"mssql\"\n",
    "port = \"1433\"\n",
    "database_name = \"Data\"\n",
    "url = f\"jdbc:sqlserver://{server_name}:{port};databaseName={database_name}\"\n",
    "\n",
    "table_name = \"ARProperties\"\n",
    "username = \"SA\"\n",
    "password = \"YourStrongPassword123\"\n",
    "\n",
    "df = spark.read \\\n",
    "        .format(\"jdbc\") \\\n",
    "        .option(\"url\", url) \\\n",
    "        .option(\"dbtable\", table_name) \\\n",
    "        .option(\"user\", username) \\\n",
    "        .option(\"password\", password) \\\n",
    "        .option(\"encrypt\", \"false\") \\\n",
    "        .option(\"driver\", \"com.microsoft.sqlserver.jdbc.SQLServerDriver\") \\\n",
    "        .load()"
   ],
   "metadata": {
    "collapsed": false,
    "ExecuteTime": {
     "end_time": "2024-05-19T16:53:36.871016Z",
     "start_time": "2024-05-19T16:53:36.810371Z"
    }
   },
   "id": "8108f29cfb7e7cb7",
   "execution_count": 56
  },
  {
   "cell_type": "code",
   "outputs": [],
   "source": [
    "df = df.na.drop(subset=[\"currency\", \"price\", \"property_type\"])\n"
   ],
   "metadata": {
    "collapsed": false,
    "ExecuteTime": {
     "end_time": "2024-05-19T16:53:36.888749Z",
     "start_time": "2024-05-19T16:53:36.872959Z"
    }
   },
   "id": "9146eceea6323fbf",
   "execution_count": 57
  },
  {
   "cell_type": "code",
   "outputs": [],
   "source": [
    "df = df.withColumn(\"common_currency_price\", convert_to_common_currency(col(\"currency\"), col(\"price\")))\n",
    "df = df.filter(col(\"common_currency_price\").isNotNull())"
   ],
   "metadata": {
    "collapsed": false,
    "ExecuteTime": {
     "end_time": "2024-05-19T16:53:36.944891Z",
     "start_time": "2024-05-19T16:53:36.890056Z"
    }
   },
   "id": "915a6e487db04307",
   "execution_count": 58
  },
  {
   "cell_type": "markdown",
   "source": [
    "Mediana i odchylenie dla każdego property type"
   ],
   "metadata": {
    "collapsed": false
   },
   "id": "44f289cee2dd4300"
  },
  {
   "cell_type": "code",
   "outputs": [],
   "source": [
    "stats_df = df.groupBy(\"property_type\").agg(\n",
    "    mean(col(\"common_currency_price\")).alias(\"mean_price\"),\n",
    "    stddev(col(\"common_currency_price\")).alias(\"stddev_price\"))"
   ],
   "metadata": {
    "collapsed": false,
    "ExecuteTime": {
     "end_time": "2024-05-19T16:53:36.981492Z",
     "start_time": "2024-05-19T16:53:36.947672Z"
    }
   },
   "id": "f624e9a4ccc9e980",
   "execution_count": 59
  },
  {
   "cell_type": "code",
   "outputs": [],
   "source": [
    "df = df.join(stats_df, \"property_type\") \\\n",
    "       .withColumn(\"z_score\", (col(\"common_currency_price\") - col(\"mean_price\")) / col(\"stddev_price\"))"
   ],
   "metadata": {
    "collapsed": false,
    "ExecuteTime": {
     "end_time": "2024-05-19T16:53:37.033599Z",
     "start_time": "2024-05-19T16:53:36.983430Z"
    }
   },
   "id": "aca642a9bcc09f8d",
   "execution_count": 60
  },
  {
   "cell_type": "markdown",
   "source": [
    "Użycie z-score'a"
   ],
   "metadata": {
    "collapsed": false
   },
   "id": "6a086d64a973e1c5"
  },
  {
   "cell_type": "code",
   "outputs": [],
   "source": [
    "outliers_df = df.filter(F.abs(col(\"z_score\")) > 5)"
   ],
   "metadata": {
    "collapsed": false,
    "ExecuteTime": {
     "end_time": "2024-05-19T16:53:37.052180Z",
     "start_time": "2024-05-19T16:53:37.034941Z"
    }
   },
   "id": "3a3045b666e4a14b",
   "execution_count": 61
  },
  {
   "cell_type": "code",
   "outputs": [
    {
     "name": "stdout",
     "output_type": "stream",
     "text": [
      "Number of outliers: 1135\n"
     ]
    }
   ],
   "source": [
    "outlier_count = outliers_df.count()\n",
    "print(f\"Number of outliers: {outlier_count}\")"
   ],
   "metadata": {
    "collapsed": false,
    "ExecuteTime": {
     "end_time": "2024-05-19T16:53:52.563488Z",
     "start_time": "2024-05-19T16:53:51.517005Z"
    }
   },
   "id": "cf4243a9bf330115",
   "execution_count": 65
  },
  {
   "cell_type": "code",
   "outputs": [
    {
     "name": "stdout",
     "output_type": "stream",
     "text": [
      "+--------------------+---------+--------------+---------------------+------------------+\n",
      "|                  id|  country|          city|common_currency_price|           z_score|\n",
      "+--------------------+---------+--------------+---------------------+------------------+\n",
      "|0ZGBmcC2APh0c/Kdy...|Argentina|       Córdoba|            3990000.0| 15.51849115971297|\n",
      "|OZUkT9TvNsWqdDGgT...|Argentina|       Palermo|            1980000.0| 7.456052297977117|\n",
      "|KW/JsISYcoqVcrJ+C...|  Uruguay|Punta del Este|            3000000.0|11.547439183037103|\n",
      "|qF1ortskmiYPt3fcA...|Argentina|       Palermo|            2200000.0| 8.338508292793977|\n",
      "|JfshAiz67d0cKrxrp...|Argentina| Puerto Madero|            1400000.0| 5.129577402550851|\n",
      "|YvQpq2WnoKilWkRDA...|Argentina|       Palermo|            2900000.0|11.146322821756712|\n",
      "|UYtdNzuJvuKyGkIQz...|Argentina|       Palermo|            2500000.0| 9.541857376635148|\n",
      "|cxrfS/cqkekz+j4jB...|Argentina|       Palermo|            1900000.0| 7.135159208952804|\n",
      "|5wndrM9yIFdsGW0Tv...|  Uruguay|   Manantiales|            1599000.0| 5.927798961498828|\n",
      "|Um3k1RqR7j4mM3PW6...|Argentina|      La Plata|            9671400.0|38.307516109497094|\n",
      "|O1S1P1hMsyldVxGBs...|Argentina|       Palermo|            2500000.0| 9.541857376635148|\n",
      "|L2KDQrexea3z1efT1...|Argentina|      Belgrano|            1950000.0|7.3357173895929995|\n",
      "|IwRC0IZY6u7nysUap...|Argentina| Puerto Madero|            2800000.0|10.745206460476322|\n",
      "|8f5UfOkEAQBpclrvN...|Argentina| Vicente López|            2350000.0| 8.940182834714562|\n",
      "|Daxc3fBe0PafdQetC...|Argentina|      Recoleta|            2800000.0|10.745206460476322|\n",
      "|4ud0qsGkcfdvJNhmc...|  Uruguay|Punta del Este|            2500000.0| 9.541857376635148|\n",
      "|lFEoZh/EKnZHv+z3r...|Argentina|      Recoleta|            2800000.0|10.745206460476322|\n",
      "|3UuKez6T9+FQDQvQZ...|Argentina|      Belgrano|            2100000.0| 7.937391931513586|\n",
      "|E8AjbeEyPM3C1dFCa...|Argentina| Puerto Madero|            1800000.0| 6.734042847672414|\n",
      "|xJ4E9fleGE+uLNUst...|Argentina| Puerto Madero|            2490000.0|  9.50174574050711|\n",
      "+--------------------+---------+--------------+---------------------+------------------+\n"
     ]
    }
   ],
   "source": [
    "outliers_df.select(\"id\", \"country\", \"city\", \"common_currency_price\", \"z_score\").show(20)"
   ],
   "metadata": {
    "collapsed": false,
    "ExecuteTime": {
     "end_time": "2024-05-19T16:53:40.771391Z",
     "start_time": "2024-05-19T16:53:39.481132Z"
    }
   },
   "id": "90d4d672615cf7a4",
   "execution_count": 63
  },
  {
   "cell_type": "code",
   "outputs": [],
   "source": [
    "database_name_outliers = \"Data_Clean\"\n",
    "table_name_outliers = \"PropertyPriceOutliers\"\n",
    "url_outliers = f\"jdbc:sqlserver://{server_name}:{port};databaseName={database_name_outliers}\"\n",
    "outliers_df.write \\\n",
    "    .format(\"jdbc\") \\\n",
    "    .option(\"url\", url_outliers) \\\n",
    "    .option(\"dbtable\", table_name_outliers) \\\n",
    "    .option(\"user\", username) \\\n",
    "    .option(\"password\", password) \\\n",
    "    .option(\"encrypt\", \"false\") \\\n",
    "    .option(\"driver\", \"com.microsoft.sqlserver.jdbc.SQLServerDriver\") \\\n",
    "    .mode(\"overwrite\") \\\n",
    "    .save()"
   ],
   "metadata": {
    "collapsed": false,
    "ExecuteTime": {
     "end_time": "2024-05-19T16:53:43.874577Z",
     "start_time": "2024-05-19T16:53:40.773413Z"
    }
   },
   "id": "222f9cbec55bf9a3",
   "execution_count": 64
  },
  {
   "cell_type": "code",
   "outputs": [],
   "source": [],
   "metadata": {
    "collapsed": false,
    "ExecuteTime": {
     "end_time": "2024-05-19T16:53:43.879914Z",
     "start_time": "2024-05-19T16:53:43.877298Z"
    }
   },
   "id": "31b9a87fa9731853",
   "execution_count": 64
  }
 ],
 "metadata": {
  "kernelspec": {
   "display_name": "Python 3",
   "language": "python",
   "name": "python3"
  },
  "language_info": {
   "codemirror_mode": {
    "name": "ipython",
    "version": 2
   },
   "file_extension": ".py",
   "mimetype": "text/x-python",
   "name": "python",
   "nbconvert_exporter": "python",
   "pygments_lexer": "ipython2",
   "version": "2.7.6"
  }
 },
 "nbformat": 4,
 "nbformat_minor": 5
}
