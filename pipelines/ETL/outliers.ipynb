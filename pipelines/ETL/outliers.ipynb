{
 "cells": [
  {
   "cell_type": "code",
   "outputs": [],
   "source": [
    "import os\n",
    "os.environ[\"PYARROW_IGNORE_TIMEZONE\"] = \"1\""
   ],
   "metadata": {
    "collapsed": false,
    "ExecuteTime": {
     "end_time": "2024-05-20T14:39:49.164780Z",
     "start_time": "2024-05-20T14:39:49.147673Z"
    }
   },
   "id": "ecc1258ae1950186",
   "execution_count": 1
  },
  {
   "cell_type": "code",
   "execution_count": 2,
   "id": "initial_id",
   "metadata": {
    "collapsed": true,
    "ExecuteTime": {
     "end_time": "2024-05-20T14:39:54.136661Z",
     "start_time": "2024-05-20T14:39:49.168553Z"
    }
   },
   "outputs": [],
   "source": [
    "from pyspark.sql import SparkSession\n",
    "from pyspark.sql.functions import col, mean, stddev\n",
    "import pyspark.pandas as pd\n",
    "from pyspark.sql import functions as F\n",
    "from pyspark.sql.window import Window\n",
    "from pyspark.sql.types import FloatType"
   ]
  },
  {
   "cell_type": "code",
   "outputs": [],
   "source": [
    "spark = SparkSession.builder \\\n",
    "        .appName(\"Outlier Detection\") \\\n",
    "        .config(\"spark.jars\", \"../jdbc/mssql-jdbc-12.6.1.jre8.jar\") \\\n",
    "        .getOrCreate()"
   ],
   "metadata": {
    "collapsed": false,
    "ExecuteTime": {
     "end_time": "2024-05-20T14:40:05.482395Z",
     "start_time": "2024-05-20T14:39:54.138979Z"
    }
   },
   "id": "3fc0b198849f5033",
   "execution_count": 3
  },
  {
   "cell_type": "code",
   "outputs": [],
   "source": [
    "def convert_to_common_currency(currency, price):\n",
    "    factors_to_usd = {\n",
    "        \"ARS\": 0.0011,\n",
    "        \"USD\": 1,\n",
    "        \"UYU\": 0.026,\n",
    "        \"PEN\": 0.27\n",
    "    }\n",
    "    return round(factors_to_usd[currency] * price, 2)\n",
    "convert_to_common_currency = F.udf(convert_to_common_currency, FloatType())"
   ],
   "metadata": {
    "collapsed": false,
    "ExecuteTime": {
     "end_time": "2024-05-20T14:40:12.840361Z",
     "start_time": "2024-05-20T14:40:05.485236Z"
    }
   },
   "id": "f12df36884618fd8",
   "execution_count": 4
  },
  {
   "cell_type": "code",
   "outputs": [],
   "source": [
    "server_name = \"mssql\"\n",
    "port = \"1433\"\n",
    "database_name = \"Data\"\n",
    "url = f\"jdbc:sqlserver://{server_name}:{port};databaseName={database_name}\"\n",
    "\n",
    "table_name = \"ARProperties\"\n",
    "username = \"SA\"\n",
    "password = \"YourStrongPassword123\"\n",
    "\n",
    "df = spark.read \\\n",
    "        .format(\"jdbc\") \\\n",
    "        .option(\"url\", url) \\\n",
    "        .option(\"dbtable\", table_name) \\\n",
    "        .option(\"user\", username) \\\n",
    "        .option(\"password\", password) \\\n",
    "        .option(\"encrypt\", \"false\") \\\n",
    "        .option(\"driver\", \"com.microsoft.sqlserver.jdbc.SQLServerDriver\") \\\n",
    "        .load()"
   ],
   "metadata": {
    "collapsed": false,
    "ExecuteTime": {
     "end_time": "2024-05-20T14:40:15.061931Z",
     "start_time": "2024-05-20T14:40:12.848413Z"
    }
   },
   "id": "8108f29cfb7e7cb7",
   "execution_count": 5
  },
  {
   "cell_type": "code",
   "outputs": [],
   "source": [
    "df = df.na.drop(subset=[\"currency\", \"price\", \"property_type\"])\n"
   ],
   "metadata": {
    "collapsed": false,
    "ExecuteTime": {
     "end_time": "2024-05-20T14:40:15.170211Z",
     "start_time": "2024-05-20T14:40:15.064549Z"
    }
   },
   "id": "9146eceea6323fbf",
   "execution_count": 6
  },
  {
   "cell_type": "code",
   "outputs": [],
   "source": [
    "df = df.withColumn(\"common_currency_price\", convert_to_common_currency(col(\"currency\"), col(\"price\")))\n",
    "df = df.filter(col(\"common_currency_price\").isNotNull())"
   ],
   "metadata": {
    "collapsed": false,
    "ExecuteTime": {
     "end_time": "2024-05-20T14:40:15.461354Z",
     "start_time": "2024-05-20T14:40:15.172758Z"
    }
   },
   "id": "915a6e487db04307",
   "execution_count": 7
  },
  {
   "cell_type": "markdown",
   "source": [
    "Mediana i odchylenie dla każdego property type"
   ],
   "metadata": {
    "collapsed": false
   },
   "id": "44f289cee2dd4300"
  },
  {
   "cell_type": "code",
   "outputs": [],
   "source": [
    "stats_df = df.groupBy(\"property_type\").agg(\n",
    "    mean(col(\"common_currency_price\")).alias(\"mean_price\"),\n",
    "    stddev(col(\"common_currency_price\")).alias(\"stddev_price\"))"
   ],
   "metadata": {
    "collapsed": false,
    "ExecuteTime": {
     "end_time": "2024-05-20T14:40:15.623320Z",
     "start_time": "2024-05-20T14:40:15.463630Z"
    }
   },
   "id": "f624e9a4ccc9e980",
   "execution_count": 8
  },
  {
   "cell_type": "code",
   "outputs": [],
   "source": [
    "df = df.join(stats_df, \"property_type\") \\\n",
    "       .withColumn(\"z_score\", (col(\"common_currency_price\") - col(\"mean_price\")) / col(\"stddev_price\"))"
   ],
   "metadata": {
    "collapsed": false,
    "ExecuteTime": {
     "end_time": "2024-05-20T14:40:15.793232Z",
     "start_time": "2024-05-20T14:40:15.625731Z"
    }
   },
   "id": "aca642a9bcc09f8d",
   "execution_count": 9
  },
  {
   "cell_type": "markdown",
   "source": [
    "Użycie z-score'a"
   ],
   "metadata": {
    "collapsed": false
   },
   "id": "6a086d64a973e1c5"
  },
  {
   "cell_type": "code",
   "outputs": [],
   "source": [
    "#outliers_df = df.filter(F.abs(col(\"z_score\")) > 5)"
   ],
   "metadata": {
    "collapsed": false,
    "ExecuteTime": {
     "end_time": "2024-05-20T14:40:15.800237Z",
     "start_time": "2024-05-20T14:40:15.795575Z"
    }
   },
   "id": "3a3045b666e4a14b",
   "execution_count": 10
  },
  {
   "cell_type": "code",
   "outputs": [],
   "source": [
    "#outlier_count = outliers_df.count()\n",
    "#print(f\"Number of outliers: {outlier_count}\")"
   ],
   "metadata": {
    "collapsed": false,
    "ExecuteTime": {
     "end_time": "2024-05-20T14:40:15.818351Z",
     "start_time": "2024-05-20T14:40:15.802809Z"
    }
   },
   "id": "cf4243a9bf330115",
   "execution_count": 11
  },
  {
   "cell_type": "code",
   "outputs": [
    {
     "name": "stdout",
     "output_type": "stream",
     "text": [
      "+---+---------+--------------------+---------------------+--------------------+\n",
      "| id|  country|                city|common_currency_price|             z_score|\n",
      "+---+---------+--------------------+---------------------+--------------------+\n",
      "| 35|Argentina|             Córdoba|                 4.51| -0.4860335650258094|\n",
      "| 36|Argentina|            Recoleta|                 16.5|-0.48598547117500995|\n",
      "| 37|Argentina|          Villa Luro|                 26.4| -0.4859457606567733|\n",
      "| 38|Argentina|        Barrio Norte|                18.15|  -0.485978852756579|\n",
      "| 39|Argentina|Exaltación de la ...|               109.45| -0.5583783225926575|\n",
      "| 40|Argentina|                NULL|                 16.5|-0.48598547117500995|\n",
      "| 41|Argentina|             Quilmes|                 17.6|-0.48598105889350574|\n",
      "| 42|Argentina|             Córdoba|                 16.5|-0.48598547117500995|\n",
      "| 43|Argentina|             Córdoba|                 16.5|-0.48598547117500995|\n",
      "| 44|Argentina|             Córdoba|                 16.5|-0.48598547117500995|\n",
      "| 45|Argentina|            Recoleta|                 23.1| -0.4859589974936353|\n",
      "| 46|Argentina|         Confluencia|                 60.5| -0.4858089799760466|\n",
      "| 49|Argentina|               Tigre|                 33.0| -0.4859192869753987|\n",
      "| 50|Argentina|              Flores|                 42.9|-0.48587957644951135|\n",
      "| 51|Argentina|             Palermo|                 82.5| -0.4857207343765649|\n",
      "| 52|Argentina|             Quilmes|                 22.0| -0.4859634097751395|\n",
      "| 53|Argentina|            Belgrano|                 35.2| -0.4859104624123902|\n",
      "| 54|Argentina|            Saavedra|                 55.0|  -0.485831041375917|\n",
      "| 55|Argentina|           Caballito|                 40.7|-0.48588840101251984|\n",
      "| 56|Argentina|          Colegiales|                 38.5| -0.4858972255755283|\n",
      "+---+---------+--------------------+---------------------+--------------------+\n"
     ]
    }
   ],
   "source": [
    "df.select(\"id\", \"country\", \"city\", \"common_currency_price\", \"z_score\").show(20)"
   ],
   "metadata": {
    "collapsed": false,
    "ExecuteTime": {
     "end_time": "2024-05-20T14:40:40.538678Z",
     "start_time": "2024-05-20T14:40:15.820755Z"
    }
   },
   "id": "90d4d672615cf7a4",
   "execution_count": 12
  },
  {
   "cell_type": "code",
   "outputs": [],
   "source": [
    "database_name_outliers = \"Data_Clean\"\n",
    "table_name_outliers = \"PropertyPriceOutliers\"\n",
    "url_outliers = f\"jdbc:sqlserver://{server_name}:{port};databaseName={database_name_outliers}\"\n",
    "df.write \\\n",
    "    .format(\"jdbc\") \\\n",
    "    .option(\"url\", url_outliers) \\\n",
    "    .option(\"dbtable\", table_name_outliers) \\\n",
    "    .option(\"user\", username) \\\n",
    "    .option(\"password\", password) \\\n",
    "    .option(\"encrypt\", \"false\") \\\n",
    "    .option(\"driver\", \"com.microsoft.sqlserver.jdbc.SQLServerDriver\") \\\n",
    "    .mode(\"overwrite\") \\\n",
    "    .save()"
   ],
   "metadata": {
    "collapsed": false,
    "ExecuteTime": {
     "end_time": "2024-05-20T14:43:26.371389Z",
     "start_time": "2024-05-20T14:43:05.686859Z"
    }
   },
   "id": "222f9cbec55bf9a3",
   "execution_count": 14
  },
  {
   "cell_type": "code",
   "outputs": [],
   "source": [],
   "metadata": {
    "collapsed": false
   },
   "id": "31b9a87fa9731853",
   "execution_count": null
  }
 ],
 "metadata": {
  "kernelspec": {
   "display_name": "Python 3",
   "language": "python",
   "name": "python3"
  },
  "language_info": {
   "codemirror_mode": {
    "name": "ipython",
    "version": 2
   },
   "file_extension": ".py",
   "mimetype": "text/x-python",
   "name": "python",
   "nbconvert_exporter": "python",
   "pygments_lexer": "ipython2",
   "version": "2.7.6"
  }
 },
 "nbformat": 4,
 "nbformat_minor": 5
}
