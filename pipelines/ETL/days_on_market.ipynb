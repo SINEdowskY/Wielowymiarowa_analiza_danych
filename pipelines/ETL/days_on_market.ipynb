{
 "cells": [
  {
   "cell_type": "code",
   "execution_count": 1,
   "id": "initial_id",
   "metadata": {
    "ExecuteTime": {
     "end_time": "2024-05-19T16:23:21.141126Z",
     "start_time": "2024-05-19T16:23:21.136893Z"
    },
    "collapsed": true
   },
   "outputs": [],
   "source": [
    "import os\n",
    "os.environ[\"PYARROW_IGNORE_TIMEZONE\"] = \"1\"\n",
    "from pyspark.sql import SparkSession\n",
    "from pyspark.sql.functions import col, datediff, to_date\n",
    "from pyspark.sql import functions as F\n",
    "from pyspark.sql.functions import month, year"
   ]
  },
  {
   "cell_type": "code",
   "execution_count": 2,
   "id": "b148120759e6c421",
   "metadata": {
    "ExecuteTime": {
     "end_time": "2024-05-19T16:23:21.171973Z",
     "start_time": "2024-05-19T16:23:21.159895Z"
    },
    "collapsed": false
   },
   "outputs": [],
   "source": [
    "spark = SparkSession.builder \\\n",
    "        .appName(\"Days on Market\") \\\n",
    "        .config(\"spark.jars\", \"../jdbc/mssql-jdbc-12.6.1.jre8.jar\") \\\n",
    "        .getOrCreate()"
   ]
  },
  {
   "cell_type": "code",
   "execution_count": 3,
   "id": "9f05dc84b29c4b40",
   "metadata": {
    "ExecuteTime": {
     "end_time": "2024-05-19T16:23:21.221206Z",
     "start_time": "2024-05-19T16:23:21.173840Z"
    },
    "collapsed": false
   },
   "outputs": [],
   "source": [
    "server_name = \"mssql\"\n",
    "port = \"1433\"\n",
    "database_name = \"Data\"\n",
    "url = f\"jdbc:sqlserver://{server_name}:{port};databaseName={database_name}\"\n",
    "\n",
    "table_name = \"ARProperties\"\n",
    "username = \"SA\"\n",
    "password = \"YourStrongPassword123\"\n",
    "\n",
    "df = spark.read \\\n",
    "        .format(\"jdbc\") \\\n",
    "        .option(\"url\", url) \\\n",
    "        .option(\"dbtable\", table_name) \\\n",
    "        .option(\"user\", username) \\\n",
    "        .option(\"password\", password) \\\n",
    "        .option(\"encrypt\", \"false\") \\\n",
    "        .option(\"driver\", \"com.microsoft.sqlserver.jdbc.SQLServerDriver\") \\\n",
    "        .load()"
   ]
  },
  {
   "cell_type": "code",
   "execution_count": 4,
   "id": "670574298fb5e907",
   "metadata": {
    "ExecuteTime": {
     "end_time": "2024-05-19T16:24:56.572643Z",
     "start_time": "2024-05-19T16:24:56.535871Z"
    },
    "collapsed": false
   },
   "outputs": [],
   "source": [
    "# Convert string dates to date objects and calculate 'days_on_market'\n",
    "df = df.withColumn(\"start_date\", to_date(col(\"start_date\"), \"yyyy-MM-dd\")) \\\n",
    "    .withColumn(\"end_date\", to_date(col(\"end_date\"), \"yyyy-MM-dd\")) \\\n",
    "    .withColumn(\"days_on_market\", datediff(col(\"end_date\"), col(\"start_date\")))\n",
    "\n"
   ]
  },
  {
   "cell_type": "markdown",
   "id": "a861ca3a6bb0e8c",
   "metadata": {
    "collapsed": false
   },
   "source": [
    "Jak coś to tutaj wyrzucam wszystkie te, które są aktywne, bo one są zawarte jako \"9999-12-31\""
   ]
  },
  {
   "cell_type": "code",
   "execution_count": 5,
   "id": "97860e61c6d0e25b",
   "metadata": {
    "ExecuteTime": {
     "end_time": "2024-05-19T16:24:57.256516Z",
     "start_time": "2024-05-19T16:24:57.235323Z"
    },
    "collapsed": false
   },
   "outputs": [],
   "source": [
    "df = df.filter(col(\"end_date\") != to_date(F.lit(\"9999-12-31\"), \"yyyy-MM-dd\"))"
   ]
  },
  {
   "cell_type": "code",
   "execution_count": 6,
   "id": "d7e297ea761d0ba7",
   "metadata": {
    "ExecuteTime": {
     "end_time": "2024-05-19T16:24:58.486875Z",
     "start_time": "2024-05-19T16:24:58.031128Z"
    },
    "collapsed": false
   },
   "outputs": [
    {
     "name": "stdout",
     "output_type": "stream",
     "text": [
      "+------+-------------------+----------+----------+--------------+\n",
      "|    id|      property_type|start_date|  end_date|days_on_market|\n",
      "+------+-------------------+----------+----------+--------------+\n",
      "|310340|             Office|2020-04-27|2020-05-10|            13|\n",
      "|310341|          Apartment|2020-04-27|2020-05-10|            13|\n",
      "|310342|Commercial Premises|2020-04-27|2020-05-10|            13|\n",
      "|310343|Commercial Premises|2020-04-27|2020-05-10|            13|\n",
      "|310344|Commercial Premises|2020-04-27|2020-05-10|            13|\n",
      "|310345|Commercial Premises|2020-04-27|2020-05-10|            13|\n",
      "|310346|Commercial Premises|2020-04-27|2020-05-10|            13|\n",
      "|310347|Commercial Premises|2020-04-27|2020-05-10|            13|\n",
      "|310348|Commercial Premises|2020-04-27|2020-05-10|            13|\n",
      "|310349|Commercial Premises|2020-04-27|2020-05-10|            13|\n",
      "|310350|              House|2020-04-27|2020-05-10|            13|\n",
      "|310351|              House|2020-04-27|2020-05-10|            13|\n",
      "|310352|              House|2020-04-27|2020-05-10|            13|\n",
      "|310353|              House|2020-04-27|2020-05-10|            13|\n",
      "|310354|              House|2020-04-27|2020-05-10|            13|\n",
      "|310355|              House|2020-04-27|2020-05-10|            13|\n",
      "|310356|              House|2020-04-27|2020-05-10|            13|\n",
      "|310357|              House|2020-04-27|2020-05-10|            13|\n",
      "|310358|              House|2020-04-27|2020-05-10|            13|\n",
      "|310359|              House|2020-04-27|2020-05-10|            13|\n",
      "+------+-------------------+----------+----------+--------------+\n",
      "only showing top 20 rows\n",
      "\n"
     ]
    }
   ],
   "source": [
    "\n",
    "df.select(\"id\", \"property_type\", \"start_date\", \"end_date\", \"days_on_market\").show(20)\n"
   ]
  },
  {
   "cell_type": "markdown",
   "id": "6f94523e189dc381",
   "metadata": {
    "collapsed": false
   },
   "source": []
  },
  {
   "cell_type": "markdown",
   "id": "6d5fd2112f94a8df",
   "metadata": {
    "collapsed": false
   },
   "source": [
    "Czy to jeszcze nie ten etap? XD Nie do końca rozumiem, kiedy mogę agregować, a kiedy nie, na razie dodaję same ilości dni"
   ]
  },
  {
   "cell_type": "code",
   "execution_count": 7,
   "id": "c3ccacb73548cb34",
   "metadata": {
    "ExecuteTime": {
     "end_time": "2024-05-19T16:26:23.636348Z",
     "start_time": "2024-05-19T16:26:23.615329Z"
    },
    "collapsed": false
   },
   "outputs": [],
   "source": [
    "result = df.groupBy(\"property_type\").agg(\n",
    "    F.mean(\"days_on_market\").alias(\"average_days\"),\n",
    "    F.median(\"days_on_market\").alias(\"median_days\")\n",
    ")"
   ]
  },
  {
   "cell_type": "code",
   "execution_count": 8,
   "id": "4c12d75f9188a366",
   "metadata": {
    "ExecuteTime": {
     "end_time": "2024-05-19T16:26:26.667787Z",
     "start_time": "2024-05-19T16:26:25.714436Z"
    },
    "collapsed": false
   },
   "outputs": [
    {
     "name": "stdout",
     "output_type": "stream",
     "text": [
      "+-------------------+------------------+-----------+\n",
      "|      property_type|      average_days|median_days|\n",
      "+-------------------+------------------+-----------+\n",
      "|          Apartment| 57.81203831479828|       30.0|\n",
      "|      Village House|55.202749140893474|       33.0|\n",
      "|             Office| 62.79881280474878|       26.0|\n",
      "|Commercial Premises|62.710833733397344|       30.0|\n",
      "|              Other|22.298443450290236|        1.0|\n",
      "|            Terrain|  71.4363674090469|       37.0|\n",
      "|             Garage| 66.38403614457832|       30.0|\n",
      "|          Warehouse|59.057755775577554|       24.0|\n",
      "|              House| 60.06178439592067|       30.0|\n",
      "|Horizontal Property| 67.50438934236871|       34.0|\n",
      "+-------------------+------------------+-----------+\n",
      "\n"
     ]
    }
   ],
   "source": [
    "result.show(50)"
   ]
  },
  {
   "cell_type": "code",
   "execution_count": 9,
   "id": "266c2a1285da7d52",
   "metadata": {
    "ExecuteTime": {
     "end_time": "2024-05-19T16:28:05.008323Z",
     "start_time": "2024-05-19T16:27:48.709064Z"
    },
    "collapsed": false
   },
   "outputs": [],
   "source": [
    "database_name = \"Data_Clean\"\n",
    "table_name = \"DaysOnMarket\"\n",
    "url = f\"jdbc:sqlserver://{server_name}:{port};databaseName={database_name}\"\n",
    "df.write \\\n",
    "    .format(\"jdbc\") \\\n",
    "    .option(\"url\", url) \\\n",
    "    .option(\"dbtable\", table_name) \\\n",
    "    .option(\"user\", username) \\\n",
    "    .option(\"password\", password) \\\n",
    "    .option(\"encrypt\", \"false\") \\\n",
    "    .option(\"driver\", \"com.microsoft.sqlserver.jdbc.SQLServerDriver\") \\\n",
    "    .mode(\"overwrite\") \\\n",
    "    .save()"
   ]
  },
  {
   "cell_type": "code",
   "execution_count": null,
   "id": "4157cb670234f4d1",
   "metadata": {
    "collapsed": false
   },
   "outputs": [],
   "source": []
  }
 ],
 "metadata": {
  "kernelspec": {
   "display_name": "Python 3 (ipykernel)",
   "language": "python",
   "name": "python3"
  },
  "language_info": {
   "codemirror_mode": {
    "name": "ipython",
    "version": 3
   },
   "file_extension": ".py",
   "mimetype": "text/x-python",
   "name": "python",
   "nbconvert_exporter": "python",
   "pygments_lexer": "ipython3",
   "version": "3.11.6"
  }
 },
 "nbformat": 4,
 "nbformat_minor": 5
}
