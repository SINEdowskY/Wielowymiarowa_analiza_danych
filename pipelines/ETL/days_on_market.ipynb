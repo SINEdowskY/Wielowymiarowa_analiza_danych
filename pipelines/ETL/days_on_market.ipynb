{
 "cells": [
  {
   "cell_type": "code",
   "execution_count": 12,
   "id": "initial_id",
   "metadata": {
    "collapsed": true,
    "ExecuteTime": {
     "end_time": "2024-05-19T16:23:21.141126Z",
     "start_time": "2024-05-19T16:23:21.136893Z"
    }
   },
   "outputs": [],
   "source": [
    "import os\n",
    "os.environ[\"PYARROW_IGNORE_TIMEZONE\"] = \"1\"\n",
    "from pyspark.sql import SparkSession\n",
    "from pyspark.sql.functions import col, datediff, to_date\n",
    "from pyspark.sql import functions as F\n",
    "from pyspark.sql.functions import month, year"
   ]
  },
  {
   "cell_type": "code",
   "outputs": [],
   "source": [
    "spark = SparkSession.builder \\\n",
    "        .appName(\"Days on Market\") \\\n",
    "        .config(\"spark.jars\", \"../jdbc/mssql-jdbc-12.6.1.jre8.jar\") \\\n",
    "        .getOrCreate()"
   ],
   "metadata": {
    "collapsed": false,
    "ExecuteTime": {
     "end_time": "2024-05-19T16:23:21.171973Z",
     "start_time": "2024-05-19T16:23:21.159895Z"
    }
   },
   "id": "b148120759e6c421",
   "execution_count": 13
  },
  {
   "cell_type": "code",
   "outputs": [],
   "source": [
    "server_name = \"mssql\"\n",
    "port = \"1433\"\n",
    "database_name = \"Data\"\n",
    "url = f\"jdbc:sqlserver://{server_name}:{port};databaseName={database_name}\"\n",
    "\n",
    "table_name = \"ARProperties\"\n",
    "username = \"SA\"\n",
    "password = \"YourStrongPassword123\"\n",
    "\n",
    "df = spark.read \\\n",
    "        .format(\"jdbc\") \\\n",
    "        .option(\"url\", url) \\\n",
    "        .option(\"dbtable\", table_name) \\\n",
    "        .option(\"user\", username) \\\n",
    "        .option(\"password\", password) \\\n",
    "        .option(\"encrypt\", \"false\") \\\n",
    "        .option(\"driver\", \"com.microsoft.sqlserver.jdbc.SQLServerDriver\") \\\n",
    "        .load()"
   ],
   "metadata": {
    "collapsed": false,
    "ExecuteTime": {
     "end_time": "2024-05-19T16:23:21.221206Z",
     "start_time": "2024-05-19T16:23:21.173840Z"
    }
   },
   "id": "9f05dc84b29c4b40",
   "execution_count": 14
  },
  {
   "cell_type": "code",
   "outputs": [],
   "source": [
    "# Convert string dates to date objects and calculate 'days_on_market'\n",
    "df = df.withColumn(\"start_date\", to_date(col(\"start_date\"), \"yyyy-MM-dd\")) \\\n",
    "    .withColumn(\"end_date\", to_date(col(\"end_date\"), \"yyyy-MM-dd\")) \\\n",
    "    .withColumn(\"days_on_market\", datediff(col(\"end_date\"), col(\"start_date\")))\n",
    "\n"
   ],
   "metadata": {
    "collapsed": false,
    "ExecuteTime": {
     "end_time": "2024-05-19T16:24:56.572643Z",
     "start_time": "2024-05-19T16:24:56.535871Z"
    }
   },
   "id": "670574298fb5e907",
   "execution_count": 18
  },
  {
   "cell_type": "markdown",
   "source": [
    "Jak coś to tutaj wyrzucam wszystkie te, które są aktywne, bo one są zawarte jako \"9999-12-31\""
   ],
   "metadata": {
    "collapsed": false
   },
   "id": "a861ca3a6bb0e8c"
  },
  {
   "cell_type": "code",
   "outputs": [],
   "source": [
    "df = df.filter(col(\"end_date\") != to_date(F.lit(\"9999-12-31\"), \"yyyy-MM-dd\"))"
   ],
   "metadata": {
    "collapsed": false,
    "ExecuteTime": {
     "end_time": "2024-05-19T16:24:57.256516Z",
     "start_time": "2024-05-19T16:24:57.235323Z"
    }
   },
   "id": "97860e61c6d0e25b",
   "execution_count": 19
  },
  {
   "cell_type": "code",
   "outputs": [
    {
     "name": "stdout",
     "output_type": "stream",
     "text": [
      "+--------------------+-------------------+----------+----------+--------------+\n",
      "|                  id|      property_type|start_date|  end_date|days_on_market|\n",
      "+--------------------+-------------------+----------+----------+--------------+\n",
      "|+dnVA1K6JxzL1zAjO...|            Terrain|2020-12-25|2020-12-29|             4|\n",
      "|7YggCZumU655Hth4A...|          Apartment|2020-12-25|2021-01-07|            13|\n",
      "|dLHXKN5/sRZpm9Yk0...|            Terrain|2020-12-25|2020-12-29|             4|\n",
      "|TOZstKBOcHY5+Ww9m...|          Warehouse|2020-12-25|2020-12-30|             5|\n",
      "|2LYMXj1wkHEcCjXc7...|          Apartment|2020-12-25|2021-03-05|            70|\n",
      "|rcT6ivp90Myiw7JT3...|          Apartment|2021-01-01|2021-01-16|            15|\n",
      "|aCmXfuqY+Dm7TeLby...|Commercial Premises|2021-01-01|2021-01-02|             1|\n",
      "|0Shyi5ebmoPoRaGTN...|          Apartment|2020-12-25|2021-01-31|            37|\n",
      "|4lkmDj46g2taeoHQ7...|            Terrain|2020-10-12|2020-10-25|            13|\n",
      "|a2fx8NUh8Tbbma+t/...|              Other|2020-12-25|2020-12-26|             1|\n",
      "|tld2CbMqj3l/CrYSJ...|          Apartment|2020-12-25|2021-01-09|            15|\n",
      "|+UXNClE+BfmLoxl3/...|          Apartment|2020-12-25|2021-02-05|            42|\n",
      "|pC5JkluyzV+EFoEIk...|              House|2020-12-25|2020-12-29|             4|\n",
      "|2vs9ZOOKfebLAeo86...|            Terrain|2020-12-25|2021-02-13|            50|\n",
      "|KPPWJOFutTnhpxhnT...|            Terrain|2020-12-25|2021-01-02|             8|\n",
      "|MLvlXBbQ0T8Z8LQiy...|            Terrain|2020-12-25|2020-12-29|             4|\n",
      "|uyT5AdML+G3HT7SNP...|             Office|2020-12-25|2021-01-05|            11|\n",
      "|qCe/j4mbg8Mu6jVwq...|             Office|2020-12-25|2020-12-29|             4|\n",
      "|zEp+eIqOq5NPWc2pe...|          Apartment|2020-10-12|2020-10-29|            17|\n",
      "|apuqrPz3TDLP60npG...|          Apartment|2020-10-12|2020-11-06|            25|\n",
      "+--------------------+-------------------+----------+----------+--------------+\n"
     ]
    }
   ],
   "source": [
    "\n",
    "df.select(\"id\", \"property_type\", \"start_date\", \"end_date\", \"days_on_market\").show(20)\n"
   ],
   "metadata": {
    "collapsed": false,
    "ExecuteTime": {
     "end_time": "2024-05-19T16:24:58.486875Z",
     "start_time": "2024-05-19T16:24:58.031128Z"
    }
   },
   "id": "d7e297ea761d0ba7",
   "execution_count": 20
  },
  {
   "cell_type": "markdown",
   "source": [],
   "metadata": {
    "collapsed": false
   },
   "id": "6f94523e189dc381"
  },
  {
   "cell_type": "markdown",
   "source": [
    "Czy to jeszcze nie ten etap? XD Nie do końca rozumiem, kiedy mogę agregować, a kiedy nie, na razie dodaję same ilości dni"
   ],
   "metadata": {
    "collapsed": false
   },
   "id": "6d5fd2112f94a8df"
  },
  {
   "cell_type": "code",
   "outputs": [],
   "source": [
    "result = df.groupBy(\"property_type\").agg(\n",
    "    F.mean(\"days_on_market\").alias(\"average_days\"),\n",
    "    F.median(\"days_on_market\").alias(\"median_days\")\n",
    ")"
   ],
   "metadata": {
    "collapsed": false,
    "ExecuteTime": {
     "end_time": "2024-05-19T16:26:23.636348Z",
     "start_time": "2024-05-19T16:26:23.615329Z"
    }
   },
   "id": "c3ccacb73548cb34",
   "execution_count": 22
  },
  {
   "cell_type": "code",
   "outputs": [
    {
     "name": "stdout",
     "output_type": "stream",
     "text": [
      "+-------------------+------------------+-----------+\n",
      "|      property_type|      average_days|median_days|\n",
      "+-------------------+------------------+-----------+\n",
      "|          Apartment| 54.01562143346268|       29.0|\n",
      "|      Village House| 61.63137254901961|       29.0|\n",
      "|             Office| 55.59487569761542|       25.0|\n",
      "|Commercial Premises| 59.40686364470545|       29.0|\n",
      "|              Other|15.510595194085028|        1.0|\n",
      "|            Terrain| 65.20711474650822|       36.0|\n",
      "|             Garage|  57.4502698535081|       29.0|\n",
      "|          Warehouse|  64.2950226244344|       29.0|\n",
      "|              House| 53.15666343477309|       30.0|\n",
      "|Horizontal Property| 63.57030270463908|       31.0|\n",
      "+-------------------+------------------+-----------+\n"
     ]
    }
   ],
   "source": [
    "result.show(50)"
   ],
   "metadata": {
    "collapsed": false,
    "ExecuteTime": {
     "end_time": "2024-05-19T16:26:26.667787Z",
     "start_time": "2024-05-19T16:26:25.714436Z"
    }
   },
   "id": "4c12d75f9188a366",
   "execution_count": 23
  },
  {
   "cell_type": "code",
   "outputs": [],
   "source": [
    "database_name = \"Data_Clean\"\n",
    "table_name = \"DaysOnMarket\"\n",
    "url = f\"jdbc:sqlserver://{server_name}:{port};databaseName={database_name}\"\n",
    "df.write \\\n",
    "    .format(\"jdbc\") \\\n",
    "    .option(\"url\", url) \\\n",
    "    .option(\"dbtable\", table_name) \\\n",
    "    .option(\"user\", username) \\\n",
    "    .option(\"password\", password) \\\n",
    "    .option(\"encrypt\", \"false\") \\\n",
    "    .option(\"driver\", \"com.microsoft.sqlserver.jdbc.SQLServerDriver\") \\\n",
    "    .mode(\"overwrite\") \\\n",
    "    .save()"
   ],
   "metadata": {
    "collapsed": false,
    "ExecuteTime": {
     "end_time": "2024-05-19T16:28:05.008323Z",
     "start_time": "2024-05-19T16:27:48.709064Z"
    }
   },
   "id": "266c2a1285da7d52",
   "execution_count": 24
  },
  {
   "cell_type": "code",
   "outputs": [],
   "source": [],
   "metadata": {
    "collapsed": false
   },
   "id": "4157cb670234f4d1"
  }
 ],
 "metadata": {
  "kernelspec": {
   "display_name": "Python 3",
   "language": "python",
   "name": "python3"
  },
  "language_info": {
   "codemirror_mode": {
    "name": "ipython",
    "version": 2
   },
   "file_extension": ".py",
   "mimetype": "text/x-python",
   "name": "python",
   "nbconvert_exporter": "python",
   "pygments_lexer": "ipython2",
   "version": "2.7.6"
  }
 },
 "nbformat": 4,
 "nbformat_minor": 5
}
