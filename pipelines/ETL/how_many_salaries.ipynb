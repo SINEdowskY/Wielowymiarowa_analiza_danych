{
 "cells": [
  {
   "cell_type": "code",
   "execution_count": 115,
   "id": "initial_id",
   "metadata": {
    "collapsed": true,
    "ExecuteTime": {
     "end_time": "2024-05-20T15:41:33.712397Z",
     "start_time": "2024-05-20T15:41:33.703078Z"
    }
   },
   "outputs": [],
   "source": [
    "from pyspark.sql import SparkSession\n",
    "from pyspark.sql.functions import col, mean, stddev\n",
    "import pyspark.pandas as pd\n",
    "from pyspark.sql import functions as F\n",
    "from pyspark.sql.window import Window\n",
    "from pyspark.sql.types import FloatType\n",
    "import pyspark.sql.types as types"
   ]
  },
  {
   "cell_type": "code",
   "outputs": [],
   "source": [
    "spark = SparkSession.builder \\\n",
    "        .appName(\"Salary vs. Price\") \\\n",
    "        .config(\"spark.jars\", \"../jdbc/mssql-jdbc-12.6.1.jre8.jar\") \\\n",
    "        .getOrCreate()"
   ],
   "metadata": {
    "collapsed": false,
    "ExecuteTime": {
     "end_time": "2024-05-20T15:41:33.756164Z",
     "start_time": "2024-05-20T15:41:33.731255Z"
    }
   },
   "id": "cfa97bf83cd210bc",
   "execution_count": 116
  },
  {
   "cell_type": "code",
   "outputs": [],
   "source": [
    "def convert_to_common_currency(currency, price):\n",
    "    factors_to_usd = {\n",
    "        \"ARS\": 0.00111,\n",
    "        \"USD\": 1,\n",
    "        \"UYU\": 0.026,\n",
    "        \"PEN\": 0.27\n",
    "    }\n",
    "    return round(factors_to_usd[currency] * price, 2)\n",
    "convert_to_common_currency = F.udf(convert_to_common_currency, FloatType())"
   ],
   "metadata": {
    "collapsed": false,
    "ExecuteTime": {
     "end_time": "2024-05-20T15:41:33.801067Z",
     "start_time": "2024-05-20T15:41:33.789997Z"
    }
   },
   "id": "43a75cfc8504e909",
   "execution_count": 117
  },
  {
   "cell_type": "code",
   "outputs": [],
   "source": [
    "def spark_read_from_db(table_name):\n",
    "    server_name = \"mssql\"\n",
    "    port = \"1433\"\n",
    "    database_name = \"Data\"\n",
    "    url = f\"jdbc:sqlserver://{server_name}:{port};databaseName={database_name}\"\n",
    "    username = \"SA\"\n",
    "    password = \"YourStrongPassword123\"\n",
    "    df = spark.read \\\n",
    "        .format(\"jdbc\") \\\n",
    "        .option(\"url\", url) \\\n",
    "        .option(\"dbtable\", table_name) \\\n",
    "        .option(\"user\", username) \\\n",
    "        .option(\"password\", password) \\\n",
    "        .option(\"encrypt\", \"false\") \\\n",
    "        .option(\"driver\", \"com.microsoft.sqlserver.jdbc.SQLServerDriver\") \\\n",
    "        .load()\n",
    "    return df"
   ],
   "metadata": {
    "collapsed": false,
    "ExecuteTime": {
     "end_time": "2024-05-20T15:41:33.828138Z",
     "start_time": "2024-05-20T15:41:33.812870Z"
    }
   },
   "id": "484fa7d24c4d6584",
   "execution_count": 118
  },
  {
   "cell_type": "code",
   "outputs": [],
   "source": [
    "properties = spark_read_from_db(\"ARProperties\")\n",
    "clients = spark_read_from_db(\"ARClients\")\n",
    "properties_clients = spark_read_from_db(\"PropertiesClients\")\n",
    "join_condition_properties = properties[\"id\"] == properties_clients[\"id_prop\"]\n",
    "join_condition_clients = clients[\"id\"] == properties_clients[\"id_client\"]\n",
    "\n",
    "joined_df = properties_clients.join(clients, join_condition_clients) \\\n",
    "    .join(properties, join_condition_properties)\n",
    "columns_to_drop = [\"id\"]\n",
    "joined_df = joined_df.drop(*columns_to_drop)"
   ],
   "metadata": {
    "collapsed": false,
    "ExecuteTime": {
     "end_time": "2024-05-20T15:41:33.992347Z",
     "start_time": "2024-05-20T15:41:33.833796Z"
    }
   },
   "id": "4daee4104c9f9e1a",
   "execution_count": 119
  },
  {
   "cell_type": "code",
   "outputs": [
    {
     "name": "stdout",
     "output_type": "stream",
     "text": [
      "+-------+---------+----------------+---------+-------------+--------------------+--------------------+-----------------+--------------------+------------------+------+---------+----------+----------+----------+--------------+--------------+---------+--------------------+--------------------+--------+------+-----+--------+---------+-------------+---------------+--------+--------+------------+--------------------+-------------+--------------+\n",
      "|id_prop|id_client|      first_name|last_name|date_of_birth|               email|             address|annual_income_usd|                 job|number_of_children|   sex|education|start_date|  end_date|created_on|      latitude|     longitude|  country|            province|                city|district|estate|rooms|bedrooms|bathrooms|surface_total|surface_covered|   price|currency|price_period|               title|property_type|operation_type|\n",
      "+-------+---------+----------------+---------+-------------+--------------------+--------------------+-----------------+--------------------+------------------+------+---------+----------+----------+----------+--------------+--------------+---------+--------------------+--------------------+--------+------+-----+--------+---------+-------------+---------------+--------+--------+------------+--------------------+-------------+--------------+\n",
      "|      0|   142960|        Geronimo|   Romero|   1984-03-24|  yizjz38b@gmail.com|Camino San Juan N...|           876000|Physiological sci...|                 2|  Male|Secondary|2020-12-25|9999-12-31|2020-12-25|    -32.716652|    -68.642692|Argentina|             Mendoza|                NULL|    NULL|  NULL| NULL|    NULL|     NULL|        350.0|          350.0|    NULL|    NULL|        NULL|Excelentes Lotes ...|      Terrain|          Sale|\n",
      "|      7|    10899|         Agustín|  Morales|   1984-03-07|  kfgtpkne@yahoo.com|Av. J.B. Alberdi ...|           539000|   Freight forwarder|                 1|  Male|  Primary|2020-12-25|9999-12-31|2020-12-25|   -34.6013837|   -58.3726112|Argentina|     Capital Federal|         San Nicolás|    NULL|  NULL| NULL|    NULL|      6.0|         NULL|         1980.0|    NULL|    NULL|     Monthly|Oficina - Centro ...|       Office|          Rent|\n",
      "|     22|   383602|       Juan Cruz| Figueroa|   1969-06-05|  bbczrwi7@gmail.com|Avenida Catamarca...|           704000|Civil engineer, c...|                 2|  Male|Secondary|2020-12-25|2021-01-07|2020-12-25|    -38.012056|    -57.551923|Argentina|Buenos Aires Cost...|       Mar del Plata|    NULL|  NULL|  3.0|     2.0|      1.0|         51.0|           51.0|    NULL|    NULL|     Monthly|Departamento 3 am...|    Apartment|          Sale|\n",
      "|     26|   272666|           Lucio|    Lopez|   1982-01-21|3dlea23q@hotmail.com|Avenida 4 N° 719 ...|           632000|         Pathologist|                 2|  Male|Secondary|2020-12-25|2021-02-05|2020-12-25|-37.9992792815|-57.5451646423|Argentina|Buenos Aires Cost...|       Mar del Plata|    NULL|  NULL|  4.0|     3.0|      2.0|         90.0|           87.0|    NULL|    NULL|     Monthly|Departamento - Ma...|    Apartment|          Rent|\n",
      "|     29|   626497|          Julian|   Chavez|   1983-08-14|fbxigfz0@hotmail.com|Diagonal 6 N° 88 ...|           277000|Research officer,...|                 2|  Male|Secondary|2020-12-25|2021-01-02|2020-12-25|    -38.982898|    -68.350754|Argentina|             Neuquén|         Confluencia|    NULL|  NULL| NULL|    NULL|     NULL|        250.0|          250.0|780000.0|     ARS|        NULL|Venta de Lote en ...|      Terrain|          Sale|\n",
      "|     54|   144129|           Charo|  Ledesma|   1977-09-14|qf01ycwa@hotmail.com|Calle 8 N° 4120 C...|           700000|           Press sub|                 3|  Male|Secondary|2020-12-25|2020-12-26|2020-12-25|    -34.555257|    -58.492172|Argentina|     Capital Federal|            Saavedra|    NULL|  NULL|  3.0|     2.0|      1.0|         NULL|           NULL| 50000.0|     ARS|        NULL|Alquiler Departam...|    Apartment|          Rent|\n",
      "|     77|     8867|           Abril|   Medina|   1988-08-16|47nap30l@hotmail.com|Diagonal Santa Ro...|           642000|Engineer, broadca...|                 0|  Male|Secondary|2020-12-25|9999-12-31|2020-12-25|    -36.442087|   -56.7124686|Argentina|Buenos Aires Cost...|San Clemente del ...|    NULL|  NULL| NULL|    NULL|     NULL|         NULL|           NULL| 23800.0|     USD|     Monthly|Terreno - San Cle...|      Terrain|          Sale|\n",
      "|    130|   132792|          Renata|   Medina|   1992-07-01|  rixe9six@gmail.com|Avenida J.M. de R...|           723000|Education officer...|                 1|Female|Secondary|2020-12-25|9999-12-31|2020-12-25|          NULL|          NULL|Argentina|Bs.As. G.B.A. Zon...|            La Plata|    NULL|  NULL|  2.0|     1.0|      1.0|         36.0|           34.0| 48000.0|     USD|        NULL|8 entre 65 y 66 D...|    Apartment|          Sale|\n",
      "|    167|   653630|          Maximo|   Toledo|   2000-09-15|  am3y1nc6@yahoo.com|Avenida Güemes N°...|           577000|      Energy manager|                 0|  Male|Secondary|2020-12-25|2020-12-29|2020-12-25|    -37.105814|    -56.861265|Argentina|Buenos Aires Cost...|             Pinamar|    NULL|  NULL|  3.0|     2.0|      1.0|         55.0|           55.0| 69000.0|     USD|        NULL|Excelente Depto 3...|    Apartment|          Sale|\n",
      "|    191|   721422|Santino Benjamin|  Cordoba|   1970-09-01|xv4c64zy@hotmail.com|Calle Mitre N° 28...|           786000|     Event organiser|                 3|  Male|Secondary|2020-12-25|2020-12-29|2020-12-25|    -37.022634|    -56.810088|Argentina|Buenos Aires Cost...|     Costa Esmeralda|    NULL|  NULL|  4.0|     3.0|      3.0|       1000.0|          300.0|  2200.0|     USD|        NULL|Casa Alquiler Ecu...|        House|Temporary Rent|\n",
      "+-------+---------+----------------+---------+-------------+--------------------+--------------------+-----------------+--------------------+------------------+------+---------+----------+----------+----------+--------------+--------------+---------+--------------------+--------------------+--------+------+-----+--------+---------+-------------+---------------+--------+--------+------------+--------------------+-------------+--------------+\n"
     ]
    }
   ],
   "source": [
    "joined_df.show(10)"
   ],
   "metadata": {
    "collapsed": false,
    "ExecuteTime": {
     "end_time": "2024-05-20T15:41:41.884814Z",
     "start_time": "2024-05-20T15:41:33.995285Z"
    }
   },
   "id": "39b2e1d5aa0a4b1b",
   "execution_count": 120
  },
  {
   "cell_type": "code",
   "outputs": [],
   "source": [
    "joined_df = joined_df.filter(col(\"operation_type\").isin(\"Sale\"))\n",
    "joined_df = joined_df.filter(~col(\"property_type\").isin(\"Terrain\"))"
   ],
   "metadata": {
    "collapsed": false,
    "ExecuteTime": {
     "end_time": "2024-05-20T15:41:41.921565Z",
     "start_time": "2024-05-20T15:41:41.887237Z"
    }
   },
   "id": "feae2fbf9b0a3964",
   "execution_count": 121
  },
  {
   "cell_type": "code",
   "outputs": [],
   "source": [
    "df = joined_df.na.drop(subset=[\"currency\", \"price\", \"property_type\"])\n"
   ],
   "metadata": {
    "collapsed": false,
    "ExecuteTime": {
     "end_time": "2024-05-20T15:41:41.941941Z",
     "start_time": "2024-05-20T15:41:41.927726Z"
    }
   },
   "id": "8ca120cd6937398e",
   "execution_count": 122
  },
  {
   "cell_type": "code",
   "outputs": [],
   "source": [
    "df = df.withColumn(\"common_currency_price\", convert_to_common_currency(col(\"currency\"), col(\"price\")))\n",
    "df = df.filter(col(\"common_currency_price\").isNotNull())"
   ],
   "metadata": {
    "collapsed": false,
    "ExecuteTime": {
     "end_time": "2024-05-20T15:41:41.996065Z",
     "start_time": "2024-05-20T15:41:41.944942Z"
    }
   },
   "id": "a7e1a7dbccace103",
   "execution_count": 123
  },
  {
   "cell_type": "code",
   "outputs": [],
   "source": [
    "df = df.withColumn(\"months\", (col(\"common_currency_price\"))/(col(\"annual_income_usd\")/(12*35)))"
   ],
   "metadata": {
    "collapsed": false,
    "ExecuteTime": {
     "end_time": "2024-05-20T15:41:42.027384Z",
     "start_time": "2024-05-20T15:41:41.999037Z"
    }
   },
   "id": "e7f97b6822294fa4",
   "execution_count": 124
  },
  {
   "cell_type": "code",
   "outputs": [
    {
     "name": "stdout",
     "output_type": "stream",
     "text": [
      "+---------+--------------------+------------------+---------------------+-----------------+------------------+\n",
      "|id_client|                 job|              city|common_currency_price|annual_income_usd|            months|\n",
      "+---------+--------------------+------------------+---------------------+-----------------+------------------+\n",
      "|   132792|Education officer...|          La Plata|              48000.0|           723000|27.883817427385893|\n",
      "|   653630|      Energy manager|           Pinamar|              69000.0|           577000| 50.22530329289428|\n",
      "|   704166|      Science writer|   Lomas de Zamora|             170000.0|           595000|             120.0|\n",
      "|   321052|Publishing rights...|             Tigre|             125000.0|           381000| 137.7952755905512|\n",
      "|   398460|    Network engineer|         Ituzaingó|             135000.0|           932000| 60.83690987124463|\n",
      "|   527947|           Economist|             Morón|              75000.0|           383000| 82.24543080939948|\n",
      "|   316250|Corporate investm...|           Rosario|              63000.0|           511000| 51.78082191780822|\n",
      "|   727393|Psychologist, pri...|General San Martín|             100000.0|           583000| 72.04116638078902|\n",
      "|   556225|Magazine features...|General San Martín|              80000.0|           592000| 56.75675675675675|\n",
      "|     7465|Furniture conserv...|           Palermo|             215000.0|           887000|101.80383314543404|\n",
      "|   416881|Higher education ...|     Villa Urquiza|              70000.0|           512000|         57.421875|\n",
      "|   652855|Designer, exhibit...|             Tigre|             380000.0|           960000|            166.25|\n",
      "|   582072|           Herbalist|          Belgrano|             310000.0|           487000| 267.3511293634497|\n",
      "|   736175|Pharmacist, hospital|       Confluencia|              62000.0|           505000| 51.56435643564357|\n",
      "|    29669|               Actor|       Confluencia|             270000.0|           890000|127.41573033707864|\n",
      "|   389227|Scientist, resear...|       Confluencia|             140000.0|           909000| 64.68646864686468|\n",
      "|   747209|       Archaeologist|      General Roca|               2886.0|           344000|3.5236046511627905|\n",
      "|   469833|        Geoscientist|         Balvanera|             370000.0|           599000|259.43238731218696|\n",
      "|   707346|Designer, multimedia|          Saavedra|             105000.0|           357000|123.52941176470588|\n",
      "|   623977|  Broadcast engineer|         Chacarita|             108952.0|           576000| 79.44416666666667|\n",
      "+---------+--------------------+------------------+---------------------+-----------------+------------------+\n"
     ]
    }
   ],
   "source": [
    "df.select(\"id_client\", \"job\", \"city\" , \"common_currency_price\", \"annual_income_usd\", \"months\").show(20)"
   ],
   "metadata": {
    "collapsed": false,
    "ExecuteTime": {
     "end_time": "2024-05-20T15:41:44.895940Z",
     "start_time": "2024-05-20T15:41:42.030319Z"
    }
   },
   "id": "4a29b2b08a4d2958",
   "execution_count": 125
  },
  {
   "cell_type": "code",
   "outputs": [],
   "source": [
    "database_name = \"Data_Clean\"\n",
    "table_name = \"HowManySalaries\"\n",
    "url = f\"jdbc:sqlserver://{server_name}:{port};databaseName={database_name}\"\n",
    "df.write \\\n",
    "    .format(\"jdbc\") \\\n",
    "    .option(\"url\", url) \\\n",
    "    .option(\"dbtable\", table_name) \\\n",
    "    .option(\"user\", username) \\\n",
    "    .option(\"password\", password) \\\n",
    "    .option(\"encrypt\", \"false\") \\\n",
    "    .option(\"driver\", \"com.microsoft.sqlserver.jdbc.SQLServerDriver\") \\\n",
    "    .mode(\"overwrite\") \\\n",
    "    .save()"
   ],
   "metadata": {
    "collapsed": false,
    "is_executing": true,
    "ExecuteTime": {
     "start_time": "2024-05-20T15:41:44.899612Z"
    }
   },
   "id": "de6330a48cc5a85d",
   "execution_count": null
  },
  {
   "cell_type": "code",
   "outputs": [],
   "source": [],
   "metadata": {
    "collapsed": false,
    "is_executing": true
   },
   "id": "e0cadd45f9aa0def",
   "execution_count": null
  }
 ],
 "metadata": {
  "kernelspec": {
   "display_name": "Python 3",
   "language": "python",
   "name": "python3"
  },
  "language_info": {
   "codemirror_mode": {
    "name": "ipython",
    "version": 2
   },
   "file_extension": ".py",
   "mimetype": "text/x-python",
   "name": "python",
   "nbconvert_exporter": "python",
   "pygments_lexer": "ipython2",
   "version": "2.7.6"
  }
 },
 "nbformat": 4,
 "nbformat_minor": 5
}
