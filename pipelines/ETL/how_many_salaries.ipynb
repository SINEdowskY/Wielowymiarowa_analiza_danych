{
 "cells": [
  {
   "cell_type": "code",
   "execution_count": 85,
   "id": "initial_id",
   "metadata": {
    "ExecuteTime": {
     "end_time": "2024-05-20T15:41:33.712397Z",
     "start_time": "2024-05-20T15:41:33.703078Z"
    },
    "collapsed": true
   },
   "outputs": [],
   "source": [
    "from pyspark.sql import SparkSession\n",
    "from pyspark.sql.functions import col, mean, stddev, ceil, current_date, year, datediff\n",
    "import pyspark.pandas as pd\n",
    "from pyspark.sql import functions as F\n",
    "from pyspark.sql.window import Window\n",
    "from pyspark.sql.types import FloatType\n",
    "import pyspark.sql.types as types"
   ]
  },
  {
   "cell_type": "code",
   "execution_count": 86,
   "id": "cfa97bf83cd210bc",
   "metadata": {
    "ExecuteTime": {
     "end_time": "2024-05-20T15:41:33.756164Z",
     "start_time": "2024-05-20T15:41:33.731255Z"
    },
    "collapsed": false
   },
   "outputs": [],
   "source": [
    "spark = SparkSession.builder \\\n",
    "        .appName(\"Salary vs. Price\") \\\n",
    "        .config(\"spark.jars\", \"../jdbc/mssql-jdbc-12.6.1.jre8.jar\") \\\n",
    "        .getOrCreate()"
   ]
  },
  {
   "cell_type": "code",
   "execution_count": 87,
   "id": "43a75cfc8504e909",
   "metadata": {
    "ExecuteTime": {
     "end_time": "2024-05-20T15:41:33.801067Z",
     "start_time": "2024-05-20T15:41:33.789997Z"
    },
    "collapsed": false
   },
   "outputs": [],
   "source": [
    "def convert_to_common_currency(currency, price):\n",
    "    factors_to_usd = {\n",
    "        \"ARS\": 0.00111,\n",
    "        \"USD\": 1,\n",
    "        \"UYU\": 0.026,\n",
    "        \"PEN\": 0.27\n",
    "    }\n",
    "    return round(factors_to_usd[currency] * price, 2)\n",
    "convert_to_common_currency = F.udf(convert_to_common_currency, FloatType())"
   ]
  },
  {
   "cell_type": "code",
   "execution_count": 88,
   "id": "484fa7d24c4d6584",
   "metadata": {
    "ExecuteTime": {
     "end_time": "2024-05-20T15:41:33.828138Z",
     "start_time": "2024-05-20T15:41:33.812870Z"
    },
    "collapsed": false
   },
   "outputs": [],
   "source": [
    "def spark_read_from_db(table_name):\n",
    "    server_name = \"mssql\"\n",
    "    port = \"1433\"\n",
    "    database_name = \"Data\"\n",
    "    url = f\"jdbc:sqlserver://{server_name}:{port};databaseName={database_name}\"\n",
    "    username = \"SA\"\n",
    "    password = \"YourStrongPassword123\"\n",
    "    df = spark.read \\\n",
    "        .format(\"jdbc\") \\\n",
    "        .option(\"url\", url) \\\n",
    "        .option(\"dbtable\", table_name) \\\n",
    "        .option(\"user\", username) \\\n",
    "        .option(\"password\", password) \\\n",
    "        .option(\"encrypt\", \"false\") \\\n",
    "        .option(\"driver\", \"com.microsoft.sqlserver.jdbc.SQLServerDriver\") \\\n",
    "        .load()\n",
    "    return df"
   ]
  },
  {
   "cell_type": "code",
   "execution_count": 89,
   "id": "4daee4104c9f9e1a",
   "metadata": {
    "ExecuteTime": {
     "end_time": "2024-05-20T15:41:33.992347Z",
     "start_time": "2024-05-20T15:41:33.833796Z"
    },
    "collapsed": false
   },
   "outputs": [],
   "source": [
    "properties = spark_read_from_db(\"ARProperties\")\n",
    "clients = spark_read_from_db(\"ARClients\")\n",
    "properties_clients = spark_read_from_db(\"PropertiesClients\")\n",
    "join_condition_properties = properties[\"id\"] == properties_clients[\"id_prop\"]\n",
    "join_condition_clients = clients[\"id\"] == properties_clients[\"id_client\"]\n",
    "\n",
    "joined_df = properties_clients.join(clients, join_condition_clients) \\\n",
    "    .join(properties, join_condition_properties)\n",
    "columns_to_drop = [\"id\"]\n",
    "joined_df = joined_df.drop(*columns_to_drop)"
   ]
  },
  {
   "cell_type": "code",
   "execution_count": 90,
   "id": "39b2e1d5aa0a4b1b",
   "metadata": {
    "ExecuteTime": {
     "end_time": "2024-05-20T15:41:41.884814Z",
     "start_time": "2024-05-20T15:41:33.995285Z"
    },
    "collapsed": false
   },
   "outputs": [
    {
     "name": "stdout",
     "output_type": "stream",
     "text": [
      "+-------+---------+----------------+---------+-------------+--------------------+------------------+------+---------+-----------------+----------+----------+----------+-----------+-----------+---------+--------------------+---------------+---------------+------+-----+--------+---------+-------------+---------------+--------+--------+------------+--------------------+-------------------+--------------+\n",
      "|id_prop|id_client|      first_name|last_name|date_of_birth|               email|number_of_children|   sex|education|annual_income_usd|start_date|  end_date|created_on|   latitude|  longitude|  country|            province|           city|       district|estate|rooms|bedrooms|bathrooms|surface_total|surface_covered|   price|currency|price_period|               title|      property_type|operation_type|\n",
      "+-------+---------+----------------+---------+-------------+--------------------+------------------+------+---------+-----------------+----------+----------+----------+-----------+-----------+---------+--------------------+---------------+---------------+------+-----+--------+---------+-------------+---------------+--------+--------+------------+--------------------+-------------------+--------------+\n",
      "| 829149|   799982|         Lourdes|Rodriguez|   1972-07-26|  jgwm9oy7@gmail.com|                 1|  Male|Secondary|           107000|2020-01-08|2020-02-19|2020-01-08|       NULL|       NULL|Argentina|            Santa Fe|        Rosario|           NULL|  NULL| NULL|    NULL|     NULL|         NULL|           NULL| 19500.0|     USD|        NULL|VENTA DE LOTE EN ...|              Other|          Sale|\n",
      "| 268479|   799278|         Luciano|    Lopez|   1993-04-13|  xapk61n2@gmail.com|                 1|  Male|  Primary|            49000|2020-03-01|2020-03-02|2020-03-01|       NULL|       NULL|Argentina|Bs.As. G.B.A. Zon...|         Moreno|   Paso del Rey|  NULL| NULL|    NULL|      3.0|         NULL|           NULL|219000.0|     USD|        NULL|Casa en venta en ...|              Other|          Sale|\n",
      "| 956902|   799882|  Mateo Valentin|  Gimenez|   1969-06-17|  hs6q7wpw@yahoo.com|                 1|  Male|  Primary|            43000|2020-05-06|2020-06-09|2020-05-06|       NULL|       NULL|Argentina|Buenos Aires Cost...|   Mar del Tuyú|           NULL|  NULL|  3.0|     2.0|      1.0|         NULL|           NULL| 65000.0|     USD|        NULL|Departamento en V...|          Apartment|          Sale|\n",
      "| 223110|   799124|            Emma|    Lopez|   1972-09-17|  l904rrx2@gmail.com|                 3|Female| Tertiary|           168000|2020-07-18|2020-08-15|2020-07-18| -34.538158| -58.488111|Argentina|Bs.As. G.B.A. Zon...|  Vicente López|        Florida|  NULL|  4.0|     3.0|      1.0|        130.0|          104.0|239900.0|     USD|        NULL|VENTA PH 4 AMBIEN...|Horizontal Property|          Sale|\n",
      "| 911347|   799162|          Amparo|Fernandez|   2000-10-13|paykpprr@hotmail.com|                 0|  Male|Secondary|            80000|2020-12-30|2021-02-27|2020-12-30| -31.641389| -60.709183|Argentina|            Santa Fe|       Santa Fe|           NULL|  NULL|  4.0|     2.0|      2.0|         95.0|           95.0|    NULL|    NULL|     Monthly|Departamento en v...|          Apartment|          Sale|\n",
      "| 421250|   799360| Thiago Benjamin|    Gomez|   1974-03-12|  qcr1sflf@gmail.com|                 1|  Male| Tertiary|           131000|2020-02-22|2020-02-23|2020-02-22| -38.084614| -57.543318|Argentina|Buenos Aires Cost...|  Mar del Plata|           NULL|  NULL| NULL|    NULL|     NULL|         NULL|           NULL|500000.0|     USD|        NULL|Hotel Punta Mogot...|              Other|          Sale|\n",
      "| 542717|   799706|       Guadalupe| Ferreyra|   1978-11-29|  66dfa5ls@yahoo.com|                 0|  Male|Secondary|            98000|2020-02-29|2020-04-28|2020-02-29|   -34.5745|    -58.423|Argentina|     Capital Federal|        Palermo|           NULL|  NULL| NULL|    NULL|     NULL|         NULL|           NULL|  4400.0|     ARS|        NULL|Alquilo cochera c...|              Other|          Rent|\n",
      "| 184127|   799521|        Victoria|  Mendoza|   1973-08-19|  31kqm2gw@gmail.com|                 1|Female|Secondary|           100000|2020-07-14|2020-08-13|2020-07-14| -34.379851|-58.6916545|Argentina|Bs.As. G.B.A. Zon...|          Tigre|           NULL|  NULL| NULL|     2.0|      2.0|         NULL|           86.0|180000.0|     USD|     Monthly|Casa a la venta e...|              House|          Sale|\n",
      "| 799185|   799208|         Santino| Gonzalez|   1979-09-15|btduowqj@hotmail.com|                 2|  Male|Secondary|            61000|2020-09-23|2021-01-15|2020-09-23|-34.7592689|-58.4102585|Argentina|Bs.As. G.B.A. Zon...|Lomas de Zamora|Lomas de Zamora|  NULL| NULL|    NULL|      2.0|         NULL|           NULL| 18000.0|     ARS|     Monthly|Local - Lomas de ...|Commercial Premises|          Rent|\n",
      "| 442075|   799125|Lautaro Ezequiel|   Valdez|   1975-02-20|  kk31n2tj@gmail.com|                 1|  Male|Secondary|            81000|2020-05-28|9999-12-31|2020-05-28|-39.0507526|-67.6335045|Argentina|           Río Negro|   General Roca|           NULL|  NULL|  5.0|     4.0|      2.0|        247.0|          233.0|    NULL|    NULL|     Monthly|   Casa - Cipolletti|              House|          Sale|\n",
      "+-------+---------+----------------+---------+-------------+--------------------+------------------+------+---------+-----------------+----------+----------+----------+-----------+-----------+---------+--------------------+---------------+---------------+------+-----+--------+---------+-------------+---------------+--------+--------+------------+--------------------+-------------------+--------------+\n",
      "only showing top 10 rows\n",
      "\n"
     ]
    }
   ],
   "source": [
    "joined_df.show(10)"
   ]
  },
  {
   "cell_type": "code",
   "execution_count": 91,
   "id": "feae2fbf9b0a3964",
   "metadata": {
    "ExecuteTime": {
     "end_time": "2024-05-20T15:41:41.921565Z",
     "start_time": "2024-05-20T15:41:41.887237Z"
    },
    "collapsed": false
   },
   "outputs": [],
   "source": [
    "joined_df = joined_df.filter(col(\"operation_type\").isin(\"Sale\"))\n",
    "joined_df = joined_df.filter(~col(\"property_type\").isin(\"Terrain\"))"
   ]
  },
  {
   "cell_type": "code",
   "execution_count": 92,
   "id": "8ca120cd6937398e",
   "metadata": {
    "ExecuteTime": {
     "end_time": "2024-05-20T15:41:41.941941Z",
     "start_time": "2024-05-20T15:41:41.927726Z"
    },
    "collapsed": false
   },
   "outputs": [],
   "source": [
    "df = joined_df.na.drop(subset=[\"currency\", \"price\", \"property_type\"])\n"
   ]
  },
  {
   "cell_type": "code",
   "execution_count": 93,
   "id": "f6dc5a03",
   "metadata": {},
   "outputs": [],
   "source": [
    "df = df.withColumn(\n",
    "    \"age\",\n",
    "    (datediff(current_date(), col(\"date_of_birth\")) / 365.25).cast(\"int\")\n",
    ")"
   ]
  },
  {
   "cell_type": "code",
   "execution_count": 94,
   "id": "a7e1a7dbccace103",
   "metadata": {
    "ExecuteTime": {
     "end_time": "2024-05-20T15:41:41.996065Z",
     "start_time": "2024-05-20T15:41:41.944942Z"
    },
    "collapsed": false
   },
   "outputs": [],
   "source": [
    "df = df.withColumn(\"common_currency_price\", convert_to_common_currency(col(\"currency\"), col(\"price\")))\n",
    "df = df.filter(col(\"common_currency_price\").isNotNull())"
   ]
  },
  {
   "cell_type": "code",
   "execution_count": 95,
   "id": "e7f97b6822294fa4",
   "metadata": {
    "ExecuteTime": {
     "end_time": "2024-05-20T15:41:42.027384Z",
     "start_time": "2024-05-20T15:41:41.999037Z"
    },
    "collapsed": false
   },
   "outputs": [],
   "source": [
    "df = df.withColumn(\"months\", (col(\"common_currency_price\"))/(col(\"annual_income_usd\")/(12)))"
   ]
  },
  {
   "cell_type": "code",
   "execution_count": 96,
   "id": "aa900e89",
   "metadata": {},
   "outputs": [],
   "source": [
    "df = df.withColumn(\"months\", ceil(df.months))"
   ]
  },
  {
   "cell_type": "code",
   "execution_count": 97,
   "id": "dcee882a",
   "metadata": {},
   "outputs": [
    {
     "data": {
      "text/plain": [
       "[('id_prop', 'bigint'),\n",
       " ('id_client', 'bigint'),\n",
       " ('first_name', 'string'),\n",
       " ('last_name', 'string'),\n",
       " ('date_of_birth', 'string'),\n",
       " ('email', 'string'),\n",
       " ('number_of_children', 'bigint'),\n",
       " ('sex', 'string'),\n",
       " ('education', 'string'),\n",
       " ('annual_income_usd', 'bigint'),\n",
       " ('start_date', 'string'),\n",
       " ('end_date', 'string'),\n",
       " ('created_on', 'string'),\n",
       " ('latitude', 'double'),\n",
       " ('longitude', 'double'),\n",
       " ('country', 'string'),\n",
       " ('province', 'string'),\n",
       " ('city', 'string'),\n",
       " ('district', 'string'),\n",
       " ('estate', 'string'),\n",
       " ('rooms', 'double'),\n",
       " ('bedrooms', 'double'),\n",
       " ('bathrooms', 'double'),\n",
       " ('surface_total', 'double'),\n",
       " ('surface_covered', 'double'),\n",
       " ('price', 'double'),\n",
       " ('currency', 'string'),\n",
       " ('price_period', 'string'),\n",
       " ('title', 'string'),\n",
       " ('property_type', 'string'),\n",
       " ('operation_type', 'string'),\n",
       " ('age', 'int'),\n",
       " ('common_currency_price', 'float'),\n",
       " ('months', 'bigint')]"
      ]
     },
     "execution_count": 97,
     "metadata": {},
     "output_type": "execute_result"
    }
   ],
   "source": [
    "df.dtypes"
   ]
  },
  {
   "cell_type": "code",
   "execution_count": 98,
   "id": "4a29b2b08a4d2958",
   "metadata": {
    "ExecuteTime": {
     "end_time": "2024-05-20T15:41:44.895940Z",
     "start_time": "2024-05-20T15:41:42.030319Z"
    },
    "collapsed": false
   },
   "outputs": [
    {
     "name": "stdout",
     "output_type": "stream",
     "text": [
      "+---------+----------------+---------------------+-----------------+------+---------+\n",
      "|id_client|            city|common_currency_price|annual_income_usd|months|education|\n",
      "+---------+----------------+---------------------+-----------------+------+---------+\n",
      "|   799982|         Rosario|              19500.0|           107000|     3|Secondary|\n",
      "|   799278|          Moreno|             219000.0|            49000|    54|  Primary|\n",
      "|   799882|    Mar del Tuyú|              65000.0|            43000|    19|  Primary|\n",
      "|   799124|   Vicente López|             239900.0|           168000|    18| Tertiary|\n",
      "|   799360|   Mar del Plata|             500000.0|           131000|    46| Tertiary|\n",
      "|   799521|           Tigre|             180000.0|           100000|    22|Secondary|\n",
      "|   799884|    Barrio Norte|             232500.0|            47000|    60|Secondary|\n",
      "|   799281|         Rosario|              89500.0|            42000|    26|Secondary|\n",
      "|   799186|        Recoleta|             225000.0|           202000|    14| Tertiary|\n",
      "|   799939|      La Matanza|             265000.0|            98000|    33|Secondary|\n",
      "|   799218|   Mar del Plata|             111111.0|            79000|    17| Tertiary|\n",
      "|   799508|         Córdoba|             210000.0|            80000|    32|Secondary|\n",
      "|   799514|Villa Pueyrredón|              95000.0|            50000|    23|  Primary|\n",
      "|   799957|       Monserrat|              70000.0|            58000|    15|Secondary|\n",
      "|   799402|            NULL|             400000.0|            36000|   134|Secondary|\n",
      "|   799958|       Ituzaingó|             520000.0|            32000|   195|  Primary|\n",
      "|   799956|      Tribunales|             170000.0|           172000|    12| Tertiary|\n",
      "|   799395|         Coghlan|             395000.0|            75000|    64|Secondary|\n",
      "|   799190|        La Plata|              3689.64|            93000|     1|Secondary|\n",
      "|   799325|        La Plata|              70000.0|           202000|     5| Tertiary|\n",
      "+---------+----------------+---------------------+-----------------+------+---------+\n",
      "only showing top 20 rows\n",
      "\n"
     ]
    }
   ],
   "source": [
    "df.select(\"id_client\", \"city\" , \"common_currency_price\", \"annual_income_usd\", \"months\", \"education\").show(20)"
   ]
  },
  {
   "cell_type": "code",
   "execution_count": 99,
   "id": "de6330a48cc5a85d",
   "metadata": {
    "ExecuteTime": {
     "start_time": "2024-05-20T15:41:44.899612Z"
    },
    "collapsed": false,
    "is_executing": true
   },
   "outputs": [],
   "source": [
    "database_name = \"Data_Clean\"\n",
    "table_name = \"HowManySalaries\"\n",
    "server_name = \"mssql\"\n",
    "port = \"1433\"\n",
    "username = \"SA\"\n",
    "password = \"YourStrongPassword123\"\n",
    "url = f\"jdbc:sqlserver://{server_name}:{port};databaseName={database_name}\"\n",
    "df.write \\\n",
    "    .format(\"jdbc\") \\\n",
    "    .option(\"url\", url) \\\n",
    "    .option(\"dbtable\", table_name) \\\n",
    "    .option(\"user\", username) \\\n",
    "    .option(\"password\", password) \\\n",
    "    .option(\"encrypt\", \"false\") \\\n",
    "    .option(\"driver\", \"com.microsoft.sqlserver.jdbc.SQLServerDriver\") \\\n",
    "    .mode(\"overwrite\") \\\n",
    "    .save()"
   ]
  },
  {
   "cell_type": "code",
   "execution_count": null,
   "id": "e0cadd45f9aa0def",
   "metadata": {
    "collapsed": false,
    "is_executing": true
   },
   "outputs": [],
   "source": []
  }
 ],
 "metadata": {
  "kernelspec": {
   "display_name": "Python 3 (ipykernel)",
   "language": "python",
   "name": "python3"
  },
  "language_info": {
   "codemirror_mode": {
    "name": "ipython",
    "version": 3
   },
   "file_extension": ".py",
   "mimetype": "text/x-python",
   "name": "python",
   "nbconvert_exporter": "python",
   "pygments_lexer": "ipython3",
   "version": "3.11.6"
  }
 },
 "nbformat": 4,
 "nbformat_minor": 5
}
