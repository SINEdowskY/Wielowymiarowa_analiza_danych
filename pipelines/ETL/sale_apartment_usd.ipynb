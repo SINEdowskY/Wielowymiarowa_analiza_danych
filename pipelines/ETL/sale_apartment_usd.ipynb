{
 "cells": [
  {
   "cell_type": "code",
   "execution_count": 32,
   "metadata": {},
   "outputs": [],
   "source": [
    "from pyspark.sql import SparkSession\n",
    "from pyspark.sql.functions import col, when\n",
    "import pyspark.pandas as pd\n",
    "from pyspark.sql import functions as F\n",
    "from pyspark.sql.types import FloatType"
   ]
  },
  {
   "cell_type": "code",
   "execution_count": 33,
   "metadata": {},
   "outputs": [],
   "source": [
    "spark = SparkSession.builder \\\n",
    "        .appName(\"Sample PySpark SQL Server Connection\") \\\n",
    "        .config(\"spark.jars\", \"../jdbc/mssql-jdbc-12.6.1.jre8.jar\") \\\n",
    "        .getOrCreate()"
   ]
  },
  {
   "cell_type": "code",
   "execution_count": 34,
   "metadata": {},
   "outputs": [],
   "source": [
    "def convert_to_common_currency(currency, price):\n",
    "    factors_to_usd = {\n",
    "    \"ARS\": 0.0011,\n",
    "    \"USD\": 1,\n",
    "    \"UYU\": 0.026,\n",
    "    \"PEN\": 0.27\n",
    "    }\n",
    "    return round(factors_to_usd[currency]*price,2)\n",
    "convert_to_common_currency = F.udf(convert_to_common_currency, FloatType())\n"
   ]
  },
  {
   "cell_type": "code",
   "execution_count": 35,
   "metadata": {},
   "outputs": [],
   "source": [
    "server_name = \"mssql\"\n",
    "port = \"1433\"\n",
    "database_name = \"Data\"\n",
    "url = f\"jdbc:sqlserver://{server_name}:{port};databaseName={database_name}\"\n",
    "\n",
    "table_name = \"ARProperties\"\n",
    "username = \"SA\"\n",
    "password = \"YourStrongPassword123\"\n",
    "\n",
    "df = spark.read \\\n",
    "        .format(\"jdbc\") \\\n",
    "        .option(\"url\", url) \\\n",
    "        .option(\"dbtable\", table_name) \\\n",
    "        .option(\"user\", username) \\\n",
    "        .option(\"password\", password) \\\n",
    "        .option(\"encrypt\", \"false\") \\\n",
    "        .option(\"driver\", \"com.microsoft.sqlserver.jdbc.SQLServerDriver\") \\\n",
    "        .load()"
   ]
  },
  {
   "cell_type": "code",
   "execution_count": 36,
   "metadata": {},
   "outputs": [],
   "source": [
    "df = df.filter(df[\"property_type\"] == \"Apartment\") \\\n",
    "                .filter(df[\"operation_type\"] == \"Sale\")"
   ]
  },
  {
   "cell_type": "code",
   "execution_count": 37,
   "metadata": {},
   "outputs": [],
   "source": [
    "df = df.na.drop(subset=[\"currency\"])"
   ]
  },
  {
   "cell_type": "code",
   "execution_count": 38,
   "metadata": {},
   "outputs": [],
   "source": [
    "df = df.withColumn(\n",
    "    \"common_currency_price\",\n",
    "    convert_to_common_currency(col(\"currency\"), col(\"price\"))\n",
    ")"
   ]
  },
  {
   "cell_type": "code",
   "execution_count": 39,
   "metadata": {},
   "outputs": [],
   "source": [
    "df = df.select(\n",
    "    df[\"country\"],\n",
    "    df[\"province\"],\n",
    "    df[\"city\"],\n",
    "    df[\"common_currency_price\"]\n",
    ")"
   ]
  },
  {
   "cell_type": "code",
   "execution_count": 40,
   "metadata": {},
   "outputs": [],
   "source": [
    "df = df.withColumn(\n",
    "    \"city\", \n",
    "    when(df[\"city\"].isNull(), df[\"province\"]).otherwise(df[\"city\"])\n",
    ")\n"
   ]
  },
  {
   "cell_type": "code",
   "execution_count": 41,
   "metadata": {},
   "outputs": [],
   "source": [
    "# aggregated = converted_price_df.filter(df[\"property_type\"] == \"Apartment\") \\\n",
    "#     .groupBy(\"country\", \"province\",\"city\") \\\n",
    "#     .agg(F.avg(\"common_currency_price\").alias(\"avg_apartment_price_usd\")) \\\n",
    "#     .withColumn(\"avg_apartment_price_usd\", F.round(\"avg_apartment_price_usd\", 2))"
   ]
  },
  {
   "cell_type": "code",
   "execution_count": 42,
   "metadata": {},
   "outputs": [
    {
     "name": "stdout",
     "output_type": "stream",
     "text": [
      "+---------+--------------------+---------------+---------------------+\n",
      "|  country|            province|           city|common_currency_price|\n",
      "+---------+--------------------+---------------+---------------------+\n",
      "|Argentina|Bs.As. G.B.A. Zon...|Lomas de Zamora|             135000.0|\n",
      "|Argentina|Bs.As. G.B.A. Zon...|          Lanús|              94000.0|\n",
      "|Argentina|Bs.As. G.B.A. Zon...|          Lanús|              65000.0|\n",
      "|Argentina|Bs.As. G.B.A. Zon...|          Lanús|              50000.0|\n",
      "|Argentina|Buenos Aires Cost...|     Mar de Ajó|              60000.0|\n",
      "|Argentina|Buenos Aires Cost...|  Mar del Plata|              75000.0|\n",
      "|Argentina|Bs.As. G.B.A. Zon...|Almirante Brown|             120000.0|\n",
      "|Argentina|Bs.As. G.B.A. Zon...|Lomas de Zamora|              90000.0|\n",
      "|Argentina|Bs.As. G.B.A. Zon...|Lomas de Zamora|             100000.0|\n",
      "|Argentina|Bs.As. G.B.A. Zon...|Lomas de Zamora|              83000.0|\n",
      "|Argentina|Bs.As. G.B.A. Zon...|Lomas de Zamora|             140000.0|\n",
      "|Argentina|Bs.As. G.B.A. Zon...|Lomas de Zamora|             135000.0|\n",
      "|Argentina|Bs.As. G.B.A. Zon...|Lomas de Zamora|              60000.0|\n",
      "|Argentina|Bs.As. G.B.A. Zon...|Lomas de Zamora|              65000.0|\n",
      "|Argentina|Bs.As. G.B.A. Zon...|Lomas de Zamora|              95000.0|\n",
      "|Argentina|Bs.As. G.B.A. Zon...|Lomas de Zamora|             100000.0|\n",
      "|Argentina|Bs.As. G.B.A. Zon...|Lomas de Zamora|              90000.0|\n",
      "|Argentina|Bs.As. G.B.A. Zon...|Lomas de Zamora|             175000.0|\n",
      "|Argentina|Bs.As. G.B.A. Zon...|Lomas de Zamora|              75000.0|\n",
      "|Argentina|Bs.As. G.B.A. Zon...|Lomas de Zamora|             110000.0|\n",
      "+---------+--------------------+---------------+---------------------+\n",
      "only showing top 20 rows\n",
      "\n"
     ]
    }
   ],
   "source": [
    "df.show(20)"
   ]
  },
  {
   "cell_type": "code",
   "execution_count": 43,
   "metadata": {},
   "outputs": [],
   "source": [
    "database_name = \"Data_Clean\"\n",
    "table_name = \"SaleApartmentUSD\"\n",
    "url = f\"jdbc:sqlserver://{server_name}:{port};databaseName={database_name}\"\n",
    "df.write \\\n",
    "    .format(\"jdbc\") \\\n",
    "    .option(\"url\", url) \\\n",
    "    .option(\"dbtable\", table_name) \\\n",
    "    .option(\"user\", username) \\\n",
    "    .option(\"password\", password) \\\n",
    "    .option(\"encrypt\", \"false\") \\\n",
    "    .option(\"driver\", \"com.microsoft.sqlserver.jdbc.SQLServerDriver\") \\\n",
    "    .mode(\"overwrite\") \\\n",
    "    .save()"
   ]
  }
 ],
 "metadata": {
  "kernelspec": {
   "display_name": "Python 3 (ipykernel)",
   "language": "python",
   "name": "python3"
  }
 },
 "nbformat": 4,
 "nbformat_minor": 2
}
