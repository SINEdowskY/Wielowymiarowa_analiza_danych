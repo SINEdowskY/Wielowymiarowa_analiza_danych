{
 "cells": [
  {
   "cell_type": "code",
   "execution_count": 3,
   "metadata": {},
   "outputs": [],
   "source": [
    "from pyspark.sql import SparkSession\n",
    "from pyspark.sql.functions import col, when\n",
    "import pyspark.pandas as pd\n",
    "from pyspark.sql import functions as F\n",
    "from pyspark.sql.types import FloatType"
   ]
  },
  {
   "cell_type": "code",
   "execution_count": 4,
   "metadata": {},
   "outputs": [],
   "source": [
    "spark = SparkSession.builder \\\n",
    "        .appName(\"Sale Apartment by Country, Province, City\") \\\n",
    "        .config(\"spark.jars\", \"../jdbc/mssql-jdbc-12.6.1.jre8.jar\") \\\n",
    "        .getOrCreate()"
   ]
  },
  {
   "cell_type": "code",
   "execution_count": 5,
   "metadata": {},
   "outputs": [],
   "source": [
    "def convert_to_common_currency(currency, price):\n",
    "    factors_to_usd = {\n",
    "    \"ARS\": 0.0011,\n",
    "    \"USD\": 1,\n",
    "    \"UYU\": 0.026,\n",
    "    \"PEN\": 0.27\n",
    "    }\n",
    "    return round(factors_to_usd[currency]*price,2)\n",
    "convert_to_common_currency = F.udf(convert_to_common_currency, FloatType())\n"
   ]
  },
  {
   "cell_type": "code",
   "execution_count": 6,
   "metadata": {},
   "outputs": [],
   "source": [
    "server_name = \"mssql\"\n",
    "port = \"1433\"\n",
    "database_name = \"Data\"\n",
    "url = f\"jdbc:sqlserver://{server_name}:{port};databaseName={database_name}\"\n",
    "\n",
    "table_name = \"ARProperties\"\n",
    "username = \"SA\"\n",
    "password = \"YourStrongPassword123\"\n",
    "\n",
    "df = spark.read \\\n",
    "        .format(\"jdbc\") \\\n",
    "        .option(\"url\", url) \\\n",
    "        .option(\"dbtable\", table_name) \\\n",
    "        .option(\"user\", username) \\\n",
    "        .option(\"password\", password) \\\n",
    "        .option(\"encrypt\", \"false\") \\\n",
    "        .option(\"driver\", \"com.microsoft.sqlserver.jdbc.SQLServerDriver\") \\\n",
    "        .load()"
   ]
  },
  {
   "cell_type": "code",
   "execution_count": 7,
   "metadata": {},
   "outputs": [],
   "source": [
    "df = df.filter(df[\"property_type\"] == \"Apartment\") \\\n",
    "                .filter(df[\"operation_type\"] == \"Sale\")"
   ]
  },
  {
   "cell_type": "code",
   "execution_count": 8,
   "metadata": {},
   "outputs": [],
   "source": [
    "df = df.na.drop(subset=[\"currency\"])"
   ]
  },
  {
   "cell_type": "code",
   "execution_count": 9,
   "metadata": {},
   "outputs": [],
   "source": [
    "df = df.withColumn(\n",
    "    \"common_currency_price\",\n",
    "    convert_to_common_currency(col(\"currency\"), col(\"price\"))\n",
    ")"
   ]
  },
  {
   "cell_type": "code",
   "execution_count": 10,
   "metadata": {},
   "outputs": [],
   "source": [
    "df = df.select(\n",
    "    df[\"country\"],\n",
    "    df[\"province\"],\n",
    "    df[\"city\"],\n",
    "    df[\"common_currency_price\"]\n",
    ")"
   ]
  },
  {
   "cell_type": "code",
   "execution_count": 11,
   "metadata": {},
   "outputs": [],
   "source": [
    "df = df.withColumn(\n",
    "    \"city\", \n",
    "    when(df[\"city\"].isNull(), df[\"province\"]).otherwise(df[\"city\"])\n",
    ")\n"
   ]
  },
  {
   "cell_type": "code",
   "execution_count": 12,
   "metadata": {},
   "outputs": [],
   "source": [
    "# aggregated = converted_price_df.filter(df[\"property_type\"] == \"Apartment\") \\\n",
    "#     .groupBy(\"country\", \"province\",\"city\") \\\n",
    "#     .agg(F.avg(\"common_currency_price\").alias(\"avg_apartment_price_usd\")) \\\n",
    "#     .withColumn(\"avg_apartment_price_usd\", F.round(\"avg_apartment_price_usd\", 2))"
   ]
  },
  {
   "cell_type": "code",
   "execution_count": 13,
   "metadata": {},
   "outputs": [
    {
     "name": "stdout",
     "output_type": "stream",
     "text": [
      "+---------+---------------+------------+---------------------+\n",
      "|  country|       province|        city|common_currency_price|\n",
      "+---------+---------------+------------+---------------------+\n",
      "|Argentina|Capital Federal|    Recoleta|             310000.0|\n",
      "|Argentina|Capital Federal|   Caballito|             315000.0|\n",
      "|Argentina|Capital Federal|   Caballito|             158500.0|\n",
      "|Argentina|Capital Federal|   Chacarita|             240000.0|\n",
      "|Argentina|Capital Federal|  Colegiales|             245000.0|\n",
      "|Argentina|Capital Federal|Barrio Norte|             195000.0|\n",
      "|Argentina|Capital Federal|Barrio Norte|             325000.0|\n",
      "|Argentina|Capital Federal|Villa Crespo|             199000.0|\n",
      "|Argentina|Capital Federal|Villa Crespo|             263329.0|\n",
      "|Argentina|Capital Federal|Villa Crespo|             166600.0|\n",
      "|Argentina|Capital Federal|        Once|             185000.0|\n",
      "|Argentina|Capital Federal|      Retiro|             580000.0|\n",
      "|Argentina|Capital Federal|     Almagro|             215000.0|\n",
      "|Argentina|Capital Federal|     Almagro|             280000.0|\n",
      "|Argentina|Capital Federal|     Almagro|             283000.0|\n",
      "|Argentina|Capital Federal|     Almagro|             300000.0|\n",
      "|Argentina|Capital Federal|     Almagro|             123456.0|\n",
      "|Argentina|Capital Federal|     Almagro|             165000.0|\n",
      "|Argentina|Capital Federal|     Almagro|             165000.0|\n",
      "|Argentina|Capital Federal|     Almagro|             172500.0|\n",
      "+---------+---------------+------------+---------------------+\n",
      "only showing top 20 rows\n",
      "\n"
     ]
    }
   ],
   "source": [
    "df.show(20)"
   ]
  },
  {
   "cell_type": "code",
   "execution_count": 14,
   "metadata": {},
   "outputs": [],
   "source": [
    "database_name = \"Data_Clean\"\n",
    "table_name = \"SaleApartmentUSD\"\n",
    "url = f\"jdbc:sqlserver://{server_name}:{port};databaseName={database_name}\"\n",
    "df.write \\\n",
    "    .format(\"jdbc\") \\\n",
    "    .option(\"url\", url) \\\n",
    "    .option(\"dbtable\", table_name) \\\n",
    "    .option(\"user\", username) \\\n",
    "    .option(\"password\", password) \\\n",
    "    .option(\"encrypt\", \"false\") \\\n",
    "    .option(\"driver\", \"com.microsoft.sqlserver.jdbc.SQLServerDriver\") \\\n",
    "    .mode(\"overwrite\") \\\n",
    "    .save()"
   ]
  }
 ],
 "metadata": {
  "kernelspec": {
   "display_name": "Python 3 (ipykernel)",
   "language": "python",
   "name": "python3"
  },
  "language_info": {
   "codemirror_mode": {
    "name": "ipython",
    "version": 3
   },
   "file_extension": ".py",
   "mimetype": "text/x-python",
   "name": "python",
   "nbconvert_exporter": "python",
   "pygments_lexer": "ipython3",
   "version": "3.11.6"
  }
 },
 "nbformat": 4,
 "nbformat_minor": 2
}
