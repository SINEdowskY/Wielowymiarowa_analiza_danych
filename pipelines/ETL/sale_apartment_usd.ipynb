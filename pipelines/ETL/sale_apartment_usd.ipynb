{
 "cells": [
  {
   "cell_type": "code",
   "execution_count": 24,
   "metadata": {},
   "outputs": [],
   "source": [
    "from pyspark.sql import SparkSession\n",
    "from pyspark.sql.functions import col, when\n",
    "import pyspark.pandas as pd\n",
    "from pyspark.sql import functions as F\n",
    "from pyspark.sql.types import FloatType"
   ]
  },
  {
   "cell_type": "code",
   "execution_count": 25,
   "metadata": {},
   "outputs": [],
   "source": [
    "spark = SparkSession.builder \\\n",
    "        .appName(\"Sale Apartment by Country, Province, City\") \\\n",
    "        .config(\"spark.jars\", \"../jdbc/mssql-jdbc-12.6.1.jre8.jar\") \\\n",
    "        .getOrCreate()"
   ]
  },
  {
   "cell_type": "code",
   "execution_count": 26,
   "metadata": {},
   "outputs": [],
   "source": [
    "def convert_to_common_currency(currency, price):\n",
    "    factors_to_usd = {\n",
    "    \"ARS\": 0.0011,\n",
    "    \"USD\": 1,\n",
    "    \"UYU\": 0.026,\n",
    "    \"PEN\": 0.27\n",
    "    }\n",
    "    return round(factors_to_usd[currency]*price,2)\n",
    "convert_to_common_currency = F.udf(convert_to_common_currency, FloatType())\n"
   ]
  },
  {
   "cell_type": "code",
   "execution_count": 27,
   "metadata": {},
   "outputs": [],
   "source": [
    "server_name = \"mssql\"\n",
    "port = \"1433\"\n",
    "database_name = \"Data\"\n",
    "url = f\"jdbc:sqlserver://{server_name}:{port};databaseName={database_name}\"\n",
    "\n",
    "table_name = \"ARProperties\"\n",
    "username = \"SA\"\n",
    "password = \"YourStrongPassword123\"\n",
    "\n",
    "df = spark.read \\\n",
    "        .format(\"jdbc\") \\\n",
    "        .option(\"url\", url) \\\n",
    "        .option(\"dbtable\", table_name) \\\n",
    "        .option(\"user\", username) \\\n",
    "        .option(\"password\", password) \\\n",
    "        .option(\"encrypt\", \"false\") \\\n",
    "        .option(\"driver\", \"com.microsoft.sqlserver.jdbc.SQLServerDriver\") \\\n",
    "        .load()"
   ]
  },
  {
   "cell_type": "code",
   "execution_count": 28,
   "metadata": {},
   "outputs": [],
   "source": [
    "df = df.filter(df[\"property_type\"] == \"Apartment\") \\\n",
    "                .filter(df[\"operation_type\"] == \"Sale\")"
   ]
  },
  {
   "cell_type": "code",
   "execution_count": 29,
   "metadata": {},
   "outputs": [],
   "source": [
    "df = df.na.drop(subset=[\"currency\"])"
   ]
  },
  {
   "cell_type": "code",
   "execution_count": 30,
   "metadata": {},
   "outputs": [],
   "source": [
    "df = df.withColumn(\n",
    "    \"common_currency_price\",\n",
    "    convert_to_common_currency(col(\"currency\"), col(\"price\"))\n",
    ")"
   ]
  },
  {
   "cell_type": "code",
   "execution_count": 31,
   "metadata": {},
   "outputs": [],
   "source": [
    "df = df.withColumn(\n",
    "    \"city\", \n",
    "    when(df[\"city\"].isNull(), df[\"province\"]).otherwise(df[\"city\"])\n",
    ")\n"
   ]
  },
  {
   "cell_type": "code",
   "execution_count": 32,
   "metadata": {},
   "outputs": [],
   "source": [
    "# aggregated = converted_price_df.filter(df[\"property_type\"] == \"Apartment\") \\\n",
    "#     .groupBy(\"country\", \"province\",\"city\") \\\n",
    "#     .agg(F.avg(\"common_currency_price\").alias(\"avg_apartment_price_usd\")) \\\n",
    "#     .withColumn(\"avg_apartment_price_usd\", F.round(\"avg_apartment_price_usd\", 2))"
   ]
  },
  {
   "cell_type": "code",
   "execution_count": 33,
   "metadata": {},
   "outputs": [
    {
     "name": "stdout",
     "output_type": "stream",
     "text": [
      "+------+----------+----------+----------+--------------+--------------+---------+--------------------+---------------+--------------------+------+-----+--------+---------+-------------+---------------+--------+--------+------------+--------------------+-------------+--------------+---------------------+\n",
      "|    id|start_date|  end_date|created_on|      latitude|     longitude|  country|            province|           city|            district|estate|rooms|bedrooms|bathrooms|surface_total|surface_covered|   price|currency|price_period|               title|property_type|operation_type|common_currency_price|\n",
      "+------+----------+----------+----------+--------------+--------------+---------+--------------------+---------------+--------------------+------+-----+--------+---------+-------------+---------------+--------+--------+------------+--------------------+-------------+--------------+---------------------+\n",
      "|310341|2020-04-27|2020-05-10|2020-04-27|   -34.7536902|   -58.4075223|Argentina|Bs.As. G.B.A. Zon...|Lomas de Zamora|                NULL|  NULL|  1.0|     0.0|     NULL|         NULL|           NULL|135000.0|     USD|        NULL|Departamento en V...|    Apartment|          Sale|             135000.0|\n",
      "|310398|2020-04-27|2020-05-10|2020-04-27|   -34.7099505|      -58.3863|Argentina|Bs.As. G.B.A. Zon...|          Lanús|          Lanús Este|  NULL|  3.0|     2.0|      1.0|         NULL|           NULL| 94000.0|     USD|        NULL|Departamento en V...|    Apartment|          Sale|              94000.0|\n",
      "|310399|2020-04-27|2020-05-10|2020-04-27|-34.7283299975|-58.3762116672|Argentina|Bs.As. G.B.A. Zon...|          Lanús|          Lanús Este|  NULL|  3.0|     2.0|      1.0|         NULL|           NULL| 65000.0|     USD|        NULL|Departamento en V...|    Apartment|          Sale|              65000.0|\n",
      "|310400|2020-04-27|2020-05-10|2020-04-27|   -34.7270793|    -58.408353|Argentina|Bs.As. G.B.A. Zon...|          Lanús|Remedios de Escalada|  NULL|  3.0|     2.0|      1.0|         NULL|           NULL| 50000.0|     USD|        NULL|Departamento en V...|    Apartment|          Sale|              50000.0|\n",
      "|310403|2020-04-27|2020-05-10|2020-04-27|-36.7197438411|-56.6741448291|Argentina|Buenos Aires Cost...|     Mar de Ajó|                NULL|  NULL|  2.0|     1.0|      1.0|         NULL|           NULL| 60000.0|     USD|        NULL|Departamento en V...|    Apartment|          Sale|              60000.0|\n",
      "|310404|2020-04-27|2020-05-10|2020-04-27|          NULL|          NULL|Argentina|Buenos Aires Cost...|  Mar del Plata|                NULL|  NULL|  2.0|     1.0|      1.0|         NULL|           NULL| 75000.0|     USD|        NULL|Departamento en V...|    Apartment|          Sale|              75000.0|\n",
      "|310405|2020-04-27|2020-05-10|2020-04-27|   -34.7983133|    -58.388844|Argentina|Bs.As. G.B.A. Zon...|Almirante Brown|             Adrogué|  NULL|  2.0|     1.0|      1.0|         NULL|           NULL|120000.0|     USD|        NULL|Departamento en V...|    Apartment|          Sale|             120000.0|\n",
      "|310406|2020-04-27|2020-05-10|2020-04-27|   -34.7639191|   -58.4077391|Argentina|Bs.As. G.B.A. Zon...|Lomas de Zamora|                NULL|  NULL|  2.0|     1.0|      1.0|         NULL|           NULL| 90000.0|     USD|        NULL|Departamento en V...|    Apartment|          Sale|              90000.0|\n",
      "|310407|2020-04-27|2020-05-10|2020-04-27|   -34.7509009|   -58.4011474|Argentina|Bs.As. G.B.A. Zon...|Lomas de Zamora|                NULL|  NULL|  2.0|     1.0|      1.0|         NULL|           NULL|100000.0|     USD|        NULL|Departamento en V...|    Apartment|          Sale|             100000.0|\n",
      "|310408|2020-04-27|2020-05-10|2020-04-27|   -34.7461881|   -58.3879345|Argentina|Bs.As. G.B.A. Zon...|Lomas de Zamora|            Banfield|  NULL|  2.0|     1.0|      1.0|         NULL|           NULL| 83000.0|     USD|        NULL|Departamento en V...|    Apartment|          Sale|              83000.0|\n",
      "|310409|2020-04-27|2020-05-10|2020-04-27|   -34.7627942|    -58.402322|Argentina|Bs.As. G.B.A. Zon...|Lomas de Zamora|                NULL|  NULL|  2.0|     1.0|      1.0|         NULL|           NULL|140000.0|     USD|        NULL|Departamento en V...|    Apartment|          Sale|             140000.0|\n",
      "|310410|2020-04-27|2020-05-10|2020-04-27|-34.7539810901|  -58.40133099|Argentina|Bs.As. G.B.A. Zon...|Lomas de Zamora|                NULL|  NULL|  3.0|     2.0|      1.0|         NULL|           NULL|135000.0|     USD|        NULL|Departamento en V...|    Apartment|          Sale|             135000.0|\n",
      "|310411|2020-04-27|2020-05-10|2020-04-27|    -34.756727|   -58.3988843|Argentina|Bs.As. G.B.A. Zon...|Lomas de Zamora|                NULL|  NULL|  2.0|     1.0|      1.0|         NULL|           NULL| 60000.0|     USD|        NULL|Departamento en V...|    Apartment|          Sale|              60000.0|\n",
      "|310412|2020-04-27|2020-05-10|2020-04-27|   -34.7787971|   -58.4002464|Argentina|Bs.As. G.B.A. Zon...|Lomas de Zamora|           Temperley|  NULL|  2.0|     1.0|      1.0|         NULL|           NULL| 65000.0|     USD|        NULL|Departamento en V...|    Apartment|          Sale|              65000.0|\n",
      "|310413|2020-04-27|2020-05-10|2020-04-27|-34.7538400517|-58.4058800165|Argentina|Bs.As. G.B.A. Zon...|Lomas de Zamora|                NULL|  NULL|  2.0|     1.0|      1.0|         NULL|           NULL| 95000.0|     USD|        NULL|Departamento en V...|    Apartment|          Sale|              95000.0|\n",
      "|310414|2020-04-27|2020-05-10|2020-04-27|-34.7623633838|-58.4055927347|Argentina|Bs.As. G.B.A. Zon...|Lomas de Zamora|                NULL|  NULL|  2.0|     1.0|      1.0|         NULL|           NULL|100000.0|     USD|        NULL|Departamento en V...|    Apartment|          Sale|             100000.0|\n",
      "|310415|2020-04-27|2020-05-10|2020-04-27|    -34.762844|   -58.4020401|Argentina|Bs.As. G.B.A. Zon...|Lomas de Zamora|                NULL|  NULL|  3.0|     2.0|      1.0|         NULL|           NULL| 90000.0|     USD|        NULL|Departamento en V...|    Apartment|          Sale|              90000.0|\n",
      "|310416|2020-04-27|2020-05-10|2020-04-27|   -34.7635262|    -58.406472|Argentina|Bs.As. G.B.A. Zon...|Lomas de Zamora|     Lomas de Zamora|  NULL|  3.0|     2.0|      1.0|         NULL|           NULL|175000.0|     USD|        NULL|Departamento en V...|    Apartment|          Sale|             175000.0|\n",
      "|310417|2020-04-27|2020-05-10|2020-04-27|   -34.7553017|   -58.4180038|Argentina|Bs.As. G.B.A. Zon...|Lomas de Zamora|                NULL|  NULL|  2.0|     1.0|      1.0|         NULL|           NULL| 75000.0|     USD|        NULL|Departamento en V...|    Apartment|          Sale|              75000.0|\n",
      "|310418|2020-04-27|2020-05-10|2020-04-27|-34.7543320743|-58.4021143523|Argentina|Bs.As. G.B.A. Zon...|Lomas de Zamora|                NULL|  NULL|  2.0|     1.0|      1.0|         NULL|           NULL|110000.0|     USD|        NULL|Departamento en V...|    Apartment|          Sale|             110000.0|\n",
      "+------+----------+----------+----------+--------------+--------------+---------+--------------------+---------------+--------------------+------+-----+--------+---------+-------------+---------------+--------+--------+------------+--------------------+-------------+--------------+---------------------+\n",
      "only showing top 20 rows\n",
      "\n"
     ]
    }
   ],
   "source": [
    "df.show(20)"
   ]
  },
  {
   "cell_type": "code",
   "execution_count": 34,
   "metadata": {},
   "outputs": [],
   "source": [
    "database_name = \"Data_Clean\"\n",
    "table_name = \"SaleApartmentUSD\"\n",
    "url = f\"jdbc:sqlserver://{server_name}:{port};databaseName={database_name}\"\n",
    "df.write \\\n",
    "    .format(\"jdbc\") \\\n",
    "    .option(\"url\", url) \\\n",
    "    .option(\"dbtable\", table_name) \\\n",
    "    .option(\"user\", username) \\\n",
    "    .option(\"password\", password) \\\n",
    "    .option(\"encrypt\", \"false\") \\\n",
    "    .option(\"driver\", \"com.microsoft.sqlserver.jdbc.SQLServerDriver\") \\\n",
    "    .mode(\"overwrite\") \\\n",
    "    .save()"
   ]
  }
 ],
 "metadata": {
  "kernelspec": {
   "display_name": "Python 3 (ipykernel)",
   "language": "python",
   "name": "python3"
  },
  "language_info": {
   "codemirror_mode": {
    "name": "ipython",
    "version": 3
   },
   "file_extension": ".py",
   "mimetype": "text/x-python",
   "name": "python",
   "nbconvert_exporter": "python",
   "pygments_lexer": "ipython3",
   "version": "3.11.6"
  }
 },
 "nbformat": 4,
 "nbformat_minor": 2
}
