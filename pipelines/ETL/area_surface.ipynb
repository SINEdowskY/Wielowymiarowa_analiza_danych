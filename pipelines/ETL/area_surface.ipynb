{
 "cells": [
  {
   "cell_type": "markdown",
   "metadata": {},
   "source": []
  },
  {
   "cell_type": "code",
   "execution_count": 1,
   "metadata": {},
   "outputs": [
    {
     "name": "stderr",
     "output_type": "stream",
     "text": [
      "/usr/local/spark/python/pyspark/pandas/__init__.py:50: UserWarning: 'PYARROW_IGNORE_TIMEZONE' environment variable was not set. It is required to set this environment variable to '1' in both driver and executor sides if you use pyarrow>=2.0.0. pandas-on-Spark will set it for you but it does not work if there is a Spark context already launched.\n",
      "  warnings.warn(\n"
     ]
    }
   ],
   "source": [
    "from pyspark.sql import SparkSession\n",
    "from pyspark.sql.functions import col, when, count\n",
    "import pyspark.pandas as pd\n",
    "from pyspark.sql import functions as F\n",
    "import pyspark.sql.types as types"
   ]
  },
  {
   "cell_type": "code",
   "execution_count": 2,
   "metadata": {},
   "outputs": [],
   "source": [
    "spark = SparkSession.builder \\\n",
    "        .appName(\"Area surfaces with rooms and property type\") \\\n",
    "        .config(\"spark.jars\", \"../jdbc/mssql-jdbc-12.6.1.jre8.jar\") \\\n",
    "        .getOrCreate()"
   ]
  },
  {
   "cell_type": "code",
   "execution_count": 3,
   "metadata": {},
   "outputs": [],
   "source": [
    "server_name = \"mssql\"\n",
    "port = \"1433\"\n",
    "database_name = \"Data\"\n",
    "url = f\"jdbc:sqlserver://{server_name}:{port};databaseName={database_name}\"\n",
    "\n",
    "table_name = \"ARProperties\"\n",
    "username = \"SA\"\n",
    "password = \"YourStrongPassword123\"\n",
    "\n",
    "df = spark.read \\\n",
    "        .format(\"jdbc\") \\\n",
    "        .option(\"url\", url) \\\n",
    "        .option(\"dbtable\", table_name) \\\n",
    "        .option(\"user\", username) \\\n",
    "        .option(\"password\", password) \\\n",
    "        .option(\"encrypt\", \"false\") \\\n",
    "        .option(\"driver\", \"com.microsoft.sqlserver.jdbc.SQLServerDriver\") \\\n",
    "        .load()"
   ]
  },
  {
   "cell_type": "code",
   "execution_count": 4,
   "metadata": {},
   "outputs": [],
   "source": [
    "df = df.select(df.property_type, df.surface_total, df.surface_covered, df.rooms, df.bedrooms, df.bathrooms)"
   ]
  },
  {
   "cell_type": "code",
   "execution_count": 5,
   "metadata": {},
   "outputs": [],
   "source": [
    "df = df.filter(~col(\"property_type\").isin(\"Terrain\"))"
   ]
  },
  {
   "cell_type": "code",
   "execution_count": 13,
   "metadata": {},
   "outputs": [],
   "source": [
    "def fix_rooms(rooms, bathrooms, bedrooms):\n",
    "    fix = rooms\n",
    "    if not(None in [rooms, bathrooms, bedrooms]):\n",
    "        if rooms < bathrooms+bedrooms:\n",
    "            fix = bathrooms+bedrooms\n",
    "    \n",
    "    return fix\n",
    "\n",
    "def fix_bathrooms(bathrooms):\n",
    "    if bathrooms == 0 or bathrooms == None:\n",
    "        return 1\n",
    "\n",
    "def fix_bedrooms(bedrooms):\n",
    "    if bedrooms == None:\n",
    "        return 0\n",
    "\n",
    "fix_bathrooms = F.udf(fix_bathrooms, types.IntegerType())\n",
    "fix_rooms = F.udf(fix_rooms, types.IntegerType())"
   ]
  },
  {
   "cell_type": "code",
   "execution_count": 14,
   "metadata": {},
   "outputs": [],
   "source": [
    "df = df.withColumns({\n",
    "    \"rooms\":col(\"rooms\").cast(\"integer\"),\n",
    "    \"bathrooms\":col(\"bathrooms\").cast(\"integer\"),\n",
    "    \"bedrooms\":col(\"bedrooms\").cast(\"integer\")\n",
    "})"
   ]
  },
  {
   "cell_type": "code",
   "execution_count": 21,
   "metadata": {},
   "outputs": [],
   "source": [
    "df = df.withColumn(\"bathrooms\", fix_bathrooms(col(\"bathrooms\")))\n",
    "df = df.withColumn(\"rooms\", fix_rooms(col(\"rooms\"), col(\"bathrooms\"), col(\"bedrooms\")))"
   ]
  },
  {
   "cell_type": "code",
   "execution_count": 22,
   "metadata": {},
   "outputs": [
    {
     "name": "stdout",
     "output_type": "stream",
     "text": [
      "+-------------------+-------------+---------------+-----+--------+---------+\n",
      "|      property_type|surface_total|surface_covered|rooms|bedrooms|bathrooms|\n",
      "+-------------------+-------------+---------------+-----+--------+---------+\n",
      "|             Office|         NULL|           NULL|    2|       1|     NULL|\n",
      "|          Apartment|         NULL|           NULL|    1|       0|     NULL|\n",
      "|Commercial Premises|         NULL|           NULL|    1|       0|     NULL|\n",
      "|Commercial Premises|         NULL|           NULL|    1|       0|     NULL|\n",
      "|Commercial Premises|         NULL|           NULL|    1|       0|     NULL|\n",
      "|Commercial Premises|         NULL|           NULL|    1|       0|     NULL|\n",
      "|Commercial Premises|         NULL|           NULL|    1|       0|     NULL|\n",
      "|Commercial Premises|         NULL|           NULL|    1|       0|     NULL|\n",
      "|Commercial Premises|         NULL|           NULL|    1|       0|     NULL|\n",
      "|Commercial Premises|         NULL|           NULL|    2|       1|     NULL|\n",
      "|              House|         NULL|           NULL|    3|       2|        1|\n",
      "|              House|         NULL|           NULL|    3|       2|        1|\n",
      "|              House|         NULL|           NULL|    3|       2|        1|\n",
      "|              House|         NULL|           NULL|    3|       2|        1|\n",
      "|              House|         NULL|           NULL|    3|       2|        1|\n",
      "|              House|         NULL|           NULL|    3|       2|        1|\n",
      "|              House|         NULL|           NULL|    3|       2|        1|\n",
      "|              House|         NULL|           NULL|    5|       4|        1|\n",
      "|              House|         NULL|           NULL|    3|       2|        1|\n",
      "|              House|         NULL|           NULL|    3|       2|        1|\n",
      "+-------------------+-------------+---------------+-----+--------+---------+\n",
      "only showing top 20 rows\n",
      "\n"
     ]
    }
   ],
   "source": [
    "df.show(20)"
   ]
  },
  {
   "cell_type": "code",
   "execution_count": 11,
   "metadata": {},
   "outputs": [
    {
     "name": "stdout",
     "output_type": "stream",
     "text": [
      "+-------------------+----------+--------------+\n",
      "|      property_type|null_count|not_null_count|\n",
      "+-------------------+----------+--------------+\n",
      "|          Apartment|     48273|         48842|\n",
      "|      Village House|       223|           206|\n",
      "|             Office|      2613|          4130|\n",
      "|Commercial Premises|      3853|          5034|\n",
      "|              Other|     54097|          2225|\n",
      "|             Garage|      1319|           743|\n",
      "|          Warehouse|       653|          1016|\n",
      "|              House|     25408|         20866|\n",
      "|Horizontal Property|      5723|          3826|\n",
      "+-------------------+----------+--------------+\n",
      "\n"
     ]
    }
   ],
   "source": [
    "df.groupBy(\"property_type\") \\\n",
    "           .agg(count(when(col(\"surface_total\").isNull(), True)).alias(\"null_count\"),\n",
    "                count(when(col(\"surface_total\").isNotNull(), True)).alias(\"not_null_count\")).show()"
   ]
  }
 ],
 "metadata": {
  "kernelspec": {
   "display_name": "Python 3 (ipykernel)",
   "language": "python",
   "name": "python3"
  },
  "language_info": {
   "codemirror_mode": {
    "name": "ipython",
    "version": 3
   },
   "file_extension": ".py",
   "mimetype": "text/x-python",
   "name": "python",
   "nbconvert_exporter": "python",
   "pygments_lexer": "ipython3",
   "version": "3.11.6"
  }
 },
 "nbformat": 4,
 "nbformat_minor": 2
}
