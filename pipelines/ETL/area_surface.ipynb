{
 "cells": [
  {
   "cell_type": "markdown",
   "metadata": {},
   "source": []
  },
  {
   "cell_type": "code",
   "execution_count": 1,
   "metadata": {
    "ExecuteTime": {
     "end_time": "2024-05-20T15:24:44.732677Z",
     "start_time": "2024-05-20T15:24:36.441649Z"
    }
   },
   "outputs": [
    {
     "name": "stderr",
     "output_type": "stream",
     "text": [
      "/usr/local/spark/python/pyspark/pandas/__init__.py:50: UserWarning: 'PYARROW_IGNORE_TIMEZONE' environment variable was not set. It is required to set this environment variable to '1' in both driver and executor sides if you use pyarrow>=2.0.0. pandas-on-Spark will set it for you but it does not work if there is a Spark context already launched.\n",
      "  warnings.warn(\n"
     ]
    }
   ],
   "source": [
    "from pyspark.sql import SparkSession\n",
    "from pyspark.sql.functions import col, when, count\n",
    "import pyspark.pandas as pd\n",
    "from pyspark.sql import functions as F\n",
    "import pyspark.sql.types as types"
   ]
  },
  {
   "cell_type": "code",
   "execution_count": 2,
   "metadata": {
    "ExecuteTime": {
     "end_time": "2024-05-20T15:24:52.521087Z",
     "start_time": "2024-05-20T15:24:44.735972Z"
    }
   },
   "outputs": [],
   "source": [
    "spark = SparkSession.builder \\\n",
    "        .appName(\"Area surfaces with rooms and property type\") \\\n",
    "        .config(\"spark.jars\", \"../jdbc/mssql-jdbc-12.6.1.jre8.jar\") \\\n",
    "        .getOrCreate()"
   ]
  },
  {
   "cell_type": "code",
   "execution_count": 3,
   "metadata": {
    "ExecuteTime": {
     "end_time": "2024-05-20T15:25:12.857704Z",
     "start_time": "2024-05-20T15:24:52.526735Z"
    }
   },
   "outputs": [],
   "source": [
    "server_name = \"mssql\"\n",
    "port = \"1433\"\n",
    "database_name = \"Data\"\n",
    "url = f\"jdbc:sqlserver://{server_name}:{port};databaseName={database_name}\"\n",
    "\n",
    "table_name = \"ARProperties\"\n",
    "username = \"SA\"\n",
    "password = \"YourStrongPassword123\"\n",
    "\n",
    "df = spark.read \\\n",
    "        .format(\"jdbc\") \\\n",
    "        .option(\"url\", url) \\\n",
    "        .option(\"dbtable\", table_name) \\\n",
    "        .option(\"user\", username) \\\n",
    "        .option(\"password\", password) \\\n",
    "        .option(\"encrypt\", \"false\") \\\n",
    "        .option(\"driver\", \"com.microsoft.sqlserver.jdbc.SQLServerDriver\") \\\n",
    "        .load()"
   ]
  },
  {
   "cell_type": "code",
   "execution_count": 4,
   "metadata": {
    "ExecuteTime": {
     "end_time": "2024-05-20T15:25:15.423366Z",
     "start_time": "2024-05-20T15:25:12.869121Z"
    }
   },
   "outputs": [],
   "source": [
    "df = df.select(df.property_type, df.surface_total, df.surface_covered, df.rooms, df.bedrooms, df.bathrooms)"
   ]
  },
  {
   "cell_type": "code",
   "execution_count": 5,
   "metadata": {
    "ExecuteTime": {
     "end_time": "2024-05-20T15:25:16.311779Z",
     "start_time": "2024-05-20T15:25:15.425711Z"
    }
   },
   "outputs": [],
   "source": [
    "df = df.filter(~col(\"property_type\").isin(\"Terrain\"))"
   ]
  },
  {
   "cell_type": "code",
   "execution_count": 6,
   "metadata": {
    "ExecuteTime": {
     "end_time": "2024-05-20T15:25:16.329385Z",
     "start_time": "2024-05-20T15:25:16.315037Z"
    }
   },
   "outputs": [],
   "source": [
    "def fix_rooms(rooms, bathrooms, bedrooms):\n",
    "    fix = rooms\n",
    "    if not(None in [rooms, bathrooms, bedrooms]):\n",
    "        if rooms < bathrooms+bedrooms:\n",
    "            fix = bathrooms+bedrooms\n",
    "    \n",
    "    return fix\n",
    "\n",
    "def fix_bathrooms(bathrooms):\n",
    "    if bathrooms == 0 or bathrooms == None:\n",
    "        return 1\n",
    "\n",
    "def fix_bedrooms(bedrooms):\n",
    "    if bedrooms == None:\n",
    "        return 0\n",
    "\n",
    "fix_bathrooms = F.udf(fix_bathrooms, types.IntegerType())\n",
    "fix_rooms = F.udf(fix_rooms, types.IntegerType())"
   ]
  },
  {
   "cell_type": "code",
   "execution_count": 7,
   "metadata": {
    "ExecuteTime": {
     "end_time": "2024-05-20T15:25:16.438955Z",
     "start_time": "2024-05-20T15:25:16.331987Z"
    }
   },
   "outputs": [],
   "source": [
    "df = df.withColumns({\n",
    "    \"rooms\":col(\"rooms\").cast(\"integer\"),\n",
    "    \"bathrooms\":col(\"bathrooms\").cast(\"integer\"),\n",
    "    \"bedrooms\":col(\"bedrooms\").cast(\"integer\")\n",
    "})"
   ]
  },
  {
   "cell_type": "code",
   "execution_count": 8,
   "metadata": {
    "ExecuteTime": {
     "end_time": "2024-05-20T15:25:16.788455Z",
     "start_time": "2024-05-20T15:25:16.441420Z"
    }
   },
   "outputs": [],
   "source": [
    "df = df.withColumn(\"bathrooms\", fix_bathrooms(col(\"bathrooms\")))\n",
    "df = df.withColumn(\"rooms\", fix_rooms(col(\"rooms\"), col(\"bathrooms\"), col(\"bedrooms\")))"
   ]
  },
  {
   "cell_type": "code",
   "execution_count": 9,
   "metadata": {
    "ExecuteTime": {
     "end_time": "2024-05-20T15:25:58.477463Z",
     "start_time": "2024-05-20T15:25:16.790787Z"
    }
   },
   "outputs": [
    {
     "name": "stdout",
     "output_type": "stream",
     "text": [
      "+-------------+-------------+---------------+-----+--------+---------+\n",
      "|property_type|surface_total|surface_covered|rooms|bedrooms|bathrooms|\n",
      "+-------------+-------------+---------------+-----+--------+---------+\n",
      "|    Apartment|         40.0|           40.0|    2|       1|     NULL|\n",
      "|       Office|       1300.0|         1300.0| NULL|    NULL|     NULL|\n",
      "|    Apartment|         NULL|           NULL|    2|    NULL|     NULL|\n",
      "|    Apartment|         40.0|           40.0|    2|       1|     NULL|\n",
      "|        Other|      18164.0|        18164.0| NULL|    NULL|        1|\n",
      "|    Apartment|         40.0|           40.0|    2|       1|     NULL|\n",
      "|       Office|        728.0|          728.0| NULL|    NULL|     NULL|\n",
      "|    Apartment|         45.0|           42.0|    2|       1|     NULL|\n",
      "|       Office|         NULL|         1980.0| NULL|    NULL|     NULL|\n",
      "|       Office|        728.0|          728.0| NULL|    NULL|     NULL|\n",
      "|       Office|         NULL|         1980.0| NULL|    NULL|     NULL|\n",
      "|    Apartment|         NULL|           NULL|    2|       1|     NULL|\n",
      "|       Office|         NULL|         1980.0| NULL|    NULL|     NULL|\n",
      "|    Apartment|         NULL|           NULL|    2|       1|     NULL|\n",
      "|       Office|       1300.0|         1300.0| NULL|    NULL|     NULL|\n",
      "|       Office|        297.0|          297.0| NULL|    NULL|     NULL|\n",
      "|    Apartment|         NULL|           NULL|    2|       1|     NULL|\n",
      "|    Warehouse|       1050.0|         1050.0| NULL|    NULL|        1|\n",
      "|       Office|        297.0|          297.0| NULL|    NULL|     NULL|\n",
      "|    Apartment|         NULL|           NULL|    2|       1|     NULL|\n",
      "+-------------+-------------+---------------+-----+--------+---------+\n"
     ]
    }
   ],
   "source": [
    "df.show(20)"
   ]
  },
  {
   "cell_type": "code",
   "execution_count": 10,
   "metadata": {
    "ExecuteTime": {
     "end_time": "2024-05-20T15:26:24.957531Z",
     "start_time": "2024-05-20T15:25:58.506231Z"
    }
   },
   "outputs": [
    {
     "name": "stdout",
     "output_type": "stream",
     "text": [
      "+-------------------+----------+--------------+\n",
      "|      property_type|null_count|not_null_count|\n",
      "+-------------------+----------+--------------+\n",
      "|          Apartment|     43777|         48028|\n",
      "|      Village House|       169|           196|\n",
      "|             Office|      1823|          3721|\n",
      "|Commercial Premises|      3200|          4710|\n",
      "|              Other|     67643|          1807|\n",
      "|             Garage|      1145|           727|\n",
      "|          Warehouse|       617|           884|\n",
      "|              House|     23012|         21398|\n",
      "|Horizontal Property|      4093|          4058|\n",
      "+-------------------+----------+--------------+\n"
     ]
    }
   ],
   "source": [
    "df.groupBy(\"property_type\") \\\n",
    "           .agg(count(when(col(\"surface_total\").isNull(), True)).alias(\"null_count\"),\n",
    "                count(when(col(\"surface_total\").isNotNull(), True)).alias(\"not_null_count\")).show()"
   ]
  }
 ],
 "metadata": {
  "kernelspec": {
   "display_name": "Python 3 (ipykernel)",
   "language": "python",
   "name": "python3"
  }
 },
 "nbformat": 4,
 "nbformat_minor": 2
}
