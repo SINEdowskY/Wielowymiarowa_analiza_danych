{
 "cells": [
  {
   "cell_type": "code",
   "execution_count": 20,
   "metadata": {
    "ExecuteTime": {
     "end_time": "2024-05-20T14:58:41.220918Z",
     "start_time": "2024-05-20T14:58:41.129031Z"
    }
   },
   "outputs": [],
   "source": [
    "from pyspark.sql import SparkSession\n",
    "from pyspark.sql.functions import col\n",
    "import pyspark.pandas as pd\n",
    "import pyspark"
   ]
  },
  {
   "cell_type": "code",
   "execution_count": 21,
   "metadata": {
    "ExecuteTime": {
     "end_time": "2024-05-20T14:58:42.025042Z",
     "start_time": "2024-05-20T14:58:41.928874Z"
    }
   },
   "outputs": [],
   "source": [
    "spark = SparkSession.builder \\\n",
    "        .appName(\"Relational Sample PySpark SQL Server Connection\") \\\n",
    "        .config(\"spark.jars\", \"../jdbc/mssql-jdbc-12.6.1.jre8.jar\") \\\n",
    "        .getOrCreate()"
   ]
  },
  {
   "cell_type": "code",
   "execution_count": 22,
   "metadata": {
    "ExecuteTime": {
     "end_time": "2024-05-20T14:58:42.597216Z",
     "start_time": "2024-05-20T14:58:42.585551Z"
    }
   },
   "outputs": [],
   "source": [
    "def spark_read_from_db(table_name):\n",
    "    server_name = \"mssql\"\n",
    "    port = \"1433\"\n",
    "    database_name = \"Data\"\n",
    "    url = f\"jdbc:sqlserver://{server_name}:{port};databaseName={database_name}\"\n",
    "    username = \"SA\"\n",
    "    password = \"YourStrongPassword123\"\n",
    "    df = spark.read \\\n",
    "        .format(\"jdbc\") \\\n",
    "        .option(\"url\", url) \\\n",
    "        .option(\"dbtable\", table_name) \\\n",
    "        .option(\"user\", username) \\\n",
    "        .option(\"password\", password) \\\n",
    "        .option(\"encrypt\", \"false\") \\\n",
    "        .option(\"driver\", \"com.microsoft.sqlserver.jdbc.SQLServerDriver\") \\\n",
    "        .load()\n",
    "    return df"
   ]
  },
  {
   "cell_type": "code",
   "execution_count": 16,
   "metadata": {
    "ExecuteTime": {
     "end_time": "2024-05-20T14:25:52.051198Z",
     "start_time": "2024-05-20T14:25:51.894270Z"
    }
   },
   "outputs": [],
   "source": [
    "properties = spark_read_from_db(\"ARProperties\")\n",
    "clients = spark_read_from_db(\"ARClients\")\n",
    "properties_clients = spark_read_from_db(\"PropertiesClients\")"
   ]
  },
  {
   "cell_type": "code",
   "execution_count": 17,
   "metadata": {
    "ExecuteTime": {
     "end_time": "2024-05-20T14:25:52.132195Z",
     "start_time": "2024-05-20T14:25:52.054112Z"
    }
   },
   "outputs": [],
   "source": [
    "join_condition_properties = properties[\"id\"] == properties_clients[\"id_prop\"]\n",
    "join_condition_clients = clients[\"id\"] == properties_clients[\"id_client\"]\n",
    "\n",
    "joined_df = properties_clients.join(clients, join_condition_clients) \\\n",
    "                              .join(properties, join_condition_properties)\n",
    "columns_to_drop = [\"id\"]\n",
    "joined_df = joined_df.drop(*columns_to_drop)"
   ]
  },
  {
   "cell_type": "code",
   "execution_count": 19,
   "metadata": {
    "ExecuteTime": {
     "end_time": "2024-05-20T14:26:36.625258Z",
     "start_time": "2024-05-20T14:26:18.409450Z"
    }
   },
   "outputs": [
    {
     "name": "stdout",
     "output_type": "stream",
     "text": [
      "+-------+---------+----------------+---------+-------------+--------------------+--------------------+-----------------+--------------------+------------------+------+---------+----------+----------+----------+--------------+--------------+---------+--------------------+--------------------+--------+------+-----+--------+---------+-------------+---------------+--------+--------+------------+--------------------+-------------+--------------+\n",
      "|id_prop|id_client|      first_name|last_name|date_of_birth|               email|             address|annual_income_usd|                 job|number_of_children|   sex|education|start_date|  end_date|created_on|      latitude|     longitude|  country|            province|                city|district|estate|rooms|bedrooms|bathrooms|surface_total|surface_covered|   price|currency|price_period|               title|property_type|operation_type|\n",
      "+-------+---------+----------------+---------+-------------+--------------------+--------------------+-----------------+--------------------+------------------+------+---------+----------+----------+----------+--------------+--------------+---------+--------------------+--------------------+--------+------+-----+--------+---------+-------------+---------------+--------+--------+------------+--------------------+-------------+--------------+\n",
      "|      0|   142960|        Geronimo|   Romero|   1984-03-24|  yizjz38b@gmail.com|Camino San Juan N...|           876000|Physiological sci...|                 2|  Male|Secondary|2020-12-25|9999-12-31|2020-12-25|    -32.716652|    -68.642692|Argentina|             Mendoza|                NULL|    NULL|  NULL| NULL|    NULL|     NULL|        350.0|          350.0|    NULL|    NULL|        NULL|Excelentes Lotes ...|      Terrain|          Sale|\n",
      "|      7|    10899|         Agustín|  Morales|   1984-03-07|  kfgtpkne@yahoo.com|Av. J.B. Alberdi ...|           539000|   Freight forwarder|                 1|  Male|  Primary|2020-12-25|9999-12-31|2020-12-25|   -34.6013837|   -58.3726112|Argentina|     Capital Federal|         San Nicolás|    NULL|  NULL| NULL|    NULL|      6.0|         NULL|         1980.0|    NULL|    NULL|     Monthly|Oficina - Centro ...|       Office|          Rent|\n",
      "|     22|   383602|       Juan Cruz| Figueroa|   1969-06-05|  bbczrwi7@gmail.com|Avenida Catamarca...|           704000|Civil engineer, c...|                 2|  Male|Secondary|2020-12-25|2021-01-07|2020-12-25|    -38.012056|    -57.551923|Argentina|Buenos Aires Cost...|       Mar del Plata|    NULL|  NULL|  3.0|     2.0|      1.0|         51.0|           51.0|    NULL|    NULL|     Monthly|Departamento 3 am...|    Apartment|          Sale|\n",
      "|     26|   272666|           Lucio|    Lopez|   1982-01-21|3dlea23q@hotmail.com|Avenida 4 N° 719 ...|           632000|         Pathologist|                 2|  Male|Secondary|2020-12-25|2021-02-05|2020-12-25|-37.9992792815|-57.5451646423|Argentina|Buenos Aires Cost...|       Mar del Plata|    NULL|  NULL|  4.0|     3.0|      2.0|         90.0|           87.0|    NULL|    NULL|     Monthly|Departamento - Ma...|    Apartment|          Rent|\n",
      "|     29|   626497|          Julian|   Chavez|   1983-08-14|fbxigfz0@hotmail.com|Diagonal 6 N° 88 ...|           277000|Research officer,...|                 2|  Male|Secondary|2020-12-25|2021-01-02|2020-12-25|    -38.982898|    -68.350754|Argentina|             Neuquén|         Confluencia|    NULL|  NULL| NULL|    NULL|     NULL|        250.0|          250.0|780000.0|     ARS|        NULL|Venta de Lote en ...|      Terrain|          Sale|\n",
      "|     54|   144129|           Charo|  Ledesma|   1977-09-14|qf01ycwa@hotmail.com|Calle 8 N° 4120 C...|           700000|           Press sub|                 3|  Male|Secondary|2020-12-25|2020-12-26|2020-12-25|    -34.555257|    -58.492172|Argentina|     Capital Federal|            Saavedra|    NULL|  NULL|  3.0|     2.0|      1.0|         NULL|           NULL| 50000.0|     ARS|        NULL|Alquiler Departam...|    Apartment|          Rent|\n",
      "|     77|     8867|           Abril|   Medina|   1988-08-16|47nap30l@hotmail.com|Diagonal Santa Ro...|           642000|Engineer, broadca...|                 0|  Male|Secondary|2020-12-25|9999-12-31|2020-12-25|    -36.442087|   -56.7124686|Argentina|Buenos Aires Cost...|San Clemente del ...|    NULL|  NULL| NULL|    NULL|     NULL|         NULL|           NULL| 23800.0|     USD|     Monthly|Terreno - San Cle...|      Terrain|          Sale|\n",
      "|    130|   132792|          Renata|   Medina|   1992-07-01|  rixe9six@gmail.com|Avenida J.M. de R...|           723000|Education officer...|                 1|Female|Secondary|2020-12-25|9999-12-31|2020-12-25|          NULL|          NULL|Argentina|Bs.As. G.B.A. Zon...|            La Plata|    NULL|  NULL|  2.0|     1.0|      1.0|         36.0|           34.0| 48000.0|     USD|        NULL|8 entre 65 y 66 D...|    Apartment|          Sale|\n",
      "|    167|   653630|          Maximo|   Toledo|   2000-09-15|  am3y1nc6@yahoo.com|Avenida Güemes N°...|           577000|      Energy manager|                 0|  Male|Secondary|2020-12-25|2020-12-29|2020-12-25|    -37.105814|    -56.861265|Argentina|Buenos Aires Cost...|             Pinamar|    NULL|  NULL|  3.0|     2.0|      1.0|         55.0|           55.0| 69000.0|     USD|        NULL|Excelente Depto 3...|    Apartment|          Sale|\n",
      "|    191|   721422|Santino Benjamin|  Cordoba|   1970-09-01|xv4c64zy@hotmail.com|Calle Mitre N° 28...|           786000|     Event organiser|                 3|  Male|Secondary|2020-12-25|2020-12-29|2020-12-25|    -37.022634|    -56.810088|Argentina|Buenos Aires Cost...|     Costa Esmeralda|    NULL|  NULL|  4.0|     3.0|      3.0|       1000.0|          300.0|  2200.0|     USD|        NULL|Casa Alquiler Ecu...|        House|Temporary Rent|\n",
      "+-------+---------+----------------+---------+-------------+--------------------+--------------------+-----------------+--------------------+------------------+------+---------+----------+----------+----------+--------------+--------------+---------+--------------------+--------------------+--------+------+-----+--------+---------+-------------+---------------+--------+--------+------------+--------------------+-------------+--------------+\n"
     ]
    }
   ],
   "source": [
    "joined_df.show(10)"
   ]
  },
  {
   "cell_type": "code",
   "outputs": [],
   "source": [],
   "metadata": {
    "collapsed": false
   }
  }
 ],
 "metadata": {
  "kernelspec": {
   "display_name": "Python 3 (ipykernel)",
   "language": "python",
   "name": "python3"
  },
  "language_info": {
   "codemirror_mode": {
    "name": "ipython",
    "version": 3
   },
   "file_extension": ".py",
   "mimetype": "text/x-python",
   "name": "python",
   "nbconvert_exporter": "python",
   "pygments_lexer": "ipython3",
   "version": "3.11.6"
  }
 },
 "nbformat": 4,
 "nbformat_minor": 2
}
