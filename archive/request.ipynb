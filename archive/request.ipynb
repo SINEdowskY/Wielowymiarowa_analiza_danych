{
 "cells": [
  {
   "cell_type": "markdown",
   "metadata": {},
   "source": [
    "### Połączenie"
   ]
  },
  {
   "cell_type": "code",
   "execution_count": 5,
   "metadata": {},
   "outputs": [
    {
     "name": "stdout",
     "output_type": "stream",
     "text": [
      "Wystąpił błąd podczas łączenia z bazą danych: An error occurred while calling o69.load.\n",
      ": com.microsoft.sqlserver.jdbc.SQLServerException: The TCP/IP connection to the host localhost, port 1433 has failed. Error: \"Connection refused. Verify the connection properties. Make sure that an instance of SQL Server is running on the host and accepting TCP/IP connections at the port. Make sure that TCP connections to the port are not blocked by a firewall.\".\n",
      "\tat com.microsoft.sqlserver.jdbc.SQLServerException.makeFromDriverError(SQLServerException.java:233)\n",
      "\tat com.microsoft.sqlserver.jdbc.SQLServerException.convertConnectExceptionToSQLServerException(SQLServerException.java:284)\n",
      "\tat com.microsoft.sqlserver.jdbc.SocketFinder.findSocket(IOBuffer.java:2589)\n",
      "\tat com.microsoft.sqlserver.jdbc.TDSChannel.open(IOBuffer.java:721)\n",
      "\tat com.microsoft.sqlserver.jdbc.SQLServerConnection.connectHelper(SQLServerConnection.java:3763)\n",
      "\tat com.microsoft.sqlserver.jdbc.SQLServerConnection.login(SQLServerConnection.java:3348)\n",
      "\tat com.microsoft.sqlserver.jdbc.SQLServerConnection.connectInternal(SQLServerConnection.java:3179)\n",
      "\tat com.microsoft.sqlserver.jdbc.SQLServerConnection.connect(SQLServerConnection.java:1953)\n",
      "\tat com.microsoft.sqlserver.jdbc.SQLServerDriver.connect(SQLServerDriver.java:1263)\n",
      "\tat org.apache.spark.sql.execution.datasources.jdbc.connection.BasicConnectionProvider.getConnection(BasicConnectionProvider.scala:49)\n",
      "\tat org.apache.spark.sql.execution.datasources.jdbc.connection.ConnectionProviderBase.create(ConnectionProvider.scala:102)\n",
      "\tat org.apache.spark.sql.jdbc.JdbcDialect.$anonfun$createConnectionFactory$1(JdbcDialects.scala:160)\n",
      "\tat org.apache.spark.sql.jdbc.JdbcDialect.$anonfun$createConnectionFactory$1$adapted(JdbcDialects.scala:156)\n",
      "\tat org.apache.spark.sql.execution.datasources.jdbc.JDBCRDD$.getQueryOutputSchema(JDBCRDD.scala:63)\n",
      "\tat org.apache.spark.sql.execution.datasources.jdbc.JDBCRDD$.resolveTable(JDBCRDD.scala:58)\n",
      "\tat org.apache.spark.sql.execution.datasources.jdbc.JDBCRelation$.getSchema(JDBCRelation.scala:241)\n",
      "\tat org.apache.spark.sql.execution.datasources.jdbc.JdbcRelationProvider.createRelation(JdbcRelationProvider.scala:37)\n",
      "\tat org.apache.spark.sql.execution.datasources.DataSource.resolveRelation(DataSource.scala:346)\n",
      "\tat org.apache.spark.sql.DataFrameReader.loadV1Source(DataFrameReader.scala:229)\n",
      "\tat org.apache.spark.sql.DataFrameReader.$anonfun$load$2(DataFrameReader.scala:211)\n",
      "\tat scala.Option.getOrElse(Option.scala:189)\n",
      "\tat org.apache.spark.sql.DataFrameReader.load(DataFrameReader.scala:211)\n",
      "\tat org.apache.spark.sql.DataFrameReader.load(DataFrameReader.scala:172)\n",
      "\tat java.base/jdk.internal.reflect.NativeMethodAccessorImpl.invoke0(Native Method)\n",
      "\tat java.base/jdk.internal.reflect.NativeMethodAccessorImpl.invoke(NativeMethodAccessorImpl.java:77)\n",
      "\tat java.base/jdk.internal.reflect.DelegatingMethodAccessorImpl.invoke(DelegatingMethodAccessorImpl.java:43)\n",
      "\tat java.base/java.lang.reflect.Method.invoke(Method.java:568)\n",
      "\tat py4j.reflection.MethodInvoker.invoke(MethodInvoker.java:244)\n",
      "\tat py4j.reflection.ReflectionEngine.invoke(ReflectionEngine.java:374)\n",
      "\tat py4j.Gateway.invoke(Gateway.java:282)\n",
      "\tat py4j.commands.AbstractCommand.invokeMethod(AbstractCommand.java:132)\n",
      "\tat py4j.commands.CallCommand.execute(CallCommand.java:79)\n",
      "\tat py4j.ClientServerConnection.waitForCommands(ClientServerConnection.java:182)\n",
      "\tat py4j.ClientServerConnection.run(ClientServerConnection.java:106)\n",
      "\tat java.base/java.lang.Thread.run(Thread.java:833)\n",
      "\n"
     ]
    }
   ],
   "source": [
    "from pyspark.sql import SparkSession, Row\n",
    "from pyspark.sql import SparkSession\n",
    "from pyspark.sql.functions import *\n",
    "import pyspark.pandas as ps\n",
    "\n",
    "try:\n",
    "    # Tworzenie sesji Spark\n",
    "    spark = SparkSession.builder \\\n",
    "        .appName(\"PySpark SQL Server Connection\") \\\n",
    "        .config(\"spark.jars\", \"mssql-jdbc-12.6.1.jre8.jar\") \\\n",
    "        .getOrCreate()\n",
    "\n",
    "    # Parametry połączenia z bazą danych MSSQL\n",
    "    server_name = \"localhost\"\n",
    "    port = \"1433\"\n",
    "    database_name = \"NowaBazaDanych2\"\n",
    "    url = f\"jdbc:sqlserver://{server_name}:{port};databaseName={database_name}\"\n",
    "\n",
    "    table_name = \"Pracownicy15\"\n",
    "    username = \"sa\"\n",
    "    password = \"YourStrongPassword123\"\n",
    "\n",
    "    # Wczytanie danych z bazy danych MSSQL\n",
    "    df = spark.read \\\n",
    "        .format(\"jdbc\") \\\n",
    "        .option(\"url\", url) \\\n",
    "        .option(\"dbtable\", table_name) \\\n",
    "        .option(\"user\", username) \\\n",
    "        .option(\"password\", password) \\\n",
    "        .option(\"encrypt\", \"false\") \\\n",
    "        .option(\"driver\", \"com.microsoft.sqlserver.jdbc.SQLServerDriver\") \\\n",
    "        .load()\n",
    "\n",
    "    print(\"Dane zostały pomyślnie wczytane z MSSQL.\")\n",
    "    # Wyświetlenie pierwszych kilku wierszy DataFrame\n",
    "    df.show()\n",
    "\n",
    "except Exception as e:\n",
    "    print(\"Wystąpił błąd podczas łączenia z bazą danych:\", str(e))\n",
    "\n"
   ]
  },
  {
   "cell_type": "markdown",
   "metadata": {},
   "source": [
    "### ETL 1 - Przygotowanie dat do późniejszej analizy"
   ]
  },
  {
   "cell_type": "code",
   "execution_count": 670,
   "metadata": {},
   "outputs": [
    {
     "name": "stdout",
     "output_type": "stream",
     "text": [
      "+--------------------+\n",
      "|           Date Rptd|\n",
      "+--------------------+\n",
      "|01/08/2020 12:00:...|\n",
      "|04/22/2020 12:00:...|\n",
      "|01/27/2020 12:00:...|\n",
      "|01/24/2020 12:00:...|\n",
      "|01/20/2020 12:00:...|\n",
      "|01/24/2020 12:00:...|\n",
      "|01/05/2020 12:00:...|\n",
      "|09/06/2020 12:00:...|\n",
      "|10/10/2020 12:00:...|\n",
      "|06/26/2020 12:00:...|\n",
      "+--------------------+\n",
      "only showing top 10 rows\n",
      "\n"
     ]
    }
   ],
   "source": [
    "df.select('Date Rptd').show(10)"
   ]
  },
  {
   "cell_type": "code",
   "execution_count": 671,
   "metadata": {},
   "outputs": [],
   "source": [
    "from pyspark.sql.functions import split, col\n",
    "\n",
    "df = df.withColumn(\"Date Rptd\", split(col(\"Date Rptd\"), \" \").getItem(0))\n",
    "df = df.withColumn(\"DATE OCC\", split(col(\"DATE OCC\"), \" \").getItem(0))"
   ]
  },
  {
   "cell_type": "code",
   "execution_count": 672,
   "metadata": {},
   "outputs": [
    {
     "name": "stdout",
     "output_type": "stream",
     "text": [
      "+----------+\n",
      "| Date Rptd|\n",
      "+----------+\n",
      "|01/08/2020|\n",
      "|04/22/2020|\n",
      "|01/27/2020|\n",
      "|01/24/2020|\n",
      "|01/20/2020|\n",
      "|01/24/2020|\n",
      "|01/05/2020|\n",
      "|09/06/2020|\n",
      "|10/10/2020|\n",
      "|06/26/2020|\n",
      "|11/12/2020|\n",
      "|09/22/2020|\n",
      "|01/22/2020|\n",
      "|03/16/2022|\n",
      "|03/20/2020|\n",
      "|06/24/2020|\n",
      "|09/04/2020|\n",
      "|02/15/2020|\n",
      "|01/14/2020|\n",
      "|02/10/2020|\n",
      "+----------+\n",
      "only showing top 20 rows\n",
      "\n"
     ]
    }
   ],
   "source": [
    "df.select('Date Rptd').show()"
   ]
  },
  {
   "cell_type": "code",
   "execution_count": 673,
   "metadata": {},
   "outputs": [
    {
     "name": "stdout",
     "output_type": "stream",
     "text": [
      "+---------+----------+----------+--------+----+-----------+-----------+--------+------+-------------------------------------------------------+------------------------+--------+--------+------------+---------+--------------------------------------------------+--------------+----------------------------------------------+------+------------+--------+--------+--------+--------+----------------------------------------+-------------------------------+-------+---------+----------+\n",
      "|DR_NO    |Date Rptd |DATE OCC  |TIME OCC|AREA|AREA NAME  |Rpt Dist No|Part 1-2|Crm Cd|Crm Cd Desc                                            |Mocodes                 |Vict Age|Vict Sex|Vict Descent|Premis Cd|Premis Desc                                       |Weapon Used Cd|Weapon Desc                                   |Status|Status Desc |Crm Cd 1|Crm Cd 2|Crm Cd 3|Crm Cd 4|LOCATION                                |Cross Street                   |LAT    |LON      |data      |\n",
      "+---------+----------+----------+--------+----+-----------+-----------+--------+------+-------------------------------------------------------+------------------------+--------+--------+------------+---------+--------------------------------------------------+--------------+----------------------------------------------+------+------------+--------+--------+--------+--------+----------------------------------------+-------------------------------+-------+---------+----------+\n",
      "|10304468 |08-01-2020|08-01-2020|2230    |3   |Southwest  |377        |2       |624   |BATTERY - SIMPLE ASSAULT                               |0444 0913               |36      |F       |B           |501.0    |SINGLE FAMILY DWELLING                            |400.0         |STRONG-ARM (HANDS, FIST, FEET OR BODILY FORCE)|AO    |Adult Other |624.0   |NULL    |NULL    |NULL    |1100 W  39TH                         PL |NULL                           |34.0141|-118.2978|2020-01-08|\n",
      "|201108617|07-04-2020|07-04-2020|1420    |11  |Northeast  |1143       |2       |354   |THEFT OF IDENTITY                                      |0930 1822               |48      |M       |H           |707.0    |GARAGE/CARPORT                                    |NULL          |NULL                                          |IC    |Invest Cont |354.0   |NULL    |NULL    |NULL    |2900    SAINT GEORGE                 ST |NULL                           |34.1097|-118.2739|2020-04-07|\n",
      "|200205300|27-01-2020|27-01-2020|1650    |2   |Rampart    |202        |2       |762   |LEWD CONDUCT                                           |1259 2004               |16      |F       |H           |101.0    |STREET                                            |NULL          |NULL                                          |IC    |Invest Cont |762.0   |NULL    |NULL    |NULL    |HOOVER                                  |SANTA MONICA                 BL|34.0909|-118.2846|2020-01-27|\n",
      "|200305349|13-01-2020|13-01-2020|1600    |3   |Southwest  |317        |1       |420   |THEFT FROM MOTOR VEHICLE - PETTY ($950 & UNDER)        |NULL                    |0       |NULL    |NULL        |101.0    |STREET                                            |NULL          |NULL                                          |IC    |Invest Cont |420.0   |NULL    |NULL    |NULL    |1700 W  22ND                         ST |NULL                           |34.0364|-118.2976|2020-01-13|\n",
      "|200404741|19-01-2020|19-01-2020|1900    |4   |Hollenbeck |468        |1       |330   |BURGLARY FROM VEHICLE                                  |1300 1302 0344          |25      |M       |H           |101.0    |STREET                                            |NULL          |NULL                                          |IC    |Invest Cont |330.0   |NULL    |NULL    |NULL    |CONCORD                                 |GLEASON                        |34.0371|-118.1972|2020-01-19|\n",
      "|200505247|24-01-2020|24-01-2020|900     |5   |Harbor     |514        |1       |230   |ASSAULT WITH DEADLY WEAPON, AGGRAVATED ASSAULT         |0411 0334 2033 1822     |41      |M       |H           |108.0    |PARKING LOT                                       |207.0         |OTHER KNIFE                                   |IC    |Invest Cont |230.0   |NULL    |NULL    |NULL    |1000 W  ANAHEIM                      ST |NULL                           |33.7897|-118.2787|2020-01-24|\n",
      "|201104160|04-01-2020|04-01-2020|2115    |11  |Northeast  |1101       |1       |330   |BURGLARY FROM VEHICLE                                  |0358 1307 0344 1251     |24      |M       |O           |108.0    |PARKING LOT                                       |500.0         |UNKNOWN WEAPON/OTHER WEAPON                   |IC    |Invest Cont |330.0   |NULL    |NULL    |NULL    |2800 E  OBSERVATORY                  RD |NULL                           |34.1192|-118.3004|2020-01-04|\n",
      "|201113351|06-09-2020|06-09-2020|1800    |11  |Northeast  |1101       |1       |420   |THEFT FROM MOTOR VEHICLE - PETTY ($950 & UNDER)        |1608 0385               |43      |M       |H           |101.0    |STREET                                            |NULL          |NULL                                          |IC    |Invest Cont |420.0   |NULL    |NULL    |NULL    |4700    CRYSTAL SPRINGS              DR |NULL                           |34.1213|-118.274 |2020-09-06|\n",
      "|201013917|08-10-2020|08-10-2020|1030    |10  |West Valley|1008       |1       |331   |THEFT FROM MOTOR VEHICLE - GRAND ($950.01 AND OVER)    |1606 1822 0344 1300     |53      |M       |H           |108.0    |PARKING LOT                                       |NULL          |NULL                                          |IC    |Invest Cont |331.0   |NULL    |NULL    |NULL    |16800    ROSCOE                       BL|NULL                           |34.2206|-118.4982|2020-10-08|\n",
      "|200811145|19-06-2020|19-06-2020|2000    |8   |West LA    |803        |1       |331   |THEFT FROM MOTOR VEHICLE - GRAND ($950.01 AND OVER)    |0344 0385 1822          |59      |F       |O           |101.0    |STREET                                            |NULL          |NULL                                          |IC    |Invest Cont |331.0   |NULL    |NULL    |NULL    |1600    CAPRI                        DR |NULL                           |34.0603|-118.5028|2020-06-19|\n",
      "|200414818|06-11-2020|06-11-2020|1700    |4   |Hollenbeck |471        |1       |331   |THEFT FROM MOTOR VEHICLE - GRAND ($950.01 AND OVER)    |0344                    |0       |M       |X           |108.0    |PARKING LOT                                       |NULL          |NULL                                          |IC    |Invest Cont |331.0   |NULL    |NULL    |NULL    |2200 E  7TH                          ST |NULL                           |34.0347|-118.2253|2020-11-06|\n",
      "|200814402|21-09-2020|21-09-2020|2100    |8   |West LA    |832        |2       |740   |VANDALISM - FELONY ($400 & OVER, ALL CHURCH VANDALISMS)|0329 1607               |45      |M       |W           |504.0    |OTHER RESIDENCE                                   |NULL          |NULL                                          |IC    |Invest Cont |740.0   |NULL    |NULL    |NULL    |11800    DOROTHY                      ST|NULL                           |34.0507|-118.4683|2020-09-21|\n",
      "|201604904|22-01-2020|22-01-2020|1800    |16  |Foothill   |1651       |1       |331   |THEFT FROM MOTOR VEHICLE - GRAND ($950.01 AND OVER)    |0344 1300               |36      |F       |H           |104.0    |DRIVEWAY                                          |NULL          |NULL                                          |AA    |Adult Arrest|331.0   |NULL    |NULL    |NULL    |13100    KELOWNA                      ST|NULL                           |34.2512|-118.419 |2020-01-22|\n",
      "|222007170|15-03-2020|15-03-2020|920     |20  |Olympic    |2054       |2       |740   |VANDALISM - FELONY ($400 & OVER, ALL CHURCH VANDALISMS)|0329 0913 2001          |70      |M       |K           |502.0    |MULTI-UNIT DWELLING (APARTMENT, DUPLEX, ETC)      |NULL          |NULL                                          |IC    |Invest Cont |740.0   |NULL    |NULL    |NULL    |3200    SAN MARINO                   ST |NULL                           |34.0545|-118.2999|2020-03-15|\n",
      "|200109480|20-03-2020|20-03-2020|1500    |1   |Central    |174        |1       |330   |BURGLARY FROM VEHICLE                                  |1307 0329 1822 1609 0344|30      |M       |O           |108.0    |PARKING LOT                                       |NULL          |NULL                                          |IC    |Invest Cont |330.0   |NULL    |NULL    |NULL    |700 S  SPRING                       ST  |NULL                           |34.0445|-118.2523|2020-03-20|\n",
      "|200811056|24-06-2020|24-06-2020|730     |8   |West LA    |831        |2       |940   |EXTORTION                                              |1915 1822 1913 1912     |47      |M       |W           |501.0    |SINGLE FAMILY DWELLING                            |NULL          |NULL                                          |IC    |Invest Cont |940.0   |NULL    |NULL    |NULL    |11900    MAYFIELD                     AV|NULL                           |34.0476|-118.4686|2020-06-24|\n",
      "|200713461|03-09-2020|03-09-2020|2236    |7   |Wilshire   |724        |1       |510   |VEHICLE - STOLEN                                       |NULL                    |0       |NULL    |NULL        |707.0    |GARAGE/CARPORT                                    |NULL          |NULL                                          |IC    |Invest Cont |510.0   |NULL    |NULL    |NULL    |100    THE GROVE                    DR  |NULL                           |34.0747|-118.3563|2020-09-03|\n",
      "|200107191|14-02-2020|14-02-2020|1030    |1   |Central    |124        |2       |624   |BATTERY - SIMPLE ASSAULT                               |0416 1601               |52      |M       |W           |725.0    |GOVERNMENT FACILITY (FEDERAL,STATE, COUNTY & CITY)|400.0         |STRONG-ARM (HANDS, FIST, FEET OR BODILY FORCE)|IC    |Invest Cont |624.0   |NULL    |NULL    |NULL    |200 N  MAIN                         ST  |NULL                           |34.0532|-118.2425|2020-02-14|\n",
      "|200100536|14-01-2020|14-01-2020|1400    |1   |Central    |119        |2       |624   |BATTERY - SIMPLE ASSAULT                               |0447 0910 1822          |0       |M       |H           |834.0    |LA UNION STATION (NOT LINE SPECIFIC)              |400.0         |STRONG-ARM (HANDS, FIST, FEET OR BODILY FORCE)|AO    |Adult Other |624.0   |NULL    |NULL    |NULL    |800 N  ALAMEDA                      ST  |NULL                           |34.0563|-118.2374|2020-01-14|\n",
      "|200206020|10-02-2020|10-02-2020|855     |2   |Rampart    |245        |2       |888   |TRESPASSING                                            |NULL                    |61      |M       |A           |502.0    |MULTI-UNIT DWELLING (APARTMENT, DUPLEX, ETC)      |NULL          |NULL                                          |IC    |Invest Cont |888.0   |NULL    |NULL    |NULL    |500 S  PARK VIEW                    ST  |NULL                           |34.0632|-118.2771|2020-02-10|\n",
      "+---------+----------+----------+--------+----+-----------+-----------+--------+------+-------------------------------------------------------+------------------------+--------+--------+------------+---------+--------------------------------------------------+--------------+----------------------------------------------+------+------------+--------+--------+--------+--------+----------------------------------------+-------------------------------+-------+---------+----------+\n",
      "only showing top 20 rows\n",
      "\n"
     ]
    }
   ],
   "source": [
    "# Konwersja daty do formatu DateType\n",
    "df = df.withColumn(\"data\", to_date(\"Date Rptd\", \"MM/dd/yyyy\"))\n",
    "df = df.withColumn(\"data\", to_date(\"DATE OCC\", \"MM/dd/yyyy\"))\n",
    "\n",
    "# Formatowanie daty na \"dzień miesiąc rok\" po pauzach\n",
    "df = df.withColumn(\"Date Rptd\", date_format(\"data\", \"dd-MM-yyyy\"))\n",
    "df = df.withColumn(\"DATE OCC\", date_format(\"data\", \"dd-MM-yyyy\"))\n",
    "\n",
    "# Wyświetlenie wyniku\n",
    "df.show(truncate=False)"
   ]
  },
  {
   "cell_type": "code",
   "execution_count": 674,
   "metadata": {},
   "outputs": [
    {
     "name": "stdout",
     "output_type": "stream",
     "text": [
      "+---------+----------+----------+--------+----+-----------+-----------+--------+------+--------------------+-------------------+--------+--------+------------+---------+--------------------+--------------+--------------------+------+-----------+--------+--------+--------+--------+--------------------+--------------------+-------+---------+----------+\n",
      "|    DR_NO| Date Rptd|  DATE OCC|TIME OCC|AREA|  AREA NAME|Rpt Dist No|Part 1-2|Crm Cd|         Crm Cd Desc|            Mocodes|Vict Age|Vict Sex|Vict Descent|Premis Cd|         Premis Desc|Weapon Used Cd|         Weapon Desc|Status|Status Desc|Crm Cd 1|Crm Cd 2|Crm Cd 3|Crm Cd 4|            LOCATION|        Cross Street|    LAT|      LON|      data|\n",
      "+---------+----------+----------+--------+----+-----------+-----------+--------+------+--------------------+-------------------+--------+--------+------------+---------+--------------------+--------------+--------------------+------+-----------+--------+--------+--------+--------+--------------------+--------------------+-------+---------+----------+\n",
      "| 10304468|08-01-2020|08-01-2020|    2230|   3|  Southwest|        377|       2|   624|BATTERY - SIMPLE ...|          0444 0913|      36|       F|           B|    501.0|SINGLE FAMILY DWE...|         400.0|STRONG-ARM (HANDS...|    AO|Adult Other|   624.0|    NULL|    NULL|    NULL|1100 W  39TH     ...|                NULL|34.0141|-118.2978|2020-01-08|\n",
      "|201108617|07-04-2020|07-04-2020|    1420|  11|  Northeast|       1143|       2|   354|   THEFT OF IDENTITY|          0930 1822|      48|       M|           H|    707.0|      GARAGE/CARPORT|          NULL|                NULL|    IC|Invest Cont|   354.0|    NULL|    NULL|    NULL|2900    SAINT GEO...|                NULL|34.1097|-118.2739|2020-04-07|\n",
      "|200205300|27-01-2020|27-01-2020|    1650|   2|    Rampart|        202|       2|   762|        LEWD CONDUCT|          1259 2004|      16|       F|           H|    101.0|              STREET|          NULL|                NULL|    IC|Invest Cont|   762.0|    NULL|    NULL|    NULL|              HOOVER|SANTA MONICA     ...|34.0909|-118.2846|2020-01-27|\n",
      "|200305349|13-01-2020|13-01-2020|    1600|   3|  Southwest|        317|       1|   420|THEFT FROM MOTOR ...|               NULL|       0|    NULL|        NULL|    101.0|              STREET|          NULL|                NULL|    IC|Invest Cont|   420.0|    NULL|    NULL|    NULL|1700 W  22ND     ...|                NULL|34.0364|-118.2976|2020-01-13|\n",
      "|200404741|19-01-2020|19-01-2020|    1900|   4| Hollenbeck|        468|       1|   330|BURGLARY FROM VEH...|     1300 1302 0344|      25|       M|           H|    101.0|              STREET|          NULL|                NULL|    IC|Invest Cont|   330.0|    NULL|    NULL|    NULL|             CONCORD|             GLEASON|34.0371|-118.1972|2020-01-19|\n",
      "|200505247|24-01-2020|24-01-2020|     900|   5|     Harbor|        514|       1|   230|ASSAULT WITH DEAD...|0411 0334 2033 1822|      41|       M|           H|    108.0|         PARKING LOT|         207.0|         OTHER KNIFE|    IC|Invest Cont|   230.0|    NULL|    NULL|    NULL|1000 W  ANAHEIM  ...|                NULL|33.7897|-118.2787|2020-01-24|\n",
      "|201104160|04-01-2020|04-01-2020|    2115|  11|  Northeast|       1101|       1|   330|BURGLARY FROM VEH...|0358 1307 0344 1251|      24|       M|           O|    108.0|         PARKING LOT|         500.0|UNKNOWN WEAPON/OT...|    IC|Invest Cont|   330.0|    NULL|    NULL|    NULL|2800 E  OBSERVATO...|                NULL|34.1192|-118.3004|2020-01-04|\n",
      "|201113351|06-09-2020|06-09-2020|    1800|  11|  Northeast|       1101|       1|   420|THEFT FROM MOTOR ...|          1608 0385|      43|       M|           H|    101.0|              STREET|          NULL|                NULL|    IC|Invest Cont|   420.0|    NULL|    NULL|    NULL|4700    CRYSTAL S...|                NULL|34.1213| -118.274|2020-09-06|\n",
      "|201013917|08-10-2020|08-10-2020|    1030|  10|West Valley|       1008|       1|   331|THEFT FROM MOTOR ...|1606 1822 0344 1300|      53|       M|           H|    108.0|         PARKING LOT|          NULL|                NULL|    IC|Invest Cont|   331.0|    NULL|    NULL|    NULL|16800    ROSCOE  ...|                NULL|34.2206|-118.4982|2020-10-08|\n",
      "|200811145|19-06-2020|19-06-2020|    2000|   8|    West LA|        803|       1|   331|THEFT FROM MOTOR ...|     0344 0385 1822|      59|       F|           O|    101.0|              STREET|          NULL|                NULL|    IC|Invest Cont|   331.0|    NULL|    NULL|    NULL|1600    CAPRI    ...|                NULL|34.0603|-118.5028|2020-06-19|\n",
      "+---------+----------+----------+--------+----+-----------+-----------+--------+------+--------------------+-------------------+--------+--------+------------+---------+--------------------+--------------+--------------------+------+-----------+--------+--------+--------+--------+--------------------+--------------------+-------+---------+----------+\n",
      "only showing top 10 rows\n",
      "\n"
     ]
    }
   ],
   "source": [
    "df.show(10)"
   ]
  },
  {
   "cell_type": "code",
   "execution_count": 675,
   "metadata": {},
   "outputs": [
    {
     "name": "stdout",
     "output_type": "stream",
     "text": [
      "Przed zastąpieniem:\n",
      "+--------+\n",
      "|Vict Sex|\n",
      "+--------+\n",
      "|       F|\n",
      "|       M|\n",
      "|       X|\n",
      "|       H|\n",
      "|    NULL|\n",
      "+--------+\n",
      "\n"
     ]
    }
   ],
   "source": [
    "# Wyświetlenie początkowych danych\n",
    "print(\"Przed zastąpieniem:\")\n",
    "df.select('Vict Sex').distinct().show()"
   ]
  },
  {
   "cell_type": "code",
   "execution_count": 676,
   "metadata": {},
   "outputs": [
    {
     "name": "stdout",
     "output_type": "stream",
     "text": [
      "65359\n",
      "12\n"
     ]
    }
   ],
   "source": [
    "count_H = df.filter(df['Vict Sex'].isNotNull()).count()\n",
    "print(count_H)\n",
    "count_H = df.filter(df['Vict Sex'] == 'H').count()\n",
    "print(count_H)"
   ]
  },
  {
   "cell_type": "code",
   "execution_count": 677,
   "metadata": {},
   "outputs": [
    {
     "name": "stdout",
     "output_type": "stream",
     "text": [
      "root\n",
      " |-- DR_NO: long (nullable = true)\n",
      " |-- Date Rptd: string (nullable = true)\n",
      " |-- DATE OCC: string (nullable = true)\n",
      " |-- TIME OCC: long (nullable = true)\n",
      " |-- AREA: long (nullable = true)\n",
      " |-- AREA NAME: string (nullable = true)\n",
      " |-- Rpt Dist No: long (nullable = true)\n",
      " |-- Part 1-2: long (nullable = true)\n",
      " |-- Crm Cd: long (nullable = true)\n",
      " |-- Crm Cd Desc: string (nullable = true)\n",
      " |-- Mocodes: string (nullable = true)\n",
      " |-- Vict Age: long (nullable = true)\n",
      " |-- Vict Sex: string (nullable = true)\n",
      " |-- Vict Descent: string (nullable = true)\n",
      " |-- Premis Cd: double (nullable = true)\n",
      " |-- Premis Desc: string (nullable = true)\n",
      " |-- Weapon Used Cd: double (nullable = true)\n",
      " |-- Weapon Desc: string (nullable = true)\n",
      " |-- Status: string (nullable = true)\n",
      " |-- Status Desc: string (nullable = true)\n",
      " |-- Crm Cd 1: double (nullable = true)\n",
      " |-- Crm Cd 2: double (nullable = true)\n",
      " |-- Crm Cd 3: double (nullable = true)\n",
      " |-- Crm Cd 4: double (nullable = true)\n",
      " |-- LOCATION: string (nullable = true)\n",
      " |-- Cross Street: string (nullable = true)\n",
      " |-- LAT: double (nullable = true)\n",
      " |-- LON: double (nullable = true)\n",
      " |-- data: date (nullable = true)\n",
      "\n"
     ]
    }
   ],
   "source": [
    "outed_data = (df.filter((df['Vict Sex'] == 'H')))\n",
    "df = df.filter((df['Vict Sex'] != 'H'))\n",
    "\n",
    "# Aktualizacja wartości w kolumnie 'Vict Sex'\n",
    "df = df.withColumn(\"Vict Sex\", \n",
    "                   when(df[\"Vict Sex\"] == \"F\", \"Female\")\n",
    "                   .when(df[\"Vict Sex\"] == \"M\", \"Male\")\n",
    "                   .when(df[\"Vict Sex\"] == \"X\", \"X-gender\")\n",
    "                   .when(df[\"Vict Sex\"].isNull(), \"no data\")\n",
    "                   .otherwise(df[\"Vict Sex\"]))\n",
    "\n",
    "df.printSchema()"
   ]
  },
  {
   "cell_type": "code",
   "execution_count": 678,
   "metadata": {},
   "outputs": [
    {
     "data": {
      "text/plain": [
       "DataFrame[Vict Age: bigint]"
      ]
     },
     "execution_count": 678,
     "metadata": {},
     "output_type": "execute_result"
    }
   ],
   "source": [
    "df.select('Vict Age')"
   ]
  },
  {
   "cell_type": "code",
   "execution_count": 679,
   "metadata": {},
   "outputs": [
    {
     "name": "stdout",
     "output_type": "stream",
     "text": [
      "+------------+\n",
      "|Vict Descent|\n",
      "+------------+\n",
      "|           K|\n",
      "|           F|\n",
      "|           B|\n",
      "|           L|\n",
      "|           V|\n",
      "|           U|\n",
      "|           O|\n",
      "|           D|\n",
      "|           C|\n",
      "|           J|\n",
      "|           Z|\n",
      "|           A|\n",
      "|           X|\n",
      "|           W|\n",
      "|           S|\n",
      "|           G|\n",
      "|           I|\n",
      "|           P|\n",
      "|           H|\n",
      "|        NULL|\n",
      "+------------+\n",
      "\n"
     ]
    }
   ],
   "source": [
    "df.select('Vict Descent').distinct().show()"
   ]
  },
  {
   "cell_type": "code",
   "execution_count": 680,
   "metadata": {},
   "outputs": [
    {
     "name": "stdout",
     "output_type": "stream",
     "text": [
      "+------------+-----+\n",
      "|Vict Descent|count|\n",
      "+------------+-----+\n",
      "|           K|  373|\n",
      "|           F|  298|\n",
      "|        NULL|    1|\n",
      "|           B|10804|\n",
      "|           L|    2|\n",
      "|           V|   65|\n",
      "|           U|    9|\n",
      "|           O| 5888|\n",
      "|           D|   10|\n",
      "|           C|  257|\n",
      "|           J|  114|\n",
      "|           Z|   44|\n",
      "|           A| 1648|\n",
      "|           X| 7152|\n",
      "|           W|15423|\n",
      "|           S|    4|\n",
      "|           G|    2|\n",
      "|           I|   69|\n",
      "|           P|   16|\n",
      "|           H|23168|\n",
      "+------------+-----+\n",
      "\n"
     ]
    }
   ],
   "source": [
    "counts_df = df.groupBy(\"Vict Descent\").count()\n",
    "counts_df.show()"
   ]
  },
  {
   "cell_type": "code",
   "execution_count": 681,
   "metadata": {},
   "outputs": [],
   "source": [
    "df_gb = df.groupBy(\"Vict Descent\").count()\n",
    "\n",
    "df_gb = df_gb.orderBy('count', ascending=False)\n",
    "\n",
    "start_row = 6\n",
    "\n",
    "df_gb = df_gb.withColumn(\"row_index\", monotonically_increasing_id())\n",
    "\n",
    "# Przypisanie elementów od 6. wiersza\n",
    "others = df_gb.filter(df_gb[\"row_index\"] >= start_row)\n",
    "\n",
    "top_five = df_gb.filter(df_gb['row_index'] < start_row)"
   ]
  },
  {
   "cell_type": "code",
   "execution_count": 682,
   "metadata": {},
   "outputs": [
    {
     "name": "stdout",
     "output_type": "stream",
     "text": [
      "+------------+-----+---------+\n",
      "|Vict Descent|count|row_index|\n",
      "+------------+-----+---------+\n",
      "|           H|23168|        0|\n",
      "|           W|15423|        1|\n",
      "|           B|10804|        2|\n",
      "|           X| 7152|        3|\n",
      "|           O| 5888|        4|\n",
      "|           A| 1648|        5|\n",
      "+------------+-----+---------+\n",
      "\n"
     ]
    }
   ],
   "source": [
    "top_five.show()"
   ]
  },
  {
   "cell_type": "code",
   "execution_count": 683,
   "metadata": {},
   "outputs": [
    {
     "name": "stdout",
     "output_type": "stream",
     "text": [
      "+------------+-----+---------+\n",
      "|Vict Descent|count|row_index|\n",
      "+------------+-----+---------+\n",
      "|       Other| 1264|        6|\n",
      "+------------+-----+---------+\n",
      "\n"
     ]
    }
   ],
   "source": [
    "suma = others.agg(sum(\"count\")).collect()[0][0]\n",
    "suma\n",
    "\n",
    "data = [('Other', suma, 6)]\n",
    "\n",
    "# Tworzenie ramki danych\n",
    "df_sum = spark.createDataFrame(data, [\"Vict Descent\", \"count\", 'row_index'])\n",
    "\n",
    "df_sum.show()"
   ]
  },
  {
   "cell_type": "code",
   "execution_count": 684,
   "metadata": {},
   "outputs": [
    {
     "name": "stdout",
     "output_type": "stream",
     "text": [
      "+------------+-----+---------+\n",
      "|Vict Descent|count|row_index|\n",
      "+------------+-----+---------+\n",
      "|       Other| 1264|        6|\n",
      "|           H|23168|        0|\n",
      "|           W|15423|        1|\n",
      "|           B|10804|        2|\n",
      "|           X| 7152|        3|\n",
      "|           O| 5888|        4|\n",
      "|           A| 1648|        5|\n",
      "+------------+-----+---------+\n",
      "\n"
     ]
    }
   ],
   "source": [
    "combined_df = df_sum.union(top_five)\n",
    "combined_df.show()"
   ]
  },
  {
   "cell_type": "code",
   "execution_count": 685,
   "metadata": {},
   "outputs": [
    {
     "name": "stdout",
     "output_type": "stream",
     "text": [
      "+------------+-----+---------+\n",
      "|Vict Descent|count|row_index|\n",
      "+------------+-----+---------+\n",
      "|           H|23168|        0|\n",
      "|           W|15423|        1|\n",
      "|           B|10804|        2|\n",
      "|           X| 7152|        3|\n",
      "|           A| 1648|        5|\n",
      "+------------+-----+---------+\n",
      "\n"
     ]
    }
   ],
   "source": [
    "top_five = top_five.filter(top_five[\"Vict Descent\"] != 'O')\n",
    "top_five.show()"
   ]
  },
  {
   "cell_type": "code",
   "execution_count": 686,
   "metadata": {},
   "outputs": [
    {
     "name": "stdout",
     "output_type": "stream",
     "text": [
      "+------------+\n",
      "|Vict Descent|\n",
      "+------------+\n",
      "|           H|\n",
      "|           W|\n",
      "|           B|\n",
      "|           X|\n",
      "|           A|\n",
      "+------------+\n",
      "\n"
     ]
    }
   ],
   "source": [
    "tfv = top_five.select('Vict Descent')\n",
    "tfv.show()"
   ]
  },
  {
   "cell_type": "code",
   "execution_count": 687,
   "metadata": {},
   "outputs": [
    {
     "name": "stdout",
     "output_type": "stream",
     "text": [
      "['H', 'W', 'B', 'X', 'A']\n"
     ]
    }
   ],
   "source": [
    "from pyspark.sql.functions import when\n",
    "\n",
    "# Utworzenie warunku\n",
    "top_five_values = top_five.select('Vict Descent').distinct().collect()\n",
    "top_five_values = [row['Vict Descent'] for row in top_five_values]\n",
    "condition = ~df['Vict Descent'].isin(top_five_values)\n",
    "\n",
    "# Tworzenie nowej kolumny na podstawie warunku\n",
    "df = df.withColumn('Vict Descent', when(condition, 'Other').otherwise(df['Vict Descent']))\n",
    "\n",
    "print(top_five_values)"
   ]
  },
  {
   "cell_type": "code",
   "execution_count": 688,
   "metadata": {},
   "outputs": [],
   "source": [
    "df = df.withColumn(\"Vict Descent\", \n",
    "                   when(df[\"Vict Descent\"] == \"H\", \"Hispanic or Latino\")\n",
    "                   .when(df[\"Vict Descent\"] == \"W\", \"White\")\n",
    "                   .when(df[\"Vict Descent\"] == \"B\", \"Black\")\n",
    "                   .when(df[\"Vict Descent\"] == \"X\", \"X-gender\")\n",
    "                   .when(df[\"Vict Descent\"] == \"O\", \"X-gender\")\n",
    "                   .when(df[\"Vict Descent\"] == \"A\", \"Asian\")\n",
    "                   .otherwise(df[\"Vict Descent\"]))"
   ]
  },
  {
   "cell_type": "code",
   "execution_count": 689,
   "metadata": {},
   "outputs": [
    {
     "name": "stdout",
     "output_type": "stream",
     "text": [
      "+--------+\n",
      "|Vict Age|\n",
      "+--------+\n",
      "|      26|\n",
      "|      29|\n",
      "|      65|\n",
      "|      54|\n",
      "|      19|\n",
      "|       0|\n",
      "|      22|\n",
      "|       7|\n",
      "|      77|\n",
      "|      34|\n",
      "|      50|\n",
      "|      94|\n",
      "|      57|\n",
      "|      43|\n",
      "|      32|\n",
      "|      84|\n",
      "|      31|\n",
      "|      39|\n",
      "|      98|\n",
      "|      25|\n",
      "|      95|\n",
      "|      71|\n",
      "|      68|\n",
      "|       6|\n",
      "|      72|\n",
      "|      87|\n",
      "|      58|\n",
      "|       9|\n",
      "|      27|\n",
      "|      63|\n",
      "|      51|\n",
      "|      56|\n",
      "|      52|\n",
      "|      17|\n",
      "|      79|\n",
      "|      41|\n",
      "|      33|\n",
      "|      28|\n",
      "|      88|\n",
      "|       5|\n",
      "|      96|\n",
      "|      -2|\n",
      "|      10|\n",
      "|      89|\n",
      "|      85|\n",
      "|      48|\n",
      "|      67|\n",
      "|      44|\n",
      "|      61|\n",
      "|       3|\n",
      "|      37|\n",
      "|      83|\n",
      "|      12|\n",
      "|      55|\n",
      "|      74|\n",
      "|       8|\n",
      "|      62|\n",
      "|      49|\n",
      "|      11|\n",
      "|      35|\n",
      "|      80|\n",
      "|       2|\n",
      "|      66|\n",
      "|      76|\n",
      "|       4|\n",
      "|      92|\n",
      "|      13|\n",
      "|      36|\n",
      "|      75|\n",
      "|      78|\n",
      "|      18|\n",
      "|      69|\n",
      "|      14|\n",
      "|      21|\n",
      "|      59|\n",
      "|      15|\n",
      "|      81|\n",
      "|      38|\n",
      "|      82|\n",
      "|      97|\n",
      "|      30|\n",
      "|      42|\n",
      "|      73|\n",
      "|      90|\n",
      "|      23|\n",
      "|      46|\n",
      "|      70|\n",
      "|      20|\n",
      "|      99|\n",
      "|      86|\n",
      "|      60|\n",
      "|      93|\n",
      "|      40|\n",
      "|      16|\n",
      "|      64|\n",
      "|      91|\n",
      "|      -1|\n",
      "|      53|\n",
      "|      45|\n",
      "|      47|\n",
      "|      24|\n",
      "+--------+\n",
      "\n"
     ]
    }
   ],
   "source": [
    "df.select('Vict Age').distinct().show(200)"
   ]
  },
  {
   "cell_type": "code",
   "execution_count": 690,
   "metadata": {},
   "outputs": [
    {
     "name": "stdout",
     "output_type": "stream",
     "text": [
      "+---------------+\n",
      "|Vict Age bucket|\n",
      "+---------------+\n",
      "|          35-60|\n",
      "|          35-60|\n",
      "|           0-18|\n",
      "|          18-35|\n",
      "|          35-60|\n",
      "|          18-35|\n",
      "|          35-60|\n",
      "|          35-60|\n",
      "|          35-60|\n",
      "|           0-18|\n",
      "|          35-60|\n",
      "|          35-60|\n",
      "|         60-120|\n",
      "|          18-35|\n",
      "|          35-60|\n",
      "|          35-60|\n",
      "|           0-18|\n",
      "|         60-120|\n",
      "|          18-35|\n",
      "|          35-60|\n",
      "+---------------+\n",
      "only showing top 20 rows\n",
      "\n"
     ]
    }
   ],
   "source": [
    "from pyspark.ml.feature import Bucketizer\n",
    "\n",
    "df = df.filter(df['Vict Age'] >= 0)\n",
    "bucketizer = Bucketizer(splits=[0, 18, 35, 60,120, float('Inf') ],inputCol=\"Vict Age\", outputCol=\"Vict Age bucket\")\n",
    "df = bucketizer.setHandleInvalid(\"keep\").transform(df)\n",
    "\n",
    "# Aktualizacja wartości w kolumnie 'Vict Age bucket'\n",
    "df = df.withColumn(\"Vict Age bucket\", \n",
    "                   when(df[\"Vict Age bucket\"] == 0.0, \"0-18\")\n",
    "                   .when(df[\"Vict Age bucket\"] == 1.0, \"18-35\")\n",
    "                   .when(df[\"Vict Age bucket\"] == 2.0, \"35-60\")\n",
    "                   .when(df[\"Vict Age bucket\"] == 3.0, \"60-120\")\n",
    "                   .otherwise(\"Unknown\"))\n",
    "\n",
    "df.select('Vict Age bucket').show()"
   ]
  },
  {
   "cell_type": "code",
   "execution_count": 691,
   "metadata": {},
   "outputs": [],
   "source": [
    "server_name = \"localhost\"\n",
    "port = \"1433\"\n",
    "database_name = \"After_ETL\"\n",
    "url = f\"jdbc:sqlserver://{server_name}:{port};databaseName={database_name}\"\n",
    "\n",
    "table_name = \"Clean_table1\"\n",
    "username = \"sa\"\n",
    "password = \"YourStrongPassword123\"\n",
    "\n",
    "df.write \\\n",
    "    .format(\"jdbc\") \\\n",
    "    .option(\"url\", url) \\\n",
    "    .option(\"dbtable\", table_name) \\\n",
    "    .option(\"user\", username) \\\n",
    "    .option(\"password\", password) \\\n",
    "    .option(\"encrypt\", \"false\") \\\n",
    "    .option(\"driver\", \"com.microsoft.sqlserver.jdbc.SQLServerDriver\") \\\n",
    "    .mode(\"append\") \\\n",
    "    .save()"
   ]
  },
  {
   "cell_type": "code",
   "execution_count": 692,
   "metadata": {},
   "outputs": [],
   "source": [
    "# Zakończenie sesji Spark\n",
    "#spark.stop()"
   ]
  }
 ],
 "metadata": {
  "kernelspec": {
   "display_name": "Python 3 (ipykernel)",
   "language": "python",
   "name": "python3"
  },
  "language_info": {
   "codemirror_mode": {
    "name": "ipython",
    "version": 3
   },
   "file_extension": ".py",
   "mimetype": "text/x-python",
   "name": "python",
   "nbconvert_exporter": "python",
   "pygments_lexer": "ipython3",
   "version": "3.11.6"
  }
 },
 "nbformat": 4,
 "nbformat_minor": 4
}
